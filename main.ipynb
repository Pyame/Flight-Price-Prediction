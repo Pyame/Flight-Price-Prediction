{
 "cells": [
  {
   "cell_type": "markdown",
   "metadata": {},
   "source": [
    "# Flight price prediction"
   ]
  },
  {
   "cell_type": "markdown",
   "metadata": {},
   "source": [
    "## Questions\n",
    "a) Does price vary with Airlines?\n",
    "\n",
    "b) How is the price affected when tickets are bought in just 1 or 2 days before departure?\n",
    "\n",
    "c) Does ticket price change based on the departure time and arrival time?\n",
    "\n",
    "d) How the price changes with change in Source and Destination?\n",
    "\n",
    "e) How does the ticket price vary between Economy and Business class?"
   ]
  },
  {
   "cell_type": "code",
   "execution_count": 2,
   "metadata": {
    "ExecuteTime": {
     "end_time": "2023-10-29T15:40:51.864857275Z",
     "start_time": "2023-10-29T15:40:51.505550455Z"
    }
   },
   "outputs": [],
   "source": [
    "import pandas as pd\n",
    "import numpy as np\n",
    "import matplotlib.pyplot as plt"
   ]
  },
  {
   "cell_type": "markdown",
   "metadata": {},
   "source": [
    "## Load Data"
   ]
  },
  {
   "cell_type": "code",
   "execution_count": 42,
   "metadata": {
    "ExecuteTime": {
     "end_time": "2023-10-29T16:11:24.613461648Z",
     "start_time": "2023-10-29T16:11:24.257456391Z"
    }
   },
   "outputs": [],
   "source": [
    "df_clean = pd.read_csv('./data/Clean_Dataset.csv')\n",
    "df_business = pd.read_csv('./data/business.csv')\n",
    "df_business['stop'] = df_business['stop'].str.replace(r'\\s+', ' ', regex=True)\n",
    "df_economy = pd.read_csv('./data/economy.csv')"
   ]
  },
  {
   "cell_type": "code",
   "execution_count": 43,
   "metadata": {
    "ExecuteTime": {
     "end_time": "2023-10-29T16:11:26.349795659Z",
     "start_time": "2023-10-29T16:11:26.347312629Z"
    }
   },
   "outputs": [
    {
     "data": {
      "text/plain": "        Unnamed: 0   airline   flight source_city departure_time stops  \\\n0                0  SpiceJet  SG-8709       Delhi        Evening  zero   \n1                1  SpiceJet  SG-8157       Delhi  Early_Morning  zero   \n2                2   AirAsia   I5-764       Delhi  Early_Morning  zero   \n3                3   Vistara   UK-995       Delhi        Morning  zero   \n4                4   Vistara   UK-963       Delhi        Morning  zero   \n...            ...       ...      ...         ...            ...   ...   \n300148      300148   Vistara   UK-822     Chennai        Morning   one   \n300149      300149   Vistara   UK-826     Chennai      Afternoon   one   \n300150      300150   Vistara   UK-832     Chennai  Early_Morning   one   \n300151      300151   Vistara   UK-828     Chennai  Early_Morning   one   \n300152      300152   Vistara   UK-822     Chennai        Morning   one   \n\n         arrival_time destination_city     class  duration  days_left  price  \n0               Night           Mumbai   Economy      2.17          1   5953  \n1             Morning           Mumbai   Economy      2.33          1   5953  \n2       Early_Morning           Mumbai   Economy      2.17          1   5956  \n3           Afternoon           Mumbai   Economy      2.25          1   5955  \n4             Morning           Mumbai   Economy      2.33          1   5955  \n...               ...              ...       ...       ...        ...    ...  \n300148        Evening        Hyderabad  Business     10.08         49  69265  \n300149          Night        Hyderabad  Business     10.42         49  77105  \n300150          Night        Hyderabad  Business     13.83         49  79099  \n300151        Evening        Hyderabad  Business     10.00         49  81585  \n300152        Evening        Hyderabad  Business     10.08         49  81585  \n\n[300153 rows x 12 columns]",
      "text/html": "<div>\n<style scoped>\n    .dataframe tbody tr th:only-of-type {\n        vertical-align: middle;\n    }\n\n    .dataframe tbody tr th {\n        vertical-align: top;\n    }\n\n    .dataframe thead th {\n        text-align: right;\n    }\n</style>\n<table border=\"1\" class=\"dataframe\">\n  <thead>\n    <tr style=\"text-align: right;\">\n      <th></th>\n      <th>Unnamed: 0</th>\n      <th>airline</th>\n      <th>flight</th>\n      <th>source_city</th>\n      <th>departure_time</th>\n      <th>stops</th>\n      <th>arrival_time</th>\n      <th>destination_city</th>\n      <th>class</th>\n      <th>duration</th>\n      <th>days_left</th>\n      <th>price</th>\n    </tr>\n  </thead>\n  <tbody>\n    <tr>\n      <th>0</th>\n      <td>0</td>\n      <td>SpiceJet</td>\n      <td>SG-8709</td>\n      <td>Delhi</td>\n      <td>Evening</td>\n      <td>zero</td>\n      <td>Night</td>\n      <td>Mumbai</td>\n      <td>Economy</td>\n      <td>2.17</td>\n      <td>1</td>\n      <td>5953</td>\n    </tr>\n    <tr>\n      <th>1</th>\n      <td>1</td>\n      <td>SpiceJet</td>\n      <td>SG-8157</td>\n      <td>Delhi</td>\n      <td>Early_Morning</td>\n      <td>zero</td>\n      <td>Morning</td>\n      <td>Mumbai</td>\n      <td>Economy</td>\n      <td>2.33</td>\n      <td>1</td>\n      <td>5953</td>\n    </tr>\n    <tr>\n      <th>2</th>\n      <td>2</td>\n      <td>AirAsia</td>\n      <td>I5-764</td>\n      <td>Delhi</td>\n      <td>Early_Morning</td>\n      <td>zero</td>\n      <td>Early_Morning</td>\n      <td>Mumbai</td>\n      <td>Economy</td>\n      <td>2.17</td>\n      <td>1</td>\n      <td>5956</td>\n    </tr>\n    <tr>\n      <th>3</th>\n      <td>3</td>\n      <td>Vistara</td>\n      <td>UK-995</td>\n      <td>Delhi</td>\n      <td>Morning</td>\n      <td>zero</td>\n      <td>Afternoon</td>\n      <td>Mumbai</td>\n      <td>Economy</td>\n      <td>2.25</td>\n      <td>1</td>\n      <td>5955</td>\n    </tr>\n    <tr>\n      <th>4</th>\n      <td>4</td>\n      <td>Vistara</td>\n      <td>UK-963</td>\n      <td>Delhi</td>\n      <td>Morning</td>\n      <td>zero</td>\n      <td>Morning</td>\n      <td>Mumbai</td>\n      <td>Economy</td>\n      <td>2.33</td>\n      <td>1</td>\n      <td>5955</td>\n    </tr>\n    <tr>\n      <th>...</th>\n      <td>...</td>\n      <td>...</td>\n      <td>...</td>\n      <td>...</td>\n      <td>...</td>\n      <td>...</td>\n      <td>...</td>\n      <td>...</td>\n      <td>...</td>\n      <td>...</td>\n      <td>...</td>\n      <td>...</td>\n    </tr>\n    <tr>\n      <th>300148</th>\n      <td>300148</td>\n      <td>Vistara</td>\n      <td>UK-822</td>\n      <td>Chennai</td>\n      <td>Morning</td>\n      <td>one</td>\n      <td>Evening</td>\n      <td>Hyderabad</td>\n      <td>Business</td>\n      <td>10.08</td>\n      <td>49</td>\n      <td>69265</td>\n    </tr>\n    <tr>\n      <th>300149</th>\n      <td>300149</td>\n      <td>Vistara</td>\n      <td>UK-826</td>\n      <td>Chennai</td>\n      <td>Afternoon</td>\n      <td>one</td>\n      <td>Night</td>\n      <td>Hyderabad</td>\n      <td>Business</td>\n      <td>10.42</td>\n      <td>49</td>\n      <td>77105</td>\n    </tr>\n    <tr>\n      <th>300150</th>\n      <td>300150</td>\n      <td>Vistara</td>\n      <td>UK-832</td>\n      <td>Chennai</td>\n      <td>Early_Morning</td>\n      <td>one</td>\n      <td>Night</td>\n      <td>Hyderabad</td>\n      <td>Business</td>\n      <td>13.83</td>\n      <td>49</td>\n      <td>79099</td>\n    </tr>\n    <tr>\n      <th>300151</th>\n      <td>300151</td>\n      <td>Vistara</td>\n      <td>UK-828</td>\n      <td>Chennai</td>\n      <td>Early_Morning</td>\n      <td>one</td>\n      <td>Evening</td>\n      <td>Hyderabad</td>\n      <td>Business</td>\n      <td>10.00</td>\n      <td>49</td>\n      <td>81585</td>\n    </tr>\n    <tr>\n      <th>300152</th>\n      <td>300152</td>\n      <td>Vistara</td>\n      <td>UK-822</td>\n      <td>Chennai</td>\n      <td>Morning</td>\n      <td>one</td>\n      <td>Evening</td>\n      <td>Hyderabad</td>\n      <td>Business</td>\n      <td>10.08</td>\n      <td>49</td>\n      <td>81585</td>\n    </tr>\n  </tbody>\n</table>\n<p>300153 rows × 12 columns</p>\n</div>"
     },
     "execution_count": 43,
     "metadata": {},
     "output_type": "execute_result"
    }
   ],
   "source": [
    "df_clean"
   ]
  },
  {
   "cell_type": "code",
   "execution_count": 44,
   "metadata": {
    "ExecuteTime": {
     "end_time": "2023-10-29T16:11:27.431986469Z",
     "start_time": "2023-10-29T16:11:27.419158182Z"
    }
   },
   "outputs": [
    {
     "data": {
      "text/plain": "             date    airline ch_code  num_code dep_time     from time_taken  \\\n0      11-02-2022  Air India      AI       868    18:00    Delhi    02h 00m   \n1      11-02-2022  Air India      AI       624    19:00    Delhi    02h 15m   \n2      11-02-2022  Air India      AI       531    20:00    Delhi    24h 45m   \n3      11-02-2022  Air India      AI       839    21:25    Delhi    26h 30m   \n4      11-02-2022  Air India      AI       544    17:15    Delhi    06h 40m   \n...           ...        ...     ...       ...      ...      ...        ...   \n93482  31-03-2022    Vistara      UK       822    09:45  Chennai    10h 05m   \n93483  31-03-2022    Vistara      UK       826    12:30  Chennai    10h 25m   \n93484  31-03-2022    Vistara      UK       832    07:05  Chennai    13h 50m   \n93485  31-03-2022    Vistara      UK       828    07:00  Chennai    10h 00m   \n93486  31-03-2022    Vistara      UK       822    09:45  Chennai    10h 05m   \n\n            stop arr_time         to   price  \n0      non-stop     20:00     Mumbai  25,612  \n1      non-stop     21:15     Mumbai  25,612  \n2        1-stop     20:45     Mumbai  42,220  \n3        1-stop     23:55     Mumbai  44,450  \n4        1-stop     23:55     Mumbai  46,690  \n...          ...      ...        ...     ...  \n93482    1-stop     19:50  Hyderabad  69,265  \n93483    1-stop     22:55  Hyderabad  77,105  \n93484    1-stop     20:55  Hyderabad  79,099  \n93485    1-stop     17:00  Hyderabad  81,585  \n93486    1-stop     19:50  Hyderabad  81,585  \n\n[93487 rows x 11 columns]",
      "text/html": "<div>\n<style scoped>\n    .dataframe tbody tr th:only-of-type {\n        vertical-align: middle;\n    }\n\n    .dataframe tbody tr th {\n        vertical-align: top;\n    }\n\n    .dataframe thead th {\n        text-align: right;\n    }\n</style>\n<table border=\"1\" class=\"dataframe\">\n  <thead>\n    <tr style=\"text-align: right;\">\n      <th></th>\n      <th>date</th>\n      <th>airline</th>\n      <th>ch_code</th>\n      <th>num_code</th>\n      <th>dep_time</th>\n      <th>from</th>\n      <th>time_taken</th>\n      <th>stop</th>\n      <th>arr_time</th>\n      <th>to</th>\n      <th>price</th>\n    </tr>\n  </thead>\n  <tbody>\n    <tr>\n      <th>0</th>\n      <td>11-02-2022</td>\n      <td>Air India</td>\n      <td>AI</td>\n      <td>868</td>\n      <td>18:00</td>\n      <td>Delhi</td>\n      <td>02h 00m</td>\n      <td>non-stop</td>\n      <td>20:00</td>\n      <td>Mumbai</td>\n      <td>25,612</td>\n    </tr>\n    <tr>\n      <th>1</th>\n      <td>11-02-2022</td>\n      <td>Air India</td>\n      <td>AI</td>\n      <td>624</td>\n      <td>19:00</td>\n      <td>Delhi</td>\n      <td>02h 15m</td>\n      <td>non-stop</td>\n      <td>21:15</td>\n      <td>Mumbai</td>\n      <td>25,612</td>\n    </tr>\n    <tr>\n      <th>2</th>\n      <td>11-02-2022</td>\n      <td>Air India</td>\n      <td>AI</td>\n      <td>531</td>\n      <td>20:00</td>\n      <td>Delhi</td>\n      <td>24h 45m</td>\n      <td>1-stop</td>\n      <td>20:45</td>\n      <td>Mumbai</td>\n      <td>42,220</td>\n    </tr>\n    <tr>\n      <th>3</th>\n      <td>11-02-2022</td>\n      <td>Air India</td>\n      <td>AI</td>\n      <td>839</td>\n      <td>21:25</td>\n      <td>Delhi</td>\n      <td>26h 30m</td>\n      <td>1-stop</td>\n      <td>23:55</td>\n      <td>Mumbai</td>\n      <td>44,450</td>\n    </tr>\n    <tr>\n      <th>4</th>\n      <td>11-02-2022</td>\n      <td>Air India</td>\n      <td>AI</td>\n      <td>544</td>\n      <td>17:15</td>\n      <td>Delhi</td>\n      <td>06h 40m</td>\n      <td>1-stop</td>\n      <td>23:55</td>\n      <td>Mumbai</td>\n      <td>46,690</td>\n    </tr>\n    <tr>\n      <th>...</th>\n      <td>...</td>\n      <td>...</td>\n      <td>...</td>\n      <td>...</td>\n      <td>...</td>\n      <td>...</td>\n      <td>...</td>\n      <td>...</td>\n      <td>...</td>\n      <td>...</td>\n      <td>...</td>\n    </tr>\n    <tr>\n      <th>93482</th>\n      <td>31-03-2022</td>\n      <td>Vistara</td>\n      <td>UK</td>\n      <td>822</td>\n      <td>09:45</td>\n      <td>Chennai</td>\n      <td>10h 05m</td>\n      <td>1-stop</td>\n      <td>19:50</td>\n      <td>Hyderabad</td>\n      <td>69,265</td>\n    </tr>\n    <tr>\n      <th>93483</th>\n      <td>31-03-2022</td>\n      <td>Vistara</td>\n      <td>UK</td>\n      <td>826</td>\n      <td>12:30</td>\n      <td>Chennai</td>\n      <td>10h 25m</td>\n      <td>1-stop</td>\n      <td>22:55</td>\n      <td>Hyderabad</td>\n      <td>77,105</td>\n    </tr>\n    <tr>\n      <th>93484</th>\n      <td>31-03-2022</td>\n      <td>Vistara</td>\n      <td>UK</td>\n      <td>832</td>\n      <td>07:05</td>\n      <td>Chennai</td>\n      <td>13h 50m</td>\n      <td>1-stop</td>\n      <td>20:55</td>\n      <td>Hyderabad</td>\n      <td>79,099</td>\n    </tr>\n    <tr>\n      <th>93485</th>\n      <td>31-03-2022</td>\n      <td>Vistara</td>\n      <td>UK</td>\n      <td>828</td>\n      <td>07:00</td>\n      <td>Chennai</td>\n      <td>10h 00m</td>\n      <td>1-stop</td>\n      <td>17:00</td>\n      <td>Hyderabad</td>\n      <td>81,585</td>\n    </tr>\n    <tr>\n      <th>93486</th>\n      <td>31-03-2022</td>\n      <td>Vistara</td>\n      <td>UK</td>\n      <td>822</td>\n      <td>09:45</td>\n      <td>Chennai</td>\n      <td>10h 05m</td>\n      <td>1-stop</td>\n      <td>19:50</td>\n      <td>Hyderabad</td>\n      <td>81,585</td>\n    </tr>\n  </tbody>\n</table>\n<p>93487 rows × 11 columns</p>\n</div>"
     },
     "execution_count": 44,
     "metadata": {},
     "output_type": "execute_result"
    }
   ],
   "source": [
    "df_business"
   ]
  },
  {
   "cell_type": "code",
   "execution_count": 45,
   "metadata": {
    "ExecuteTime": {
     "end_time": "2023-10-29T16:11:28.199608718Z",
     "start_time": "2023-10-29T16:11:28.185638877Z"
    }
   },
   "outputs": [
    {
     "data": {
      "text/plain": "              date   airline ch_code  num_code dep_time     from time_taken  \\\n0       11-02-2022  SpiceJet      SG      8709    18:55    Delhi    02h 10m   \n1       11-02-2022  SpiceJet      SG      8157    06:20    Delhi    02h 20m   \n2       11-02-2022   AirAsia      I5       764    04:25    Delhi    02h 10m   \n3       11-02-2022   Vistara      UK       995    10:20    Delhi    02h 15m   \n4       11-02-2022   Vistara      UK       963    08:50    Delhi    02h 20m   \n...            ...       ...     ...       ...      ...      ...        ...   \n206769  31-03-2022   Vistara      UK       832    07:05  Chennai    13h 50m   \n206770  31-03-2022   Vistara      UK       832    07:05  Chennai    13h 50m   \n206771  31-03-2022   Vistara      UK       826    12:30  Chennai    20h 35m   \n206772  31-03-2022   Vistara      UK       822    09:45  Chennai    23h 20m   \n206773  31-03-2022   Vistara      UK       824    20:30  Chennai    24h 25m   \n\n                                                     stop arr_time         to  \\\n0                                               non-stop     21:05     Mumbai   \n1                                               non-stop     08:40     Mumbai   \n2                                               non-stop     06:35     Mumbai   \n3                                               non-stop     12:35     Mumbai   \n4                                               non-stop     11:10     Mumbai   \n...                                                   ...      ...        ...   \n206769  1-stop\\n\\t\\t\\t\\t\\t\\t\\t\\t\\t\\t\\t\\t\\n\\t\\t\\t\\t\\t\\t...    20:55  Hyderabad   \n206770  1-stop\\n\\t\\t\\t\\t\\t\\t\\t\\t\\t\\t\\t\\t\\n\\t\\t\\t\\t\\t\\t...    20:55  Hyderabad   \n206771  1-stop\\n\\t\\t\\t\\t\\t\\t\\t\\t\\t\\t\\t\\t\\n\\t\\t\\t\\t\\t\\t...    09:05  Hyderabad   \n206772  1-stop\\n\\t\\t\\t\\t\\t\\t\\t\\t\\t\\t\\t\\t\\n\\t\\t\\t\\t\\t\\t...    09:05  Hyderabad   \n206773  1-stop\\n\\t\\t\\t\\t\\t\\t\\t\\t\\t\\t\\t\\t\\n\\t\\t\\t\\t\\t\\t...    20:55  Hyderabad   \n\n        price  \n0       5,953  \n1       5,953  \n2       5,956  \n3       5,955  \n4       5,955  \n...       ...  \n206769  7,697  \n206770  7,709  \n206771  8,640  \n206772  8,640  \n206773  8,640  \n\n[206774 rows x 11 columns]",
      "text/html": "<div>\n<style scoped>\n    .dataframe tbody tr th:only-of-type {\n        vertical-align: middle;\n    }\n\n    .dataframe tbody tr th {\n        vertical-align: top;\n    }\n\n    .dataframe thead th {\n        text-align: right;\n    }\n</style>\n<table border=\"1\" class=\"dataframe\">\n  <thead>\n    <tr style=\"text-align: right;\">\n      <th></th>\n      <th>date</th>\n      <th>airline</th>\n      <th>ch_code</th>\n      <th>num_code</th>\n      <th>dep_time</th>\n      <th>from</th>\n      <th>time_taken</th>\n      <th>stop</th>\n      <th>arr_time</th>\n      <th>to</th>\n      <th>price</th>\n    </tr>\n  </thead>\n  <tbody>\n    <tr>\n      <th>0</th>\n      <td>11-02-2022</td>\n      <td>SpiceJet</td>\n      <td>SG</td>\n      <td>8709</td>\n      <td>18:55</td>\n      <td>Delhi</td>\n      <td>02h 10m</td>\n      <td>non-stop</td>\n      <td>21:05</td>\n      <td>Mumbai</td>\n      <td>5,953</td>\n    </tr>\n    <tr>\n      <th>1</th>\n      <td>11-02-2022</td>\n      <td>SpiceJet</td>\n      <td>SG</td>\n      <td>8157</td>\n      <td>06:20</td>\n      <td>Delhi</td>\n      <td>02h 20m</td>\n      <td>non-stop</td>\n      <td>08:40</td>\n      <td>Mumbai</td>\n      <td>5,953</td>\n    </tr>\n    <tr>\n      <th>2</th>\n      <td>11-02-2022</td>\n      <td>AirAsia</td>\n      <td>I5</td>\n      <td>764</td>\n      <td>04:25</td>\n      <td>Delhi</td>\n      <td>02h 10m</td>\n      <td>non-stop</td>\n      <td>06:35</td>\n      <td>Mumbai</td>\n      <td>5,956</td>\n    </tr>\n    <tr>\n      <th>3</th>\n      <td>11-02-2022</td>\n      <td>Vistara</td>\n      <td>UK</td>\n      <td>995</td>\n      <td>10:20</td>\n      <td>Delhi</td>\n      <td>02h 15m</td>\n      <td>non-stop</td>\n      <td>12:35</td>\n      <td>Mumbai</td>\n      <td>5,955</td>\n    </tr>\n    <tr>\n      <th>4</th>\n      <td>11-02-2022</td>\n      <td>Vistara</td>\n      <td>UK</td>\n      <td>963</td>\n      <td>08:50</td>\n      <td>Delhi</td>\n      <td>02h 20m</td>\n      <td>non-stop</td>\n      <td>11:10</td>\n      <td>Mumbai</td>\n      <td>5,955</td>\n    </tr>\n    <tr>\n      <th>...</th>\n      <td>...</td>\n      <td>...</td>\n      <td>...</td>\n      <td>...</td>\n      <td>...</td>\n      <td>...</td>\n      <td>...</td>\n      <td>...</td>\n      <td>...</td>\n      <td>...</td>\n      <td>...</td>\n    </tr>\n    <tr>\n      <th>206769</th>\n      <td>31-03-2022</td>\n      <td>Vistara</td>\n      <td>UK</td>\n      <td>832</td>\n      <td>07:05</td>\n      <td>Chennai</td>\n      <td>13h 50m</td>\n      <td>1-stop\\n\\t\\t\\t\\t\\t\\t\\t\\t\\t\\t\\t\\t\\n\\t\\t\\t\\t\\t\\t...</td>\n      <td>20:55</td>\n      <td>Hyderabad</td>\n      <td>7,697</td>\n    </tr>\n    <tr>\n      <th>206770</th>\n      <td>31-03-2022</td>\n      <td>Vistara</td>\n      <td>UK</td>\n      <td>832</td>\n      <td>07:05</td>\n      <td>Chennai</td>\n      <td>13h 50m</td>\n      <td>1-stop\\n\\t\\t\\t\\t\\t\\t\\t\\t\\t\\t\\t\\t\\n\\t\\t\\t\\t\\t\\t...</td>\n      <td>20:55</td>\n      <td>Hyderabad</td>\n      <td>7,709</td>\n    </tr>\n    <tr>\n      <th>206771</th>\n      <td>31-03-2022</td>\n      <td>Vistara</td>\n      <td>UK</td>\n      <td>826</td>\n      <td>12:30</td>\n      <td>Chennai</td>\n      <td>20h 35m</td>\n      <td>1-stop\\n\\t\\t\\t\\t\\t\\t\\t\\t\\t\\t\\t\\t\\n\\t\\t\\t\\t\\t\\t...</td>\n      <td>09:05</td>\n      <td>Hyderabad</td>\n      <td>8,640</td>\n    </tr>\n    <tr>\n      <th>206772</th>\n      <td>31-03-2022</td>\n      <td>Vistara</td>\n      <td>UK</td>\n      <td>822</td>\n      <td>09:45</td>\n      <td>Chennai</td>\n      <td>23h 20m</td>\n      <td>1-stop\\n\\t\\t\\t\\t\\t\\t\\t\\t\\t\\t\\t\\t\\n\\t\\t\\t\\t\\t\\t...</td>\n      <td>09:05</td>\n      <td>Hyderabad</td>\n      <td>8,640</td>\n    </tr>\n    <tr>\n      <th>206773</th>\n      <td>31-03-2022</td>\n      <td>Vistara</td>\n      <td>UK</td>\n      <td>824</td>\n      <td>20:30</td>\n      <td>Chennai</td>\n      <td>24h 25m</td>\n      <td>1-stop\\n\\t\\t\\t\\t\\t\\t\\t\\t\\t\\t\\t\\t\\n\\t\\t\\t\\t\\t\\t...</td>\n      <td>20:55</td>\n      <td>Hyderabad</td>\n      <td>8,640</td>\n    </tr>\n  </tbody>\n</table>\n<p>206774 rows × 11 columns</p>\n</div>"
     },
     "execution_count": 45,
     "metadata": {},
     "output_type": "execute_result"
    }
   ],
   "source": [
    "df_economy"
   ]
  },
  {
   "cell_type": "markdown",
   "metadata": {},
   "source": [
    "## Removing useless data"
   ]
  },
  {
   "cell_type": "markdown",
   "metadata": {},
   "source": [
    "## Missing and duplicates values"
   ]
  },
  {
   "cell_type": "code",
   "execution_count": 46,
   "metadata": {
    "ExecuteTime": {
     "end_time": "2023-10-29T16:11:30.463339910Z",
     "start_time": "2023-10-29T16:11:30.381415643Z"
    }
   },
   "outputs": [
    {
     "data": {
      "text/plain": "False"
     },
     "execution_count": 46,
     "metadata": {},
     "output_type": "execute_result"
    }
   ],
   "source": [
    "# Checking if there are duplicates in table df_clean\n",
    "df_clean.duplicated().any()"
   ]
  },
  {
   "cell_type": "code",
   "execution_count": 47,
   "metadata": {
    "ExecuteTime": {
     "end_time": "2023-10-29T16:11:30.757306720Z",
     "start_time": "2023-10-29T16:11:30.730343530Z"
    }
   },
   "outputs": [
    {
     "data": {
      "text/plain": "False"
     },
     "execution_count": 47,
     "metadata": {},
     "output_type": "execute_result"
    }
   ],
   "source": [
    "# Checking if there are duplicates in table df_business\n",
    "df_business.duplicated().any()"
   ]
  },
  {
   "cell_type": "code",
   "execution_count": 48,
   "metadata": {
    "ExecuteTime": {
     "end_time": "2023-10-29T16:11:30.823754233Z",
     "start_time": "2023-10-29T16:11:30.762791112Z"
    }
   },
   "outputs": [
    {
     "data": {
      "text/plain": "True"
     },
     "execution_count": 48,
     "metadata": {},
     "output_type": "execute_result"
    }
   ],
   "source": [
    "# Checking if there are duplicates in table df_economy\n",
    "df_economy.duplicated().any()"
   ]
  },
  {
   "cell_type": "code",
   "execution_count": 49,
   "metadata": {
    "ExecuteTime": {
     "end_time": "2023-10-29T16:11:31.207989498Z",
     "start_time": "2023-10-29T16:11:31.128190559Z"
    }
   },
   "outputs": [
    {
     "data": {
      "text/plain": "              date   airline ch_code  num_code dep_time     from time_taken  \\\n0       11-02-2022  SpiceJet      SG      8709    18:55    Delhi    02h 10m   \n1       11-02-2022  SpiceJet      SG      8157    06:20    Delhi    02h 20m   \n2       11-02-2022   AirAsia      I5       764    04:25    Delhi    02h 10m   \n3       11-02-2022   Vistara      UK       995    10:20    Delhi    02h 15m   \n4       11-02-2022   Vistara      UK       963    08:50    Delhi    02h 20m   \n...            ...       ...     ...       ...      ...      ...        ...   \n206769  31-03-2022   Vistara      UK       832    07:05  Chennai    13h 50m   \n206770  31-03-2022   Vistara      UK       832    07:05  Chennai    13h 50m   \n206771  31-03-2022   Vistara      UK       826    12:30  Chennai    20h 35m   \n206772  31-03-2022   Vistara      UK       822    09:45  Chennai    23h 20m   \n206773  31-03-2022   Vistara      UK       824    20:30  Chennai    24h 25m   \n\n                                                     stop arr_time         to  \\\n0                                               non-stop     21:05     Mumbai   \n1                                               non-stop     08:40     Mumbai   \n2                                               non-stop     06:35     Mumbai   \n3                                               non-stop     12:35     Mumbai   \n4                                               non-stop     11:10     Mumbai   \n...                                                   ...      ...        ...   \n206769  1-stop\\n\\t\\t\\t\\t\\t\\t\\t\\t\\t\\t\\t\\t\\n\\t\\t\\t\\t\\t\\t...    20:55  Hyderabad   \n206770  1-stop\\n\\t\\t\\t\\t\\t\\t\\t\\t\\t\\t\\t\\t\\n\\t\\t\\t\\t\\t\\t...    20:55  Hyderabad   \n206771  1-stop\\n\\t\\t\\t\\t\\t\\t\\t\\t\\t\\t\\t\\t\\n\\t\\t\\t\\t\\t\\t...    09:05  Hyderabad   \n206772  1-stop\\n\\t\\t\\t\\t\\t\\t\\t\\t\\t\\t\\t\\t\\n\\t\\t\\t\\t\\t\\t...    09:05  Hyderabad   \n206773  1-stop\\n\\t\\t\\t\\t\\t\\t\\t\\t\\t\\t\\t\\t\\n\\t\\t\\t\\t\\t\\t...    20:55  Hyderabad   \n\n        price  \n0       5,953  \n1       5,953  \n2       5,956  \n3       5,955  \n4       5,955  \n...       ...  \n206769  7,697  \n206770  7,709  \n206771  8,640  \n206772  8,640  \n206773  8,640  \n\n[206772 rows x 11 columns]",
      "text/html": "<div>\n<style scoped>\n    .dataframe tbody tr th:only-of-type {\n        vertical-align: middle;\n    }\n\n    .dataframe tbody tr th {\n        vertical-align: top;\n    }\n\n    .dataframe thead th {\n        text-align: right;\n    }\n</style>\n<table border=\"1\" class=\"dataframe\">\n  <thead>\n    <tr style=\"text-align: right;\">\n      <th></th>\n      <th>date</th>\n      <th>airline</th>\n      <th>ch_code</th>\n      <th>num_code</th>\n      <th>dep_time</th>\n      <th>from</th>\n      <th>time_taken</th>\n      <th>stop</th>\n      <th>arr_time</th>\n      <th>to</th>\n      <th>price</th>\n    </tr>\n  </thead>\n  <tbody>\n    <tr>\n      <th>0</th>\n      <td>11-02-2022</td>\n      <td>SpiceJet</td>\n      <td>SG</td>\n      <td>8709</td>\n      <td>18:55</td>\n      <td>Delhi</td>\n      <td>02h 10m</td>\n      <td>non-stop</td>\n      <td>21:05</td>\n      <td>Mumbai</td>\n      <td>5,953</td>\n    </tr>\n    <tr>\n      <th>1</th>\n      <td>11-02-2022</td>\n      <td>SpiceJet</td>\n      <td>SG</td>\n      <td>8157</td>\n      <td>06:20</td>\n      <td>Delhi</td>\n      <td>02h 20m</td>\n      <td>non-stop</td>\n      <td>08:40</td>\n      <td>Mumbai</td>\n      <td>5,953</td>\n    </tr>\n    <tr>\n      <th>2</th>\n      <td>11-02-2022</td>\n      <td>AirAsia</td>\n      <td>I5</td>\n      <td>764</td>\n      <td>04:25</td>\n      <td>Delhi</td>\n      <td>02h 10m</td>\n      <td>non-stop</td>\n      <td>06:35</td>\n      <td>Mumbai</td>\n      <td>5,956</td>\n    </tr>\n    <tr>\n      <th>3</th>\n      <td>11-02-2022</td>\n      <td>Vistara</td>\n      <td>UK</td>\n      <td>995</td>\n      <td>10:20</td>\n      <td>Delhi</td>\n      <td>02h 15m</td>\n      <td>non-stop</td>\n      <td>12:35</td>\n      <td>Mumbai</td>\n      <td>5,955</td>\n    </tr>\n    <tr>\n      <th>4</th>\n      <td>11-02-2022</td>\n      <td>Vistara</td>\n      <td>UK</td>\n      <td>963</td>\n      <td>08:50</td>\n      <td>Delhi</td>\n      <td>02h 20m</td>\n      <td>non-stop</td>\n      <td>11:10</td>\n      <td>Mumbai</td>\n      <td>5,955</td>\n    </tr>\n    <tr>\n      <th>...</th>\n      <td>...</td>\n      <td>...</td>\n      <td>...</td>\n      <td>...</td>\n      <td>...</td>\n      <td>...</td>\n      <td>...</td>\n      <td>...</td>\n      <td>...</td>\n      <td>...</td>\n      <td>...</td>\n    </tr>\n    <tr>\n      <th>206769</th>\n      <td>31-03-2022</td>\n      <td>Vistara</td>\n      <td>UK</td>\n      <td>832</td>\n      <td>07:05</td>\n      <td>Chennai</td>\n      <td>13h 50m</td>\n      <td>1-stop\\n\\t\\t\\t\\t\\t\\t\\t\\t\\t\\t\\t\\t\\n\\t\\t\\t\\t\\t\\t...</td>\n      <td>20:55</td>\n      <td>Hyderabad</td>\n      <td>7,697</td>\n    </tr>\n    <tr>\n      <th>206770</th>\n      <td>31-03-2022</td>\n      <td>Vistara</td>\n      <td>UK</td>\n      <td>832</td>\n      <td>07:05</td>\n      <td>Chennai</td>\n      <td>13h 50m</td>\n      <td>1-stop\\n\\t\\t\\t\\t\\t\\t\\t\\t\\t\\t\\t\\t\\n\\t\\t\\t\\t\\t\\t...</td>\n      <td>20:55</td>\n      <td>Hyderabad</td>\n      <td>7,709</td>\n    </tr>\n    <tr>\n      <th>206771</th>\n      <td>31-03-2022</td>\n      <td>Vistara</td>\n      <td>UK</td>\n      <td>826</td>\n      <td>12:30</td>\n      <td>Chennai</td>\n      <td>20h 35m</td>\n      <td>1-stop\\n\\t\\t\\t\\t\\t\\t\\t\\t\\t\\t\\t\\t\\n\\t\\t\\t\\t\\t\\t...</td>\n      <td>09:05</td>\n      <td>Hyderabad</td>\n      <td>8,640</td>\n    </tr>\n    <tr>\n      <th>206772</th>\n      <td>31-03-2022</td>\n      <td>Vistara</td>\n      <td>UK</td>\n      <td>822</td>\n      <td>09:45</td>\n      <td>Chennai</td>\n      <td>23h 20m</td>\n      <td>1-stop\\n\\t\\t\\t\\t\\t\\t\\t\\t\\t\\t\\t\\t\\n\\t\\t\\t\\t\\t\\t...</td>\n      <td>09:05</td>\n      <td>Hyderabad</td>\n      <td>8,640</td>\n    </tr>\n    <tr>\n      <th>206773</th>\n      <td>31-03-2022</td>\n      <td>Vistara</td>\n      <td>UK</td>\n      <td>824</td>\n      <td>20:30</td>\n      <td>Chennai</td>\n      <td>24h 25m</td>\n      <td>1-stop\\n\\t\\t\\t\\t\\t\\t\\t\\t\\t\\t\\t\\t\\n\\t\\t\\t\\t\\t\\t...</td>\n      <td>20:55</td>\n      <td>Hyderabad</td>\n      <td>8,640</td>\n    </tr>\n  </tbody>\n</table>\n<p>206772 rows × 11 columns</p>\n</div>"
     },
     "execution_count": 49,
     "metadata": {},
     "output_type": "execute_result"
    }
   ],
   "source": [
    "# Removing duplicates in df_economy (2)\n",
    "df_economy.drop_duplicates()"
   ]
  },
  {
   "cell_type": "markdown",
   "metadata": {},
   "source": [
    "## Standardise and normalize data"
   ]
  },
  {
   "cell_type": "markdown",
   "metadata": {},
   "source": [
    "## Encoding categorical variables"
   ]
  },
  {
   "cell_type": "code",
   "execution_count": 50,
   "outputs": [
    {
     "data": {
      "text/plain": "        Unnamed: 0   flight  duration  days_left  price  airline_AirAsia  \\\n0                0  SG-8709      2.17          1   5953                0   \n1                1  SG-8157      2.33          1   5953                0   \n2                2   I5-764      2.17          1   5956                1   \n3                3   UK-995      2.25          1   5955                0   \n4                4   UK-963      2.33          1   5955                0   \n...            ...      ...       ...        ...    ...              ...   \n300148      300148   UK-822     10.08         49  69265                0   \n300149      300149   UK-826     10.42         49  77105                0   \n300150      300150   UK-832     13.83         49  79099                0   \n300151      300151   UK-828     10.00         49  81585                0   \n300152      300152   UK-822     10.08         49  81585                0   \n\n        airline_Air_India  airline_GO_FIRST  airline_Indigo  airline_SpiceJet  \\\n0                       0                 0               0                 1   \n1                       0                 0               0                 1   \n2                       0                 0               0                 0   \n3                       0                 0               0                 0   \n4                       0                 0               0                 0   \n...                   ...               ...             ...               ...   \n300148                  0                 0               0                 0   \n300149                  0                 0               0                 0   \n300150                  0                 0               0                 0   \n300151                  0                 0               0                 0   \n300152                  0                 0               0                 0   \n\n        ...  arrival_time_Morning  arrival_time_Night  \\\n0       ...                     0                   1   \n1       ...                     1                   0   \n2       ...                     0                   0   \n3       ...                     0                   0   \n4       ...                     1                   0   \n...     ...                   ...                 ...   \n300148  ...                     0                   0   \n300149  ...                     0                   1   \n300150  ...                     0                   1   \n300151  ...                     0                   0   \n300152  ...                     0                   0   \n\n        destination_city_Bangalore  destination_city_Chennai  \\\n0                                0                         0   \n1                                0                         0   \n2                                0                         0   \n3                                0                         0   \n4                                0                         0   \n...                            ...                       ...   \n300148                           0                         0   \n300149                           0                         0   \n300150                           0                         0   \n300151                           0                         0   \n300152                           0                         0   \n\n        destination_city_Delhi  destination_city_Hyderabad  \\\n0                            0                           0   \n1                            0                           0   \n2                            0                           0   \n3                            0                           0   \n4                            0                           0   \n...                        ...                         ...   \n300148                       0                           1   \n300149                       0                           1   \n300150                       0                           1   \n300151                       0                           1   \n300152                       0                           1   \n\n        destination_city_Kolkata  destination_city_Mumbai  class_Business  \\\n0                              0                        1               0   \n1                              0                        1               0   \n2                              0                        1               0   \n3                              0                        1               0   \n4                              0                        1               0   \n...                          ...                      ...             ...   \n300148                         0                        0               1   \n300149                         0                        0               1   \n300150                         0                        0               1   \n300151                         0                        0               1   \n300152                         0                        0               1   \n\n        class_Economy  \n0                   1  \n1                   1  \n2                   1  \n3                   1  \n4                   1  \n...               ...  \n300148              0  \n300149              0  \n300150              0  \n300151              0  \n300152              0  \n\n[300153 rows x 40 columns]",
      "text/html": "<div>\n<style scoped>\n    .dataframe tbody tr th:only-of-type {\n        vertical-align: middle;\n    }\n\n    .dataframe tbody tr th {\n        vertical-align: top;\n    }\n\n    .dataframe thead th {\n        text-align: right;\n    }\n</style>\n<table border=\"1\" class=\"dataframe\">\n  <thead>\n    <tr style=\"text-align: right;\">\n      <th></th>\n      <th>Unnamed: 0</th>\n      <th>flight</th>\n      <th>duration</th>\n      <th>days_left</th>\n      <th>price</th>\n      <th>airline_AirAsia</th>\n      <th>airline_Air_India</th>\n      <th>airline_GO_FIRST</th>\n      <th>airline_Indigo</th>\n      <th>airline_SpiceJet</th>\n      <th>...</th>\n      <th>arrival_time_Morning</th>\n      <th>arrival_time_Night</th>\n      <th>destination_city_Bangalore</th>\n      <th>destination_city_Chennai</th>\n      <th>destination_city_Delhi</th>\n      <th>destination_city_Hyderabad</th>\n      <th>destination_city_Kolkata</th>\n      <th>destination_city_Mumbai</th>\n      <th>class_Business</th>\n      <th>class_Economy</th>\n    </tr>\n  </thead>\n  <tbody>\n    <tr>\n      <th>0</th>\n      <td>0</td>\n      <td>SG-8709</td>\n      <td>2.17</td>\n      <td>1</td>\n      <td>5953</td>\n      <td>0</td>\n      <td>0</td>\n      <td>0</td>\n      <td>0</td>\n      <td>1</td>\n      <td>...</td>\n      <td>0</td>\n      <td>1</td>\n      <td>0</td>\n      <td>0</td>\n      <td>0</td>\n      <td>0</td>\n      <td>0</td>\n      <td>1</td>\n      <td>0</td>\n      <td>1</td>\n    </tr>\n    <tr>\n      <th>1</th>\n      <td>1</td>\n      <td>SG-8157</td>\n      <td>2.33</td>\n      <td>1</td>\n      <td>5953</td>\n      <td>0</td>\n      <td>0</td>\n      <td>0</td>\n      <td>0</td>\n      <td>1</td>\n      <td>...</td>\n      <td>1</td>\n      <td>0</td>\n      <td>0</td>\n      <td>0</td>\n      <td>0</td>\n      <td>0</td>\n      <td>0</td>\n      <td>1</td>\n      <td>0</td>\n      <td>1</td>\n    </tr>\n    <tr>\n      <th>2</th>\n      <td>2</td>\n      <td>I5-764</td>\n      <td>2.17</td>\n      <td>1</td>\n      <td>5956</td>\n      <td>1</td>\n      <td>0</td>\n      <td>0</td>\n      <td>0</td>\n      <td>0</td>\n      <td>...</td>\n      <td>0</td>\n      <td>0</td>\n      <td>0</td>\n      <td>0</td>\n      <td>0</td>\n      <td>0</td>\n      <td>0</td>\n      <td>1</td>\n      <td>0</td>\n      <td>1</td>\n    </tr>\n    <tr>\n      <th>3</th>\n      <td>3</td>\n      <td>UK-995</td>\n      <td>2.25</td>\n      <td>1</td>\n      <td>5955</td>\n      <td>0</td>\n      <td>0</td>\n      <td>0</td>\n      <td>0</td>\n      <td>0</td>\n      <td>...</td>\n      <td>0</td>\n      <td>0</td>\n      <td>0</td>\n      <td>0</td>\n      <td>0</td>\n      <td>0</td>\n      <td>0</td>\n      <td>1</td>\n      <td>0</td>\n      <td>1</td>\n    </tr>\n    <tr>\n      <th>4</th>\n      <td>4</td>\n      <td>UK-963</td>\n      <td>2.33</td>\n      <td>1</td>\n      <td>5955</td>\n      <td>0</td>\n      <td>0</td>\n      <td>0</td>\n      <td>0</td>\n      <td>0</td>\n      <td>...</td>\n      <td>1</td>\n      <td>0</td>\n      <td>0</td>\n      <td>0</td>\n      <td>0</td>\n      <td>0</td>\n      <td>0</td>\n      <td>1</td>\n      <td>0</td>\n      <td>1</td>\n    </tr>\n    <tr>\n      <th>...</th>\n      <td>...</td>\n      <td>...</td>\n      <td>...</td>\n      <td>...</td>\n      <td>...</td>\n      <td>...</td>\n      <td>...</td>\n      <td>...</td>\n      <td>...</td>\n      <td>...</td>\n      <td>...</td>\n      <td>...</td>\n      <td>...</td>\n      <td>...</td>\n      <td>...</td>\n      <td>...</td>\n      <td>...</td>\n      <td>...</td>\n      <td>...</td>\n      <td>...</td>\n      <td>...</td>\n    </tr>\n    <tr>\n      <th>300148</th>\n      <td>300148</td>\n      <td>UK-822</td>\n      <td>10.08</td>\n      <td>49</td>\n      <td>69265</td>\n      <td>0</td>\n      <td>0</td>\n      <td>0</td>\n      <td>0</td>\n      <td>0</td>\n      <td>...</td>\n      <td>0</td>\n      <td>0</td>\n      <td>0</td>\n      <td>0</td>\n      <td>0</td>\n      <td>1</td>\n      <td>0</td>\n      <td>0</td>\n      <td>1</td>\n      <td>0</td>\n    </tr>\n    <tr>\n      <th>300149</th>\n      <td>300149</td>\n      <td>UK-826</td>\n      <td>10.42</td>\n      <td>49</td>\n      <td>77105</td>\n      <td>0</td>\n      <td>0</td>\n      <td>0</td>\n      <td>0</td>\n      <td>0</td>\n      <td>...</td>\n      <td>0</td>\n      <td>1</td>\n      <td>0</td>\n      <td>0</td>\n      <td>0</td>\n      <td>1</td>\n      <td>0</td>\n      <td>0</td>\n      <td>1</td>\n      <td>0</td>\n    </tr>\n    <tr>\n      <th>300150</th>\n      <td>300150</td>\n      <td>UK-832</td>\n      <td>13.83</td>\n      <td>49</td>\n      <td>79099</td>\n      <td>0</td>\n      <td>0</td>\n      <td>0</td>\n      <td>0</td>\n      <td>0</td>\n      <td>...</td>\n      <td>0</td>\n      <td>1</td>\n      <td>0</td>\n      <td>0</td>\n      <td>0</td>\n      <td>1</td>\n      <td>0</td>\n      <td>0</td>\n      <td>1</td>\n      <td>0</td>\n    </tr>\n    <tr>\n      <th>300151</th>\n      <td>300151</td>\n      <td>UK-828</td>\n      <td>10.00</td>\n      <td>49</td>\n      <td>81585</td>\n      <td>0</td>\n      <td>0</td>\n      <td>0</td>\n      <td>0</td>\n      <td>0</td>\n      <td>...</td>\n      <td>0</td>\n      <td>0</td>\n      <td>0</td>\n      <td>0</td>\n      <td>0</td>\n      <td>1</td>\n      <td>0</td>\n      <td>0</td>\n      <td>1</td>\n      <td>0</td>\n    </tr>\n    <tr>\n      <th>300152</th>\n      <td>300152</td>\n      <td>UK-822</td>\n      <td>10.08</td>\n      <td>49</td>\n      <td>81585</td>\n      <td>0</td>\n      <td>0</td>\n      <td>0</td>\n      <td>0</td>\n      <td>0</td>\n      <td>...</td>\n      <td>0</td>\n      <td>0</td>\n      <td>0</td>\n      <td>0</td>\n      <td>0</td>\n      <td>1</td>\n      <td>0</td>\n      <td>0</td>\n      <td>1</td>\n      <td>0</td>\n    </tr>\n  </tbody>\n</table>\n<p>300153 rows × 40 columns</p>\n</div>"
     },
     "execution_count": 50,
     "metadata": {},
     "output_type": "execute_result"
    }
   ],
   "source": [
    "df_clean_encoded = pd.get_dummies(df_clean, columns=['airline', 'source_city', 'departure_time', 'stops', 'arrival_time', 'destination_city', 'class'], dtype=int)\n",
    "df_clean_encoded"
   ],
   "metadata": {
    "collapsed": false,
    "ExecuteTime": {
     "end_time": "2023-10-29T16:11:33.105378235Z",
     "start_time": "2023-10-29T16:11:32.770232712Z"
    }
   }
  },
  {
   "cell_type": "code",
   "execution_count": 51,
   "outputs": [
    {
     "data": {
      "text/plain": "             date  num_code dep_time time_taken arr_time   price  \\\n0      11-02-2022       868    18:00    02h 00m    20:00  25,612   \n1      11-02-2022       624    19:00    02h 15m    21:15  25,612   \n2      11-02-2022       531    20:00    24h 45m    20:45  42,220   \n3      11-02-2022       839    21:25    26h 30m    23:55  44,450   \n4      11-02-2022       544    17:15    06h 40m    23:55  46,690   \n...           ...       ...      ...        ...      ...     ...   \n93482  31-03-2022       822    09:45    10h 05m    19:50  69,265   \n93483  31-03-2022       826    12:30    10h 25m    22:55  77,105   \n93484  31-03-2022       832    07:05    13h 50m    20:55  79,099   \n93485  31-03-2022       828    07:00    10h 00m    17:00  81,585   \n93486  31-03-2022       822    09:45    10h 05m    19:50  81,585   \n\n       airline_Air India  airline_Vistara  ch_code_AI  ch_code_UK  ...  \\\n0                      1                0           1           0  ...   \n1                      1                0           1           0  ...   \n2                      1                0           1           0  ...   \n3                      1                0           1           0  ...   \n4                      1                0           1           0  ...   \n...                  ...              ...         ...         ...  ...   \n93482                  0                1           0           1  ...   \n93483                  0                1           0           1  ...   \n93484                  0                1           0           1  ...   \n93485                  0                1           0           1  ...   \n93486                  0                1           0           1  ...   \n\n       stop_1-stop Via Surat   stop_1-stop Via VTZ   stop_2+-stop  \\\n0                           0                     0             0   \n1                           0                     0             0   \n2                           0                     0             0   \n3                           0                     0             0   \n4                           0                     0             0   \n...                       ...                   ...           ...   \n93482                       0                     0             0   \n93483                       0                     0             0   \n93484                       0                     0             0   \n93485                       0                     0             0   \n93486                       0                     0             0   \n\n       stop_non-stop   to_Bangalore  to_Chennai  to_Delhi  to_Hyderabad  \\\n0                   1             0           0         0             0   \n1                   1             0           0         0             0   \n2                   0             0           0         0             0   \n3                   0             0           0         0             0   \n4                   0             0           0         0             0   \n...               ...           ...         ...       ...           ...   \n93482               0             0           0         0             1   \n93483               0             0           0         0             1   \n93484               0             0           0         0             1   \n93485               0             0           0         0             1   \n93486               0             0           0         0             1   \n\n       to_Kolkata  to_Mumbai  \n0               0          1  \n1               0          1  \n2               0          1  \n3               0          1  \n4               0          1  \n...           ...        ...  \n93482           0          0  \n93483           0          0  \n93484           0          0  \n93485           0          0  \n93486           0          0  \n\n[93487 rows x 47 columns]",
      "text/html": "<div>\n<style scoped>\n    .dataframe tbody tr th:only-of-type {\n        vertical-align: middle;\n    }\n\n    .dataframe tbody tr th {\n        vertical-align: top;\n    }\n\n    .dataframe thead th {\n        text-align: right;\n    }\n</style>\n<table border=\"1\" class=\"dataframe\">\n  <thead>\n    <tr style=\"text-align: right;\">\n      <th></th>\n      <th>date</th>\n      <th>num_code</th>\n      <th>dep_time</th>\n      <th>time_taken</th>\n      <th>arr_time</th>\n      <th>price</th>\n      <th>airline_Air India</th>\n      <th>airline_Vistara</th>\n      <th>ch_code_AI</th>\n      <th>ch_code_UK</th>\n      <th>...</th>\n      <th>stop_1-stop Via Surat</th>\n      <th>stop_1-stop Via VTZ</th>\n      <th>stop_2+-stop</th>\n      <th>stop_non-stop</th>\n      <th>to_Bangalore</th>\n      <th>to_Chennai</th>\n      <th>to_Delhi</th>\n      <th>to_Hyderabad</th>\n      <th>to_Kolkata</th>\n      <th>to_Mumbai</th>\n    </tr>\n  </thead>\n  <tbody>\n    <tr>\n      <th>0</th>\n      <td>11-02-2022</td>\n      <td>868</td>\n      <td>18:00</td>\n      <td>02h 00m</td>\n      <td>20:00</td>\n      <td>25,612</td>\n      <td>1</td>\n      <td>0</td>\n      <td>1</td>\n      <td>0</td>\n      <td>...</td>\n      <td>0</td>\n      <td>0</td>\n      <td>0</td>\n      <td>1</td>\n      <td>0</td>\n      <td>0</td>\n      <td>0</td>\n      <td>0</td>\n      <td>0</td>\n      <td>1</td>\n    </tr>\n    <tr>\n      <th>1</th>\n      <td>11-02-2022</td>\n      <td>624</td>\n      <td>19:00</td>\n      <td>02h 15m</td>\n      <td>21:15</td>\n      <td>25,612</td>\n      <td>1</td>\n      <td>0</td>\n      <td>1</td>\n      <td>0</td>\n      <td>...</td>\n      <td>0</td>\n      <td>0</td>\n      <td>0</td>\n      <td>1</td>\n      <td>0</td>\n      <td>0</td>\n      <td>0</td>\n      <td>0</td>\n      <td>0</td>\n      <td>1</td>\n    </tr>\n    <tr>\n      <th>2</th>\n      <td>11-02-2022</td>\n      <td>531</td>\n      <td>20:00</td>\n      <td>24h 45m</td>\n      <td>20:45</td>\n      <td>42,220</td>\n      <td>1</td>\n      <td>0</td>\n      <td>1</td>\n      <td>0</td>\n      <td>...</td>\n      <td>0</td>\n      <td>0</td>\n      <td>0</td>\n      <td>0</td>\n      <td>0</td>\n      <td>0</td>\n      <td>0</td>\n      <td>0</td>\n      <td>0</td>\n      <td>1</td>\n    </tr>\n    <tr>\n      <th>3</th>\n      <td>11-02-2022</td>\n      <td>839</td>\n      <td>21:25</td>\n      <td>26h 30m</td>\n      <td>23:55</td>\n      <td>44,450</td>\n      <td>1</td>\n      <td>0</td>\n      <td>1</td>\n      <td>0</td>\n      <td>...</td>\n      <td>0</td>\n      <td>0</td>\n      <td>0</td>\n      <td>0</td>\n      <td>0</td>\n      <td>0</td>\n      <td>0</td>\n      <td>0</td>\n      <td>0</td>\n      <td>1</td>\n    </tr>\n    <tr>\n      <th>4</th>\n      <td>11-02-2022</td>\n      <td>544</td>\n      <td>17:15</td>\n      <td>06h 40m</td>\n      <td>23:55</td>\n      <td>46,690</td>\n      <td>1</td>\n      <td>0</td>\n      <td>1</td>\n      <td>0</td>\n      <td>...</td>\n      <td>0</td>\n      <td>0</td>\n      <td>0</td>\n      <td>0</td>\n      <td>0</td>\n      <td>0</td>\n      <td>0</td>\n      <td>0</td>\n      <td>0</td>\n      <td>1</td>\n    </tr>\n    <tr>\n      <th>...</th>\n      <td>...</td>\n      <td>...</td>\n      <td>...</td>\n      <td>...</td>\n      <td>...</td>\n      <td>...</td>\n      <td>...</td>\n      <td>...</td>\n      <td>...</td>\n      <td>...</td>\n      <td>...</td>\n      <td>...</td>\n      <td>...</td>\n      <td>...</td>\n      <td>...</td>\n      <td>...</td>\n      <td>...</td>\n      <td>...</td>\n      <td>...</td>\n      <td>...</td>\n      <td>...</td>\n    </tr>\n    <tr>\n      <th>93482</th>\n      <td>31-03-2022</td>\n      <td>822</td>\n      <td>09:45</td>\n      <td>10h 05m</td>\n      <td>19:50</td>\n      <td>69,265</td>\n      <td>0</td>\n      <td>1</td>\n      <td>0</td>\n      <td>1</td>\n      <td>...</td>\n      <td>0</td>\n      <td>0</td>\n      <td>0</td>\n      <td>0</td>\n      <td>0</td>\n      <td>0</td>\n      <td>0</td>\n      <td>1</td>\n      <td>0</td>\n      <td>0</td>\n    </tr>\n    <tr>\n      <th>93483</th>\n      <td>31-03-2022</td>\n      <td>826</td>\n      <td>12:30</td>\n      <td>10h 25m</td>\n      <td>22:55</td>\n      <td>77,105</td>\n      <td>0</td>\n      <td>1</td>\n      <td>0</td>\n      <td>1</td>\n      <td>...</td>\n      <td>0</td>\n      <td>0</td>\n      <td>0</td>\n      <td>0</td>\n      <td>0</td>\n      <td>0</td>\n      <td>0</td>\n      <td>1</td>\n      <td>0</td>\n      <td>0</td>\n    </tr>\n    <tr>\n      <th>93484</th>\n      <td>31-03-2022</td>\n      <td>832</td>\n      <td>07:05</td>\n      <td>13h 50m</td>\n      <td>20:55</td>\n      <td>79,099</td>\n      <td>0</td>\n      <td>1</td>\n      <td>0</td>\n      <td>1</td>\n      <td>...</td>\n      <td>0</td>\n      <td>0</td>\n      <td>0</td>\n      <td>0</td>\n      <td>0</td>\n      <td>0</td>\n      <td>0</td>\n      <td>1</td>\n      <td>0</td>\n      <td>0</td>\n    </tr>\n    <tr>\n      <th>93485</th>\n      <td>31-03-2022</td>\n      <td>828</td>\n      <td>07:00</td>\n      <td>10h 00m</td>\n      <td>17:00</td>\n      <td>81,585</td>\n      <td>0</td>\n      <td>1</td>\n      <td>0</td>\n      <td>1</td>\n      <td>...</td>\n      <td>0</td>\n      <td>0</td>\n      <td>0</td>\n      <td>0</td>\n      <td>0</td>\n      <td>0</td>\n      <td>0</td>\n      <td>1</td>\n      <td>0</td>\n      <td>0</td>\n    </tr>\n    <tr>\n      <th>93486</th>\n      <td>31-03-2022</td>\n      <td>822</td>\n      <td>09:45</td>\n      <td>10h 05m</td>\n      <td>19:50</td>\n      <td>81,585</td>\n      <td>0</td>\n      <td>1</td>\n      <td>0</td>\n      <td>1</td>\n      <td>...</td>\n      <td>0</td>\n      <td>0</td>\n      <td>0</td>\n      <td>0</td>\n      <td>0</td>\n      <td>0</td>\n      <td>0</td>\n      <td>1</td>\n      <td>0</td>\n      <td>0</td>\n    </tr>\n  </tbody>\n</table>\n<p>93487 rows × 47 columns</p>\n</div>"
     },
     "execution_count": 51,
     "metadata": {},
     "output_type": "execute_result"
    }
   ],
   "source": [
    "df_business_encoded = pd.get_dummies(df_business, columns=['airline', 'ch_code', 'from', 'stop', 'to'], dtype=int)\n",
    "df_business_encoded"
   ],
   "metadata": {
    "collapsed": false,
    "ExecuteTime": {
     "end_time": "2023-10-29T16:11:34.249758783Z",
     "start_time": "2023-10-29T16:11:34.192328172Z"
    }
   }
  },
  {
   "cell_type": "code",
   "execution_count": 52,
   "outputs": [
    {
     "data": {
      "text/plain": "              date  num_code dep_time time_taken arr_time  price  \\\n0       11-02-2022      8709    18:55    02h 10m    21:05  5,953   \n1       11-02-2022      8157    06:20    02h 20m    08:40  5,953   \n2       11-02-2022       764    04:25    02h 10m    06:35  5,956   \n3       11-02-2022       995    10:20    02h 15m    12:35  5,955   \n4       11-02-2022       963    08:50    02h 20m    11:10  5,955   \n...            ...       ...      ...        ...      ...    ...   \n206769  31-03-2022       832    07:05    13h 50m    20:55  7,697   \n206770  31-03-2022       832    07:05    13h 50m    20:55  7,709   \n206771  31-03-2022       826    12:30    20h 35m    09:05  8,640   \n206772  31-03-2022       822    09:45    23h 20m    09:05  8,640   \n206773  31-03-2022       824    20:30    24h 25m    20:55  8,640   \n\n        airline_Air India  airline_AirAsia  airline_GO FIRST  airline_Indigo  \\\n0                       0                0                 0               0   \n1                       0                0                 0               0   \n2                       0                1                 0               0   \n3                       0                0                 0               0   \n4                       0                0                 0               0   \n...                   ...              ...               ...             ...   \n206769                  0                0                 0               0   \n206770                  0                0                 0               0   \n206771                  0                0                 0               0   \n206772                  0                0                 0               0   \n206773                  0                0                 0               0   \n\n        ...  \\\n0       ...   \n1       ...   \n2       ...   \n3       ...   \n4       ...   \n...     ...   \n206769  ...   \n206770  ...   \n206771  ...   \n206772  ...   \n206773  ...   \n\n        stop_1-stop\\n\\t\\t\\t\\t\\t\\t\\t\\t\\t\\t\\t\\tVia VTZ\\n\\t\\t\\t\\t\\t\\t\\t\\t\\t\\t\\t\\t  \\\n0                                                       0                        \n1                                                       0                        \n2                                                       0                        \n3                                                       0                        \n4                                                       0                        \n...                                                   ...                        \n206769                                                  0                        \n206770                                                  0                        \n206771                                                  0                        \n206772                                                  0                        \n206773                                                  0                        \n\n        stop_1-stop\\n\\t\\t\\t\\t\\t\\t\\t\\t\\t\\t\\t\\tVia Vishakhapatnam\\n\\t\\t\\t\\t\\t\\t\\t\\t\\t\\t\\t\\t  \\\n0                                                       0                                   \n1                                                       0                                   \n2                                                       0                                   \n3                                                       0                                   \n4                                                       0                                   \n...                                                   ...                                   \n206769                                                  0                                   \n206770                                                  0                                   \n206771                                                  0                                   \n206772                                                  0                                   \n206773                                                  0                                   \n\n        stop_2+-stop  stop_non-stop   to_Bangalore  to_Chennai  to_Delhi  \\\n0                  0               1             0           0         0   \n1                  0               1             0           0         0   \n2                  0               1             0           0         0   \n3                  0               1             0           0         0   \n4                  0               1             0           0         0   \n...              ...             ...           ...         ...       ...   \n206769             0               0             0           0         0   \n206770             0               0             0           0         0   \n206771             0               0             0           0         0   \n206772             0               0             0           0         0   \n206773             0               0             0           0         0   \n\n        to_Hyderabad  to_Kolkata  to_Mumbai  \n0                  0           0          1  \n1                  0           0          1  \n2                  0           0          1  \n3                  0           0          1  \n4                  0           0          1  \n...              ...         ...        ...  \n206769             1           0          0  \n206770             1           0          0  \n206771             1           0          0  \n206772             1           0          0  \n206773             1           0          0  \n\n[206774 rows x 71 columns]",
      "text/html": "<div>\n<style scoped>\n    .dataframe tbody tr th:only-of-type {\n        vertical-align: middle;\n    }\n\n    .dataframe tbody tr th {\n        vertical-align: top;\n    }\n\n    .dataframe thead th {\n        text-align: right;\n    }\n</style>\n<table border=\"1\" class=\"dataframe\">\n  <thead>\n    <tr style=\"text-align: right;\">\n      <th></th>\n      <th>date</th>\n      <th>num_code</th>\n      <th>dep_time</th>\n      <th>time_taken</th>\n      <th>arr_time</th>\n      <th>price</th>\n      <th>airline_Air India</th>\n      <th>airline_AirAsia</th>\n      <th>airline_GO FIRST</th>\n      <th>airline_Indigo</th>\n      <th>...</th>\n      <th>stop_1-stop\\n\\t\\t\\t\\t\\t\\t\\t\\t\\t\\t\\t\\tVia VTZ\\n\\t\\t\\t\\t\\t\\t\\t\\t\\t\\t\\t\\t</th>\n      <th>stop_1-stop\\n\\t\\t\\t\\t\\t\\t\\t\\t\\t\\t\\t\\tVia Vishakhapatnam\\n\\t\\t\\t\\t\\t\\t\\t\\t\\t\\t\\t\\t</th>\n      <th>stop_2+-stop</th>\n      <th>stop_non-stop</th>\n      <th>to_Bangalore</th>\n      <th>to_Chennai</th>\n      <th>to_Delhi</th>\n      <th>to_Hyderabad</th>\n      <th>to_Kolkata</th>\n      <th>to_Mumbai</th>\n    </tr>\n  </thead>\n  <tbody>\n    <tr>\n      <th>0</th>\n      <td>11-02-2022</td>\n      <td>8709</td>\n      <td>18:55</td>\n      <td>02h 10m</td>\n      <td>21:05</td>\n      <td>5,953</td>\n      <td>0</td>\n      <td>0</td>\n      <td>0</td>\n      <td>0</td>\n      <td>...</td>\n      <td>0</td>\n      <td>0</td>\n      <td>0</td>\n      <td>1</td>\n      <td>0</td>\n      <td>0</td>\n      <td>0</td>\n      <td>0</td>\n      <td>0</td>\n      <td>1</td>\n    </tr>\n    <tr>\n      <th>1</th>\n      <td>11-02-2022</td>\n      <td>8157</td>\n      <td>06:20</td>\n      <td>02h 20m</td>\n      <td>08:40</td>\n      <td>5,953</td>\n      <td>0</td>\n      <td>0</td>\n      <td>0</td>\n      <td>0</td>\n      <td>...</td>\n      <td>0</td>\n      <td>0</td>\n      <td>0</td>\n      <td>1</td>\n      <td>0</td>\n      <td>0</td>\n      <td>0</td>\n      <td>0</td>\n      <td>0</td>\n      <td>1</td>\n    </tr>\n    <tr>\n      <th>2</th>\n      <td>11-02-2022</td>\n      <td>764</td>\n      <td>04:25</td>\n      <td>02h 10m</td>\n      <td>06:35</td>\n      <td>5,956</td>\n      <td>0</td>\n      <td>1</td>\n      <td>0</td>\n      <td>0</td>\n      <td>...</td>\n      <td>0</td>\n      <td>0</td>\n      <td>0</td>\n      <td>1</td>\n      <td>0</td>\n      <td>0</td>\n      <td>0</td>\n      <td>0</td>\n      <td>0</td>\n      <td>1</td>\n    </tr>\n    <tr>\n      <th>3</th>\n      <td>11-02-2022</td>\n      <td>995</td>\n      <td>10:20</td>\n      <td>02h 15m</td>\n      <td>12:35</td>\n      <td>5,955</td>\n      <td>0</td>\n      <td>0</td>\n      <td>0</td>\n      <td>0</td>\n      <td>...</td>\n      <td>0</td>\n      <td>0</td>\n      <td>0</td>\n      <td>1</td>\n      <td>0</td>\n      <td>0</td>\n      <td>0</td>\n      <td>0</td>\n      <td>0</td>\n      <td>1</td>\n    </tr>\n    <tr>\n      <th>4</th>\n      <td>11-02-2022</td>\n      <td>963</td>\n      <td>08:50</td>\n      <td>02h 20m</td>\n      <td>11:10</td>\n      <td>5,955</td>\n      <td>0</td>\n      <td>0</td>\n      <td>0</td>\n      <td>0</td>\n      <td>...</td>\n      <td>0</td>\n      <td>0</td>\n      <td>0</td>\n      <td>1</td>\n      <td>0</td>\n      <td>0</td>\n      <td>0</td>\n      <td>0</td>\n      <td>0</td>\n      <td>1</td>\n    </tr>\n    <tr>\n      <th>...</th>\n      <td>...</td>\n      <td>...</td>\n      <td>...</td>\n      <td>...</td>\n      <td>...</td>\n      <td>...</td>\n      <td>...</td>\n      <td>...</td>\n      <td>...</td>\n      <td>...</td>\n      <td>...</td>\n      <td>...</td>\n      <td>...</td>\n      <td>...</td>\n      <td>...</td>\n      <td>...</td>\n      <td>...</td>\n      <td>...</td>\n      <td>...</td>\n      <td>...</td>\n      <td>...</td>\n    </tr>\n    <tr>\n      <th>206769</th>\n      <td>31-03-2022</td>\n      <td>832</td>\n      <td>07:05</td>\n      <td>13h 50m</td>\n      <td>20:55</td>\n      <td>7,697</td>\n      <td>0</td>\n      <td>0</td>\n      <td>0</td>\n      <td>0</td>\n      <td>...</td>\n      <td>0</td>\n      <td>0</td>\n      <td>0</td>\n      <td>0</td>\n      <td>0</td>\n      <td>0</td>\n      <td>0</td>\n      <td>1</td>\n      <td>0</td>\n      <td>0</td>\n    </tr>\n    <tr>\n      <th>206770</th>\n      <td>31-03-2022</td>\n      <td>832</td>\n      <td>07:05</td>\n      <td>13h 50m</td>\n      <td>20:55</td>\n      <td>7,709</td>\n      <td>0</td>\n      <td>0</td>\n      <td>0</td>\n      <td>0</td>\n      <td>...</td>\n      <td>0</td>\n      <td>0</td>\n      <td>0</td>\n      <td>0</td>\n      <td>0</td>\n      <td>0</td>\n      <td>0</td>\n      <td>1</td>\n      <td>0</td>\n      <td>0</td>\n    </tr>\n    <tr>\n      <th>206771</th>\n      <td>31-03-2022</td>\n      <td>826</td>\n      <td>12:30</td>\n      <td>20h 35m</td>\n      <td>09:05</td>\n      <td>8,640</td>\n      <td>0</td>\n      <td>0</td>\n      <td>0</td>\n      <td>0</td>\n      <td>...</td>\n      <td>0</td>\n      <td>0</td>\n      <td>0</td>\n      <td>0</td>\n      <td>0</td>\n      <td>0</td>\n      <td>0</td>\n      <td>1</td>\n      <td>0</td>\n      <td>0</td>\n    </tr>\n    <tr>\n      <th>206772</th>\n      <td>31-03-2022</td>\n      <td>822</td>\n      <td>09:45</td>\n      <td>23h 20m</td>\n      <td>09:05</td>\n      <td>8,640</td>\n      <td>0</td>\n      <td>0</td>\n      <td>0</td>\n      <td>0</td>\n      <td>...</td>\n      <td>0</td>\n      <td>0</td>\n      <td>0</td>\n      <td>0</td>\n      <td>0</td>\n      <td>0</td>\n      <td>0</td>\n      <td>1</td>\n      <td>0</td>\n      <td>0</td>\n    </tr>\n    <tr>\n      <th>206773</th>\n      <td>31-03-2022</td>\n      <td>824</td>\n      <td>20:30</td>\n      <td>24h 25m</td>\n      <td>20:55</td>\n      <td>8,640</td>\n      <td>0</td>\n      <td>0</td>\n      <td>0</td>\n      <td>0</td>\n      <td>...</td>\n      <td>0</td>\n      <td>0</td>\n      <td>0</td>\n      <td>0</td>\n      <td>0</td>\n      <td>0</td>\n      <td>0</td>\n      <td>1</td>\n      <td>0</td>\n      <td>0</td>\n    </tr>\n  </tbody>\n</table>\n<p>206774 rows × 71 columns</p>\n</div>"
     },
     "execution_count": 52,
     "metadata": {},
     "output_type": "execute_result"
    }
   ],
   "source": [
    "df_economy_encoded = pd.get_dummies(df_economy, columns=['airline', 'ch_code', 'from', 'stop', 'to'], dtype=int)\n",
    "df_economy_encoded"
   ],
   "metadata": {
    "collapsed": false,
    "ExecuteTime": {
     "end_time": "2023-10-29T16:11:35.425877659Z",
     "start_time": "2023-10-29T16:11:34.954730492Z"
    }
   }
  },
  {
   "cell_type": "markdown",
   "metadata": {},
   "source": [
    "## Outlier data"
   ]
  },
  {
   "cell_type": "markdown",
   "metadata": {},
   "source": [
    "### Removing"
   ]
  },
  {
   "cell_type": "markdown",
   "metadata": {},
   "source": [
    "### Transforming"
   ]
  },
  {
   "cell_type": "markdown",
   "metadata": {},
   "source": [
    "## Data visualization"
   ]
  },
  {
   "cell_type": "markdown",
   "metadata": {},
   "source": [
    "### Name of feature1 [chart/hist/dot etc...]"
   ]
  },
  {
   "cell_type": "markdown",
   "metadata": {},
   "source": [
    "### Name of feature2 [chart/hist/dot etc...]"
   ]
  },
  {
   "cell_type": "markdown",
   "metadata": {},
   "source": [
    "."
   ]
  },
  {
   "cell_type": "markdown",
   "metadata": {},
   "source": [
    "."
   ]
  },
  {
   "cell_type": "markdown",
   "metadata": {},
   "source": [
    "."
   ]
  },
  {
   "cell_type": "markdown",
   "metadata": {},
   "source": [
    "### Name of featureN [chart/hist/dot etc...]"
   ]
  },
  {
   "cell_type": "markdown",
   "metadata": {},
   "source": [
    "## Varble effect on the outcome"
   ]
  },
  {
   "cell_type": "markdown",
   "metadata": {},
   "source": [
    "### Categorical"
   ]
  },
  {
   "cell_type": "markdown",
   "metadata": {},
   "source": [
    "### Numerical"
   ]
  },
  {
   "cell_type": "markdown",
   "metadata": {},
   "source": [
    "## Developing new features"
   ]
  },
  {
   "cell_type": "markdown",
   "metadata": {},
   "source": [
    "## Selecting most important features [not necessary]"
   ]
  }
 ],
 "metadata": {
  "kernelspec": {
   "display_name": "Python 3",
   "language": "python",
   "name": "python3"
  },
  "language_info": {
   "codemirror_mode": {
    "name": "ipython",
    "version": 3
   },
   "file_extension": ".py",
   "mimetype": "text/x-python",
   "name": "python",
   "nbconvert_exporter": "python",
   "pygments_lexer": "ipython3",
   "version": "3.10.8"
  }
 },
 "nbformat": 4,
 "nbformat_minor": 2
}
