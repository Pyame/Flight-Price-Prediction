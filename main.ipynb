{
 "cells": [
  {
   "cell_type": "markdown",
   "metadata": {},
   "source": [
    "# Flight price prediction"
   ]
  },
  {
   "cell_type": "markdown",
   "metadata": {},
   "source": [
    "## Questions\n",
    "a) Does price vary with Airlines?\n",
    "\n",
    "b) How is the price affected when tickets are bought in just 1 or 2 days before departure?\n",
    "\n",
    "c) Does ticket price change based on the departure time and arrival time?\n",
    "\n",
    "d) How the price changes with change in Source and Destination?\n",
    "\n",
    "e) How does the ticket price vary between Economy and Business class?"
   ]
  },
  {
   "cell_type": "code",
   "execution_count": 149,
   "metadata": {},
   "outputs": [],
   "source": [
    "import pandas as pd\n",
    "import numpy as np\n",
    "import matplotlib.pyplot as plt"
   ]
  },
  {
   "cell_type": "markdown",
   "metadata": {},
   "source": [
    "## Load Data"
   ]
  },
  {
   "cell_type": "code",
   "execution_count": 150,
   "metadata": {},
   "outputs": [],
   "source": [
    "df_clean = pd.read_csv('./data/Clean_Dataset.csv')\n",
    "df_business = pd.read_csv('./data/business.csv')\n",
    "df_business['stop'] = df_business['stop'].str.replace(r'\\s+', ' ', regex=True)\n",
    "df_economy = pd.read_csv('./data/economy.csv')"
   ]
  },
  {
   "cell_type": "code",
   "execution_count": 151,
   "metadata": {},
   "outputs": [
    {
     "data": {
      "text/plain": "        Unnamed: 0   airline   flight source_city departure_time stops  \\\n0                0  SpiceJet  SG-8709       Delhi        Evening  zero   \n1                1  SpiceJet  SG-8157       Delhi  Early_Morning  zero   \n2                2   AirAsia   I5-764       Delhi  Early_Morning  zero   \n3                3   Vistara   UK-995       Delhi        Morning  zero   \n4                4   Vistara   UK-963       Delhi        Morning  zero   \n...            ...       ...      ...         ...            ...   ...   \n300148      300148   Vistara   UK-822     Chennai        Morning   one   \n300149      300149   Vistara   UK-826     Chennai      Afternoon   one   \n300150      300150   Vistara   UK-832     Chennai  Early_Morning   one   \n300151      300151   Vistara   UK-828     Chennai  Early_Morning   one   \n300152      300152   Vistara   UK-822     Chennai        Morning   one   \n\n         arrival_time destination_city     class  duration  days_left  price  \n0               Night           Mumbai   Economy      2.17          1   5953  \n1             Morning           Mumbai   Economy      2.33          1   5953  \n2       Early_Morning           Mumbai   Economy      2.17          1   5956  \n3           Afternoon           Mumbai   Economy      2.25          1   5955  \n4             Morning           Mumbai   Economy      2.33          1   5955  \n...               ...              ...       ...       ...        ...    ...  \n300148        Evening        Hyderabad  Business     10.08         49  69265  \n300149          Night        Hyderabad  Business     10.42         49  77105  \n300150          Night        Hyderabad  Business     13.83         49  79099  \n300151        Evening        Hyderabad  Business     10.00         49  81585  \n300152        Evening        Hyderabad  Business     10.08         49  81585  \n\n[300153 rows x 12 columns]",
      "text/html": "<div>\n<style scoped>\n    .dataframe tbody tr th:only-of-type {\n        vertical-align: middle;\n    }\n\n    .dataframe tbody tr th {\n        vertical-align: top;\n    }\n\n    .dataframe thead th {\n        text-align: right;\n    }\n</style>\n<table border=\"1\" class=\"dataframe\">\n  <thead>\n    <tr style=\"text-align: right;\">\n      <th></th>\n      <th>Unnamed: 0</th>\n      <th>airline</th>\n      <th>flight</th>\n      <th>source_city</th>\n      <th>departure_time</th>\n      <th>stops</th>\n      <th>arrival_time</th>\n      <th>destination_city</th>\n      <th>class</th>\n      <th>duration</th>\n      <th>days_left</th>\n      <th>price</th>\n    </tr>\n  </thead>\n  <tbody>\n    <tr>\n      <th>0</th>\n      <td>0</td>\n      <td>SpiceJet</td>\n      <td>SG-8709</td>\n      <td>Delhi</td>\n      <td>Evening</td>\n      <td>zero</td>\n      <td>Night</td>\n      <td>Mumbai</td>\n      <td>Economy</td>\n      <td>2.17</td>\n      <td>1</td>\n      <td>5953</td>\n    </tr>\n    <tr>\n      <th>1</th>\n      <td>1</td>\n      <td>SpiceJet</td>\n      <td>SG-8157</td>\n      <td>Delhi</td>\n      <td>Early_Morning</td>\n      <td>zero</td>\n      <td>Morning</td>\n      <td>Mumbai</td>\n      <td>Economy</td>\n      <td>2.33</td>\n      <td>1</td>\n      <td>5953</td>\n    </tr>\n    <tr>\n      <th>2</th>\n      <td>2</td>\n      <td>AirAsia</td>\n      <td>I5-764</td>\n      <td>Delhi</td>\n      <td>Early_Morning</td>\n      <td>zero</td>\n      <td>Early_Morning</td>\n      <td>Mumbai</td>\n      <td>Economy</td>\n      <td>2.17</td>\n      <td>1</td>\n      <td>5956</td>\n    </tr>\n    <tr>\n      <th>3</th>\n      <td>3</td>\n      <td>Vistara</td>\n      <td>UK-995</td>\n      <td>Delhi</td>\n      <td>Morning</td>\n      <td>zero</td>\n      <td>Afternoon</td>\n      <td>Mumbai</td>\n      <td>Economy</td>\n      <td>2.25</td>\n      <td>1</td>\n      <td>5955</td>\n    </tr>\n    <tr>\n      <th>4</th>\n      <td>4</td>\n      <td>Vistara</td>\n      <td>UK-963</td>\n      <td>Delhi</td>\n      <td>Morning</td>\n      <td>zero</td>\n      <td>Morning</td>\n      <td>Mumbai</td>\n      <td>Economy</td>\n      <td>2.33</td>\n      <td>1</td>\n      <td>5955</td>\n    </tr>\n    <tr>\n      <th>...</th>\n      <td>...</td>\n      <td>...</td>\n      <td>...</td>\n      <td>...</td>\n      <td>...</td>\n      <td>...</td>\n      <td>...</td>\n      <td>...</td>\n      <td>...</td>\n      <td>...</td>\n      <td>...</td>\n      <td>...</td>\n    </tr>\n    <tr>\n      <th>300148</th>\n      <td>300148</td>\n      <td>Vistara</td>\n      <td>UK-822</td>\n      <td>Chennai</td>\n      <td>Morning</td>\n      <td>one</td>\n      <td>Evening</td>\n      <td>Hyderabad</td>\n      <td>Business</td>\n      <td>10.08</td>\n      <td>49</td>\n      <td>69265</td>\n    </tr>\n    <tr>\n      <th>300149</th>\n      <td>300149</td>\n      <td>Vistara</td>\n      <td>UK-826</td>\n      <td>Chennai</td>\n      <td>Afternoon</td>\n      <td>one</td>\n      <td>Night</td>\n      <td>Hyderabad</td>\n      <td>Business</td>\n      <td>10.42</td>\n      <td>49</td>\n      <td>77105</td>\n    </tr>\n    <tr>\n      <th>300150</th>\n      <td>300150</td>\n      <td>Vistara</td>\n      <td>UK-832</td>\n      <td>Chennai</td>\n      <td>Early_Morning</td>\n      <td>one</td>\n      <td>Night</td>\n      <td>Hyderabad</td>\n      <td>Business</td>\n      <td>13.83</td>\n      <td>49</td>\n      <td>79099</td>\n    </tr>\n    <tr>\n      <th>300151</th>\n      <td>300151</td>\n      <td>Vistara</td>\n      <td>UK-828</td>\n      <td>Chennai</td>\n      <td>Early_Morning</td>\n      <td>one</td>\n      <td>Evening</td>\n      <td>Hyderabad</td>\n      <td>Business</td>\n      <td>10.00</td>\n      <td>49</td>\n      <td>81585</td>\n    </tr>\n    <tr>\n      <th>300152</th>\n      <td>300152</td>\n      <td>Vistara</td>\n      <td>UK-822</td>\n      <td>Chennai</td>\n      <td>Morning</td>\n      <td>one</td>\n      <td>Evening</td>\n      <td>Hyderabad</td>\n      <td>Business</td>\n      <td>10.08</td>\n      <td>49</td>\n      <td>81585</td>\n    </tr>\n  </tbody>\n</table>\n<p>300153 rows × 12 columns</p>\n</div>"
     },
     "execution_count": 151,
     "metadata": {},
     "output_type": "execute_result"
    }
   ],
   "source": [
    "df_clean"
   ]
  },
  {
   "cell_type": "code",
   "execution_count": 152,
   "metadata": {},
   "outputs": [
    {
     "data": {
      "text/plain": "             date    airline ch_code  num_code dep_time     from time_taken  \\\n0      11-02-2022  Air India      AI       868    18:00    Delhi    02h 00m   \n1      11-02-2022  Air India      AI       624    19:00    Delhi    02h 15m   \n2      11-02-2022  Air India      AI       531    20:00    Delhi    24h 45m   \n3      11-02-2022  Air India      AI       839    21:25    Delhi    26h 30m   \n4      11-02-2022  Air India      AI       544    17:15    Delhi    06h 40m   \n...           ...        ...     ...       ...      ...      ...        ...   \n93482  31-03-2022    Vistara      UK       822    09:45  Chennai    10h 05m   \n93483  31-03-2022    Vistara      UK       826    12:30  Chennai    10h 25m   \n93484  31-03-2022    Vistara      UK       832    07:05  Chennai    13h 50m   \n93485  31-03-2022    Vistara      UK       828    07:00  Chennai    10h 00m   \n93486  31-03-2022    Vistara      UK       822    09:45  Chennai    10h 05m   \n\n            stop arr_time         to   price  \n0      non-stop     20:00     Mumbai  25,612  \n1      non-stop     21:15     Mumbai  25,612  \n2        1-stop     20:45     Mumbai  42,220  \n3        1-stop     23:55     Mumbai  44,450  \n4        1-stop     23:55     Mumbai  46,690  \n...          ...      ...        ...     ...  \n93482    1-stop     19:50  Hyderabad  69,265  \n93483    1-stop     22:55  Hyderabad  77,105  \n93484    1-stop     20:55  Hyderabad  79,099  \n93485    1-stop     17:00  Hyderabad  81,585  \n93486    1-stop     19:50  Hyderabad  81,585  \n\n[93487 rows x 11 columns]",
      "text/html": "<div>\n<style scoped>\n    .dataframe tbody tr th:only-of-type {\n        vertical-align: middle;\n    }\n\n    .dataframe tbody tr th {\n        vertical-align: top;\n    }\n\n    .dataframe thead th {\n        text-align: right;\n    }\n</style>\n<table border=\"1\" class=\"dataframe\">\n  <thead>\n    <tr style=\"text-align: right;\">\n      <th></th>\n      <th>date</th>\n      <th>airline</th>\n      <th>ch_code</th>\n      <th>num_code</th>\n      <th>dep_time</th>\n      <th>from</th>\n      <th>time_taken</th>\n      <th>stop</th>\n      <th>arr_time</th>\n      <th>to</th>\n      <th>price</th>\n    </tr>\n  </thead>\n  <tbody>\n    <tr>\n      <th>0</th>\n      <td>11-02-2022</td>\n      <td>Air India</td>\n      <td>AI</td>\n      <td>868</td>\n      <td>18:00</td>\n      <td>Delhi</td>\n      <td>02h 00m</td>\n      <td>non-stop</td>\n      <td>20:00</td>\n      <td>Mumbai</td>\n      <td>25,612</td>\n    </tr>\n    <tr>\n      <th>1</th>\n      <td>11-02-2022</td>\n      <td>Air India</td>\n      <td>AI</td>\n      <td>624</td>\n      <td>19:00</td>\n      <td>Delhi</td>\n      <td>02h 15m</td>\n      <td>non-stop</td>\n      <td>21:15</td>\n      <td>Mumbai</td>\n      <td>25,612</td>\n    </tr>\n    <tr>\n      <th>2</th>\n      <td>11-02-2022</td>\n      <td>Air India</td>\n      <td>AI</td>\n      <td>531</td>\n      <td>20:00</td>\n      <td>Delhi</td>\n      <td>24h 45m</td>\n      <td>1-stop</td>\n      <td>20:45</td>\n      <td>Mumbai</td>\n      <td>42,220</td>\n    </tr>\n    <tr>\n      <th>3</th>\n      <td>11-02-2022</td>\n      <td>Air India</td>\n      <td>AI</td>\n      <td>839</td>\n      <td>21:25</td>\n      <td>Delhi</td>\n      <td>26h 30m</td>\n      <td>1-stop</td>\n      <td>23:55</td>\n      <td>Mumbai</td>\n      <td>44,450</td>\n    </tr>\n    <tr>\n      <th>4</th>\n      <td>11-02-2022</td>\n      <td>Air India</td>\n      <td>AI</td>\n      <td>544</td>\n      <td>17:15</td>\n      <td>Delhi</td>\n      <td>06h 40m</td>\n      <td>1-stop</td>\n      <td>23:55</td>\n      <td>Mumbai</td>\n      <td>46,690</td>\n    </tr>\n    <tr>\n      <th>...</th>\n      <td>...</td>\n      <td>...</td>\n      <td>...</td>\n      <td>...</td>\n      <td>...</td>\n      <td>...</td>\n      <td>...</td>\n      <td>...</td>\n      <td>...</td>\n      <td>...</td>\n      <td>...</td>\n    </tr>\n    <tr>\n      <th>93482</th>\n      <td>31-03-2022</td>\n      <td>Vistara</td>\n      <td>UK</td>\n      <td>822</td>\n      <td>09:45</td>\n      <td>Chennai</td>\n      <td>10h 05m</td>\n      <td>1-stop</td>\n      <td>19:50</td>\n      <td>Hyderabad</td>\n      <td>69,265</td>\n    </tr>\n    <tr>\n      <th>93483</th>\n      <td>31-03-2022</td>\n      <td>Vistara</td>\n      <td>UK</td>\n      <td>826</td>\n      <td>12:30</td>\n      <td>Chennai</td>\n      <td>10h 25m</td>\n      <td>1-stop</td>\n      <td>22:55</td>\n      <td>Hyderabad</td>\n      <td>77,105</td>\n    </tr>\n    <tr>\n      <th>93484</th>\n      <td>31-03-2022</td>\n      <td>Vistara</td>\n      <td>UK</td>\n      <td>832</td>\n      <td>07:05</td>\n      <td>Chennai</td>\n      <td>13h 50m</td>\n      <td>1-stop</td>\n      <td>20:55</td>\n      <td>Hyderabad</td>\n      <td>79,099</td>\n    </tr>\n    <tr>\n      <th>93485</th>\n      <td>31-03-2022</td>\n      <td>Vistara</td>\n      <td>UK</td>\n      <td>828</td>\n      <td>07:00</td>\n      <td>Chennai</td>\n      <td>10h 00m</td>\n      <td>1-stop</td>\n      <td>17:00</td>\n      <td>Hyderabad</td>\n      <td>81,585</td>\n    </tr>\n    <tr>\n      <th>93486</th>\n      <td>31-03-2022</td>\n      <td>Vistara</td>\n      <td>UK</td>\n      <td>822</td>\n      <td>09:45</td>\n      <td>Chennai</td>\n      <td>10h 05m</td>\n      <td>1-stop</td>\n      <td>19:50</td>\n      <td>Hyderabad</td>\n      <td>81,585</td>\n    </tr>\n  </tbody>\n</table>\n<p>93487 rows × 11 columns</p>\n</div>"
     },
     "execution_count": 152,
     "metadata": {},
     "output_type": "execute_result"
    }
   ],
   "source": [
    "df_business"
   ]
  },
  {
   "cell_type": "code",
   "execution_count": 153,
   "metadata": {},
   "outputs": [
    {
     "data": {
      "text/plain": "              date   airline ch_code  num_code dep_time     from time_taken  \\\n0       11-02-2022  SpiceJet      SG      8709    18:55    Delhi    02h 10m   \n1       11-02-2022  SpiceJet      SG      8157    06:20    Delhi    02h 20m   \n2       11-02-2022   AirAsia      I5       764    04:25    Delhi    02h 10m   \n3       11-02-2022   Vistara      UK       995    10:20    Delhi    02h 15m   \n4       11-02-2022   Vistara      UK       963    08:50    Delhi    02h 20m   \n...            ...       ...     ...       ...      ...      ...        ...   \n206769  31-03-2022   Vistara      UK       832    07:05  Chennai    13h 50m   \n206770  31-03-2022   Vistara      UK       832    07:05  Chennai    13h 50m   \n206771  31-03-2022   Vistara      UK       826    12:30  Chennai    20h 35m   \n206772  31-03-2022   Vistara      UK       822    09:45  Chennai    23h 20m   \n206773  31-03-2022   Vistara      UK       824    20:30  Chennai    24h 25m   \n\n                                                     stop arr_time         to  \\\n0                                               non-stop     21:05     Mumbai   \n1                                               non-stop     08:40     Mumbai   \n2                                               non-stop     06:35     Mumbai   \n3                                               non-stop     12:35     Mumbai   \n4                                               non-stop     11:10     Mumbai   \n...                                                   ...      ...        ...   \n206769  1-stop\\n\\t\\t\\t\\t\\t\\t\\t\\t\\t\\t\\t\\t\\n\\t\\t\\t\\t\\t\\t...    20:55  Hyderabad   \n206770  1-stop\\n\\t\\t\\t\\t\\t\\t\\t\\t\\t\\t\\t\\t\\n\\t\\t\\t\\t\\t\\t...    20:55  Hyderabad   \n206771  1-stop\\n\\t\\t\\t\\t\\t\\t\\t\\t\\t\\t\\t\\t\\n\\t\\t\\t\\t\\t\\t...    09:05  Hyderabad   \n206772  1-stop\\n\\t\\t\\t\\t\\t\\t\\t\\t\\t\\t\\t\\t\\n\\t\\t\\t\\t\\t\\t...    09:05  Hyderabad   \n206773  1-stop\\n\\t\\t\\t\\t\\t\\t\\t\\t\\t\\t\\t\\t\\n\\t\\t\\t\\t\\t\\t...    20:55  Hyderabad   \n\n        price  \n0       5,953  \n1       5,953  \n2       5,956  \n3       5,955  \n4       5,955  \n...       ...  \n206769  7,697  \n206770  7,709  \n206771  8,640  \n206772  8,640  \n206773  8,640  \n\n[206774 rows x 11 columns]",
      "text/html": "<div>\n<style scoped>\n    .dataframe tbody tr th:only-of-type {\n        vertical-align: middle;\n    }\n\n    .dataframe tbody tr th {\n        vertical-align: top;\n    }\n\n    .dataframe thead th {\n        text-align: right;\n    }\n</style>\n<table border=\"1\" class=\"dataframe\">\n  <thead>\n    <tr style=\"text-align: right;\">\n      <th></th>\n      <th>date</th>\n      <th>airline</th>\n      <th>ch_code</th>\n      <th>num_code</th>\n      <th>dep_time</th>\n      <th>from</th>\n      <th>time_taken</th>\n      <th>stop</th>\n      <th>arr_time</th>\n      <th>to</th>\n      <th>price</th>\n    </tr>\n  </thead>\n  <tbody>\n    <tr>\n      <th>0</th>\n      <td>11-02-2022</td>\n      <td>SpiceJet</td>\n      <td>SG</td>\n      <td>8709</td>\n      <td>18:55</td>\n      <td>Delhi</td>\n      <td>02h 10m</td>\n      <td>non-stop</td>\n      <td>21:05</td>\n      <td>Mumbai</td>\n      <td>5,953</td>\n    </tr>\n    <tr>\n      <th>1</th>\n      <td>11-02-2022</td>\n      <td>SpiceJet</td>\n      <td>SG</td>\n      <td>8157</td>\n      <td>06:20</td>\n      <td>Delhi</td>\n      <td>02h 20m</td>\n      <td>non-stop</td>\n      <td>08:40</td>\n      <td>Mumbai</td>\n      <td>5,953</td>\n    </tr>\n    <tr>\n      <th>2</th>\n      <td>11-02-2022</td>\n      <td>AirAsia</td>\n      <td>I5</td>\n      <td>764</td>\n      <td>04:25</td>\n      <td>Delhi</td>\n      <td>02h 10m</td>\n      <td>non-stop</td>\n      <td>06:35</td>\n      <td>Mumbai</td>\n      <td>5,956</td>\n    </tr>\n    <tr>\n      <th>3</th>\n      <td>11-02-2022</td>\n      <td>Vistara</td>\n      <td>UK</td>\n      <td>995</td>\n      <td>10:20</td>\n      <td>Delhi</td>\n      <td>02h 15m</td>\n      <td>non-stop</td>\n      <td>12:35</td>\n      <td>Mumbai</td>\n      <td>5,955</td>\n    </tr>\n    <tr>\n      <th>4</th>\n      <td>11-02-2022</td>\n      <td>Vistara</td>\n      <td>UK</td>\n      <td>963</td>\n      <td>08:50</td>\n      <td>Delhi</td>\n      <td>02h 20m</td>\n      <td>non-stop</td>\n      <td>11:10</td>\n      <td>Mumbai</td>\n      <td>5,955</td>\n    </tr>\n    <tr>\n      <th>...</th>\n      <td>...</td>\n      <td>...</td>\n      <td>...</td>\n      <td>...</td>\n      <td>...</td>\n      <td>...</td>\n      <td>...</td>\n      <td>...</td>\n      <td>...</td>\n      <td>...</td>\n      <td>...</td>\n    </tr>\n    <tr>\n      <th>206769</th>\n      <td>31-03-2022</td>\n      <td>Vistara</td>\n      <td>UK</td>\n      <td>832</td>\n      <td>07:05</td>\n      <td>Chennai</td>\n      <td>13h 50m</td>\n      <td>1-stop\\n\\t\\t\\t\\t\\t\\t\\t\\t\\t\\t\\t\\t\\n\\t\\t\\t\\t\\t\\t...</td>\n      <td>20:55</td>\n      <td>Hyderabad</td>\n      <td>7,697</td>\n    </tr>\n    <tr>\n      <th>206770</th>\n      <td>31-03-2022</td>\n      <td>Vistara</td>\n      <td>UK</td>\n      <td>832</td>\n      <td>07:05</td>\n      <td>Chennai</td>\n      <td>13h 50m</td>\n      <td>1-stop\\n\\t\\t\\t\\t\\t\\t\\t\\t\\t\\t\\t\\t\\n\\t\\t\\t\\t\\t\\t...</td>\n      <td>20:55</td>\n      <td>Hyderabad</td>\n      <td>7,709</td>\n    </tr>\n    <tr>\n      <th>206771</th>\n      <td>31-03-2022</td>\n      <td>Vistara</td>\n      <td>UK</td>\n      <td>826</td>\n      <td>12:30</td>\n      <td>Chennai</td>\n      <td>20h 35m</td>\n      <td>1-stop\\n\\t\\t\\t\\t\\t\\t\\t\\t\\t\\t\\t\\t\\n\\t\\t\\t\\t\\t\\t...</td>\n      <td>09:05</td>\n      <td>Hyderabad</td>\n      <td>8,640</td>\n    </tr>\n    <tr>\n      <th>206772</th>\n      <td>31-03-2022</td>\n      <td>Vistara</td>\n      <td>UK</td>\n      <td>822</td>\n      <td>09:45</td>\n      <td>Chennai</td>\n      <td>23h 20m</td>\n      <td>1-stop\\n\\t\\t\\t\\t\\t\\t\\t\\t\\t\\t\\t\\t\\n\\t\\t\\t\\t\\t\\t...</td>\n      <td>09:05</td>\n      <td>Hyderabad</td>\n      <td>8,640</td>\n    </tr>\n    <tr>\n      <th>206773</th>\n      <td>31-03-2022</td>\n      <td>Vistara</td>\n      <td>UK</td>\n      <td>824</td>\n      <td>20:30</td>\n      <td>Chennai</td>\n      <td>24h 25m</td>\n      <td>1-stop\\n\\t\\t\\t\\t\\t\\t\\t\\t\\t\\t\\t\\t\\n\\t\\t\\t\\t\\t\\t...</td>\n      <td>20:55</td>\n      <td>Hyderabad</td>\n      <td>8,640</td>\n    </tr>\n  </tbody>\n</table>\n<p>206774 rows × 11 columns</p>\n</div>"
     },
     "execution_count": 153,
     "metadata": {},
     "output_type": "execute_result"
    }
   ],
   "source": [
    "df_economy"
   ]
  },
  {
   "cell_type": "markdown",
   "metadata": {},
   "source": [
    "## Removing useless data"
   ]
  },
  {
   "cell_type": "code",
   "execution_count": 154,
   "metadata": {},
   "outputs": [
    {
     "data": {
      "text/plain": [
       "False"
      ]
     },
     "execution_count": 154,
     "metadata": {},
     "output_type": "execute_result"
    }
   ],
   "source": [
    "# Checking for empty values ​​in table df_clean\n",
    "df_clean.empty"
   ]
  },
  {
   "cell_type": "code",
   "execution_count": 155,
   "metadata": {},
   "outputs": [],
   "source": [
    "# Removed Unnamed: 0 and flight from the df_clean\n",
    "df_clean.drop(columns=['Unnamed: 0', 'flight'], inplace=True)"
   ]
  },
  {
   "cell_type": "code",
   "execution_count": 156,
   "metadata": {},
   "outputs": [
    {
     "data": {
      "text/plain": [
       "False"
      ]
     },
     "execution_count": 156,
     "metadata": {},
     "output_type": "execute_result"
    }
   ],
   "source": [
    "# Checking for empty values ​​in table df_business\n",
    "df_business.empty"
   ]
  },
  {
   "cell_type": "code",
   "execution_count": 157,
   "metadata": {},
   "outputs": [],
   "source": [
    "# Removed num_code from the df_business\n",
    "df_business.drop(columns=['num_code'], inplace=True)"
   ]
  },
  {
   "cell_type": "code",
   "execution_count": 158,
   "metadata": {},
   "outputs": [
    {
     "data": {
      "text/plain": [
       "False"
      ]
     },
     "execution_count": 158,
     "metadata": {},
     "output_type": "execute_result"
    }
   ],
   "source": [
    "# Checking for empty values ​​in table df_economy\n",
    "df_economy.empty"
   ]
  },
  {
   "cell_type": "code",
   "execution_count": 159,
   "metadata": {},
   "outputs": [],
   "source": [
    "# Removed num_code from the df_economy\n",
    "df_economy.drop(columns=['num_code'], inplace=True)"
   ]
  },
  {
   "cell_type": "markdown",
   "metadata": {},
   "source": [
    "## Basic Statistics"
   ]
  },
  {
   "cell_type": "markdown",
   "metadata": {},
   "source": [
    "### Clean dataset"
   ]
  },
  {
   "cell_type": "code",
   "execution_count": 160,
   "metadata": {},
   "outputs": [
    {
     "name": "stdout",
     "output_type": "stream",
     "text": [
      "airline: ['SpiceJet' 'AirAsia' 'Vistara' 'GO_FIRST' 'Indigo' 'Air_India']\n",
      "\n",
      "source_city: ['Delhi' 'Mumbai' 'Bangalore' 'Kolkata' 'Hyderabad' 'Chennai']\n",
      "\n",
      "departure_time: ['Evening' 'Early_Morning' 'Morning' 'Afternoon' 'Night' 'Late_Night']\n",
      "\n",
      "stops: ['zero' 'one' 'two_or_more']\n",
      "\n",
      "arrival_time: ['Night' 'Morning' 'Early_Morning' 'Afternoon' 'Evening' 'Late_Night']\n",
      "\n",
      "destination_city: ['Mumbai' 'Bangalore' 'Kolkata' 'Hyderabad' 'Chennai' 'Delhi']\n",
      "\n",
      "class: ['Economy' 'Business']\n",
      "\n",
      "duration: 476 unique values\n",
      "\n",
      "days_left: [ 1  2  3  4  5  6  7  8  9 10 11 12 13 14 15 16 17 18 19 20 21 22 23 24\n",
      " 25 26 27 28 29 30 31 32 33 34 35 36 37 38 39 40 41 42 43 44 45 46 47 48\n",
      " 49]\n",
      "\n",
      "price: 12157 unique values\n",
      "\n"
     ]
    }
   ],
   "source": [
    "# Printing the unique values ​​of individual columns\n",
    "for col in df_clean.columns:\n",
    "    if len(df_clean[col].unique()) > 50:\n",
    "        print(f'{col}: {len(df_clean[col].unique())} unique values')\n",
    "    else:\n",
    "        print(f'{col}: {df_clean[col].unique()}')\n",
    "    print()"
   ]
  },
  {
   "cell_type": "code",
   "execution_count": 161,
   "metadata": {},
   "outputs": [
    {
     "data": {
      "text/html": [
       "<div>\n",
       "<style scoped>\n",
       "    .dataframe tbody tr th:only-of-type {\n",
       "        vertical-align: middle;\n",
       "    }\n",
       "\n",
       "    .dataframe tbody tr th {\n",
       "        vertical-align: top;\n",
       "    }\n",
       "\n",
       "    .dataframe thead th {\n",
       "        text-align: right;\n",
       "    }\n",
       "</style>\n",
       "<table border=\"1\" class=\"dataframe\">\n",
       "  <thead>\n",
       "    <tr style=\"text-align: right;\">\n",
       "      <th></th>\n",
       "      <th>duration</th>\n",
       "      <th>days_left</th>\n",
       "      <th>price</th>\n",
       "    </tr>\n",
       "  </thead>\n",
       "  <tbody>\n",
       "    <tr>\n",
       "      <th>count</th>\n",
       "      <td>300153.000000</td>\n",
       "      <td>300153.000000</td>\n",
       "      <td>300153.000000</td>\n",
       "    </tr>\n",
       "    <tr>\n",
       "      <th>mean</th>\n",
       "      <td>12.221021</td>\n",
       "      <td>26.004751</td>\n",
       "      <td>20889.660523</td>\n",
       "    </tr>\n",
       "    <tr>\n",
       "      <th>std</th>\n",
       "      <td>7.191997</td>\n",
       "      <td>13.561004</td>\n",
       "      <td>22697.767366</td>\n",
       "    </tr>\n",
       "    <tr>\n",
       "      <th>min</th>\n",
       "      <td>0.830000</td>\n",
       "      <td>1.000000</td>\n",
       "      <td>1105.000000</td>\n",
       "    </tr>\n",
       "    <tr>\n",
       "      <th>25%</th>\n",
       "      <td>6.830000</td>\n",
       "      <td>15.000000</td>\n",
       "      <td>4783.000000</td>\n",
       "    </tr>\n",
       "    <tr>\n",
       "      <th>50%</th>\n",
       "      <td>11.250000</td>\n",
       "      <td>26.000000</td>\n",
       "      <td>7425.000000</td>\n",
       "    </tr>\n",
       "    <tr>\n",
       "      <th>75%</th>\n",
       "      <td>16.170000</td>\n",
       "      <td>38.000000</td>\n",
       "      <td>42521.000000</td>\n",
       "    </tr>\n",
       "    <tr>\n",
       "      <th>max</th>\n",
       "      <td>49.830000</td>\n",
       "      <td>49.000000</td>\n",
       "      <td>123071.000000</td>\n",
       "    </tr>\n",
       "  </tbody>\n",
       "</table>\n",
       "</div>"
      ],
      "text/plain": [
       "            duration      days_left          price\n",
       "count  300153.000000  300153.000000  300153.000000\n",
       "mean       12.221021      26.004751   20889.660523\n",
       "std         7.191997      13.561004   22697.767366\n",
       "min         0.830000       1.000000    1105.000000\n",
       "25%         6.830000      15.000000    4783.000000\n",
       "50%        11.250000      26.000000    7425.000000\n",
       "75%        16.170000      38.000000   42521.000000\n",
       "max        49.830000      49.000000  123071.000000"
      ]
     },
     "execution_count": 161,
     "metadata": {},
     "output_type": "execute_result"
    }
   ],
   "source": [
    "# Column statistics in df_clean\n",
    "df_clean.describe()"
   ]
  },
  {
   "cell_type": "code",
   "execution_count": 162,
   "metadata": {},
   "outputs": [
    {
     "data": {
      "text/html": [
       "<div>\n",
       "<style scoped>\n",
       "    .dataframe tbody tr th:only-of-type {\n",
       "        vertical-align: middle;\n",
       "    }\n",
       "\n",
       "    .dataframe tbody tr th {\n",
       "        vertical-align: top;\n",
       "    }\n",
       "\n",
       "    .dataframe thead th {\n",
       "        text-align: right;\n",
       "    }\n",
       "</style>\n",
       "<table border=\"1\" class=\"dataframe\">\n",
       "  <thead>\n",
       "    <tr style=\"text-align: right;\">\n",
       "      <th></th>\n",
       "      <th>count</th>\n",
       "    </tr>\n",
       "    <tr>\n",
       "      <th>airline</th>\n",
       "      <th></th>\n",
       "    </tr>\n",
       "  </thead>\n",
       "  <tbody>\n",
       "    <tr>\n",
       "      <th>Vistara</th>\n",
       "      <td>127859</td>\n",
       "    </tr>\n",
       "    <tr>\n",
       "      <th>Air_India</th>\n",
       "      <td>80892</td>\n",
       "    </tr>\n",
       "    <tr>\n",
       "      <th>Indigo</th>\n",
       "      <td>43120</td>\n",
       "    </tr>\n",
       "    <tr>\n",
       "      <th>GO_FIRST</th>\n",
       "      <td>23173</td>\n",
       "    </tr>\n",
       "    <tr>\n",
       "      <th>AirAsia</th>\n",
       "      <td>16098</td>\n",
       "    </tr>\n",
       "    <tr>\n",
       "      <th>SpiceJet</th>\n",
       "      <td>9011</td>\n",
       "    </tr>\n",
       "  </tbody>\n",
       "</table>\n",
       "</div>"
      ],
      "text/plain": [
       "            count\n",
       "airline          \n",
       "Vistara    127859\n",
       "Air_India   80892\n",
       "Indigo      43120\n",
       "GO_FIRST    23173\n",
       "AirAsia     16098\n",
       "SpiceJet     9011"
      ]
     },
     "execution_count": 162,
     "metadata": {},
     "output_type": "execute_result"
    }
   ],
   "source": [
    "# Schedule of individual airlines\n",
    "df_clean['airline'].value_counts().to_frame()"
   ]
  },
  {
   "cell_type": "code",
   "execution_count": 163,
   "metadata": {},
   "outputs": [
    {
     "data": {
      "image/png": "[encoded data removed]",
      "text/plain": [
       "<Figure size 640x480 with 1 Axes>"
      ]
     },
     "metadata": {},
     "output_type": "display_data"
    }
   ],
   "source": [
    "# Schedule of individual airline in the form of a histogram\n",
    "plt.hist(df_clean['airline'],\n",
    "         density=False,\n",
    "         histtype='bar',\n",
    "         color='b',\n",
    "         edgecolor='k',\n",
    "         alpha=0.5,\n",
    "         bins=len(df_clean['airline'].unique()))\n",
    "plt.show()"
   ]
  },
  {
   "cell_type": "code",
   "execution_count": 164,
   "metadata": {},
   "outputs": [
    {
     "data": {
      "text/html": [
       "<div>\n",
       "<style scoped>\n",
       "    .dataframe tbody tr th:only-of-type {\n",
       "        vertical-align: middle;\n",
       "    }\n",
       "\n",
       "    .dataframe tbody tr th {\n",
       "        vertical-align: top;\n",
       "    }\n",
       "\n",
       "    .dataframe thead th {\n",
       "        text-align: right;\n",
       "    }\n",
       "</style>\n",
       "<table border=\"1\" class=\"dataframe\">\n",
       "  <thead>\n",
       "    <tr style=\"text-align: right;\">\n",
       "      <th></th>\n",
       "      <th>count</th>\n",
       "    </tr>\n",
       "    <tr>\n",
       "      <th>source_city</th>\n",
       "      <th></th>\n",
       "    </tr>\n",
       "  </thead>\n",
       "  <tbody>\n",
       "    <tr>\n",
       "      <th>Delhi</th>\n",
       "      <td>61343</td>\n",
       "    </tr>\n",
       "    <tr>\n",
       "      <th>Mumbai</th>\n",
       "      <td>60896</td>\n",
       "    </tr>\n",
       "    <tr>\n",
       "      <th>Bangalore</th>\n",
       "      <td>52061</td>\n",
       "    </tr>\n",
       "    <tr>\n",
       "      <th>Kolkata</th>\n",
       "      <td>46347</td>\n",
       "    </tr>\n",
       "    <tr>\n",
       "      <th>Hyderabad</th>\n",
       "      <td>40806</td>\n",
       "    </tr>\n",
       "    <tr>\n",
       "      <th>Chennai</th>\n",
       "      <td>38700</td>\n",
       "    </tr>\n",
       "  </tbody>\n",
       "</table>\n",
       "</div>"
      ],
      "text/plain": [
       "             count\n",
       "source_city       \n",
       "Delhi        61343\n",
       "Mumbai       60896\n",
       "Bangalore    52061\n",
       "Kolkata      46347\n",
       "Hyderabad    40806\n",
       "Chennai      38700"
      ]
     },
     "execution_count": 164,
     "metadata": {},
     "output_type": "execute_result"
    }
   ],
   "source": [
    "# Schedule of individual source city\n",
    "df_clean['source_city'].value_counts().to_frame()"
   ]
  },
  {
   "cell_type": "code",
   "execution_count": 165,
   "metadata": {},
   "outputs": [
    {
     "data": {
      "image/png": "[encoded data removed]",
      "text/plain": [
       "<Figure size 640x480 with 1 Axes>"
      ]
     },
     "metadata": {},
     "output_type": "display_data"
    }
   ],
   "source": [
    "# Schedule of individual source_city in the form of a histogram\n",
    "plt.hist(df_clean['source_city'],\n",
    "         density=False,\n",
    "         histtype='bar',\n",
    "         color='b',\n",
    "         edgecolor='k',\n",
    "         alpha=0.5,\n",
    "         bins=len(df_clean['source_city'].unique()))\n",
    "plt.show()"
   ]
  },
  {
   "cell_type": "code",
   "execution_count": 166,
   "metadata": {},
   "outputs": [
    {
     "data": {
      "text/html": [
       "<div>\n",
       "<style scoped>\n",
       "    .dataframe tbody tr th:only-of-type {\n",
       "        vertical-align: middle;\n",
       "    }\n",
       "\n",
       "    .dataframe tbody tr th {\n",
       "        vertical-align: top;\n",
       "    }\n",
       "\n",
       "    .dataframe thead th {\n",
       "        text-align: right;\n",
       "    }\n",
       "</style>\n",
       "<table border=\"1\" class=\"dataframe\">\n",
       "  <thead>\n",
       "    <tr style=\"text-align: right;\">\n",
       "      <th></th>\n",
       "      <th>count</th>\n",
       "    </tr>\n",
       "    <tr>\n",
       "      <th>departure_time</th>\n",
       "      <th></th>\n",
       "    </tr>\n",
       "  </thead>\n",
       "  <tbody>\n",
       "    <tr>\n",
       "      <th>Morning</th>\n",
       "      <td>71146</td>\n",
       "    </tr>\n",
       "    <tr>\n",
       "      <th>Early_Morning</th>\n",
       "      <td>66790</td>\n",
       "    </tr>\n",
       "    <tr>\n",
       "      <th>Evening</th>\n",
       "      <td>65102</td>\n",
       "    </tr>\n",
       "    <tr>\n",
       "      <th>Night</th>\n",
       "      <td>48015</td>\n",
       "    </tr>\n",
       "    <tr>\n",
       "      <th>Afternoon</th>\n",
       "      <td>47794</td>\n",
       "    </tr>\n",
       "    <tr>\n",
       "      <th>Late_Night</th>\n",
       "      <td>1306</td>\n",
       "    </tr>\n",
       "  </tbody>\n",
       "</table>\n",
       "</div>"
      ],
      "text/plain": [
       "                count\n",
       "departure_time       \n",
       "Morning         71146\n",
       "Early_Morning   66790\n",
       "Evening         65102\n",
       "Night           48015\n",
       "Afternoon       47794\n",
       "Late_Night       1306"
      ]
     },
     "execution_count": 166,
     "metadata": {},
     "output_type": "execute_result"
    }
   ],
   "source": [
    "# Schedule of individual departure time\n",
    "df_clean['departure_time'].value_counts().to_frame()"
   ]
  },
  {
   "cell_type": "code",
   "execution_count": 167,
   "metadata": {},
   "outputs": [
    {
     "data": {
      "image/png": "[encoded data removed]",
      "text/plain": [
       "<Figure size 640x480 with 1 Axes>"
      ]
     },
     "metadata": {},
     "output_type": "display_data"
    }
   ],
   "source": [
    "# Schedule of individual departure time in the form of a histogram\n",
    "plt.hist(df_clean['departure_time'],\n",
    "         density=False,\n",
    "         histtype='bar',\n",
    "         color='b',\n",
    "         edgecolor='k',\n",
    "         alpha=0.5,\n",
    "         bins=len(df_clean['departure_time'].unique()))\n",
    "plt.show()"
   ]
  },
  {
   "cell_type": "code",
   "execution_count": 168,
   "metadata": {},
   "outputs": [
    {
     "data": {
      "text/html": [
       "<div>\n",
       "<style scoped>\n",
       "    .dataframe tbody tr th:only-of-type {\n",
       "        vertical-align: middle;\n",
       "    }\n",
       "\n",
       "    .dataframe tbody tr th {\n",
       "        vertical-align: top;\n",
       "    }\n",
       "\n",
       "    .dataframe thead th {\n",
       "        text-align: right;\n",
       "    }\n",
       "</style>\n",
       "<table border=\"1\" class=\"dataframe\">\n",
       "  <thead>\n",
       "    <tr style=\"text-align: right;\">\n",
       "      <th></th>\n",
       "      <th>count</th>\n",
       "    </tr>\n",
       "    <tr>\n",
       "      <th>stops</th>\n",
       "      <th></th>\n",
       "    </tr>\n",
       "  </thead>\n",
       "  <tbody>\n",
       "    <tr>\n",
       "      <th>one</th>\n",
       "      <td>250863</td>\n",
       "    </tr>\n",
       "    <tr>\n",
       "      <th>zero</th>\n",
       "      <td>36004</td>\n",
       "    </tr>\n",
       "    <tr>\n",
       "      <th>two_or_more</th>\n",
       "      <td>13286</td>\n",
       "    </tr>\n",
       "  </tbody>\n",
       "</table>\n",
       "</div>"
      ],
      "text/plain": [
       "              count\n",
       "stops              \n",
       "one          250863\n",
       "zero          36004\n",
       "two_or_more   13286"
      ]
     },
     "execution_count": 168,
     "metadata": {},
     "output_type": "execute_result"
    }
   ],
   "source": [
    "# Schedule of individual stops\n",
    "df_clean['stops'].value_counts().to_frame()"
   ]
  },
  {
   "cell_type": "code",
   "execution_count": 169,
   "metadata": {},
   "outputs": [
    {
     "data": {
      "image/png": "[encoded data removed]",
      "text/plain": [
       "<Figure size 640x480 with 1 Axes>"
      ]
     },
     "metadata": {},
     "output_type": "display_data"
    }
   ],
   "source": [
    "# Schedule of individual stops in the form of a histogram\n",
    "plt.hist(df_clean['stops'],\n",
    "         density=False,\n",
    "         histtype='bar',\n",
    "         color='b',\n",
    "         edgecolor='k',\n",
    "         alpha=0.5,\n",
    "         bins=len(df_clean['stops'].unique()))\n",
    "plt.show()"
   ]
  },
  {
   "cell_type": "code",
   "execution_count": 170,
   "metadata": {},
   "outputs": [
    {
     "data": {
      "text/html": [
       "<div>\n",
       "<style scoped>\n",
       "    .dataframe tbody tr th:only-of-type {\n",
       "        vertical-align: middle;\n",
       "    }\n",
       "\n",
       "    .dataframe tbody tr th {\n",
       "        vertical-align: top;\n",
       "    }\n",
       "\n",
       "    .dataframe thead th {\n",
       "        text-align: right;\n",
       "    }\n",
       "</style>\n",
       "<table border=\"1\" class=\"dataframe\">\n",
       "  <thead>\n",
       "    <tr style=\"text-align: right;\">\n",
       "      <th></th>\n",
       "      <th>count</th>\n",
       "    </tr>\n",
       "    <tr>\n",
       "      <th>arrival_time</th>\n",
       "      <th></th>\n",
       "    </tr>\n",
       "  </thead>\n",
       "  <tbody>\n",
       "    <tr>\n",
       "      <th>Night</th>\n",
       "      <td>91538</td>\n",
       "    </tr>\n",
       "    <tr>\n",
       "      <th>Evening</th>\n",
       "      <td>78323</td>\n",
       "    </tr>\n",
       "    <tr>\n",
       "      <th>Morning</th>\n",
       "      <td>62735</td>\n",
       "    </tr>\n",
       "    <tr>\n",
       "      <th>Afternoon</th>\n",
       "      <td>38139</td>\n",
       "    </tr>\n",
       "    <tr>\n",
       "      <th>Early_Morning</th>\n",
       "      <td>15417</td>\n",
       "    </tr>\n",
       "    <tr>\n",
       "      <th>Late_Night</th>\n",
       "      <td>14001</td>\n",
       "    </tr>\n",
       "  </tbody>\n",
       "</table>\n",
       "</div>"
      ],
      "text/plain": [
       "               count\n",
       "arrival_time        \n",
       "Night          91538\n",
       "Evening        78323\n",
       "Morning        62735\n",
       "Afternoon      38139\n",
       "Early_Morning  15417\n",
       "Late_Night     14001"
      ]
     },
     "execution_count": 170,
     "metadata": {},
     "output_type": "execute_result"
    }
   ],
   "source": [
    "# Schedule of individual arrival time\n",
    "df_clean['arrival_time'].value_counts().to_frame()"
   ]
  },
  {
   "cell_type": "code",
   "execution_count": 171,
   "metadata": {},
   "outputs": [
    {
     "data": {
      "image/png": "[encoded data removed]",
      "text/plain": [
       "<Figure size 640x480 with 1 Axes>"
      ]
     },
     "metadata": {},
     "output_type": "display_data"
    }
   ],
   "source": [
    "# Schedule of individual arrival times in the form of a histogram\n",
    "plt.hist(df_clean['arrival_time'],\n",
    "         density=False,\n",
    "         histtype='bar',\n",
    "         color='b',\n",
    "         edgecolor='k',\n",
    "         alpha=0.5,\n",
    "         bins=len(df_clean['arrival_time'].unique()))\n",
    "plt.show()"
   ]
  },
  {
   "cell_type": "code",
   "execution_count": 172,
   "metadata": {},
   "outputs": [
    {
     "data": {
      "text/html": [
       "<div>\n",
       "<style scoped>\n",
       "    .dataframe tbody tr th:only-of-type {\n",
       "        vertical-align: middle;\n",
       "    }\n",
       "\n",
       "    .dataframe tbody tr th {\n",
       "        vertical-align: top;\n",
       "    }\n",
       "\n",
       "    .dataframe thead th {\n",
       "        text-align: right;\n",
       "    }\n",
       "</style>\n",
       "<table border=\"1\" class=\"dataframe\">\n",
       "  <thead>\n",
       "    <tr style=\"text-align: right;\">\n",
       "      <th></th>\n",
       "      <th>count</th>\n",
       "    </tr>\n",
       "    <tr>\n",
       "      <th>destination_city</th>\n",
       "      <th></th>\n",
       "    </tr>\n",
       "  </thead>\n",
       "  <tbody>\n",
       "    <tr>\n",
       "      <th>Mumbai</th>\n",
       "      <td>59097</td>\n",
       "    </tr>\n",
       "    <tr>\n",
       "      <th>Delhi</th>\n",
       "      <td>57360</td>\n",
       "    </tr>\n",
       "    <tr>\n",
       "      <th>Bangalore</th>\n",
       "      <td>51068</td>\n",
       "    </tr>\n",
       "    <tr>\n",
       "      <th>Kolkata</th>\n",
       "      <td>49534</td>\n",
       "    </tr>\n",
       "    <tr>\n",
       "      <th>Hyderabad</th>\n",
       "      <td>42726</td>\n",
       "    </tr>\n",
       "    <tr>\n",
       "      <th>Chennai</th>\n",
       "      <td>40368</td>\n",
       "    </tr>\n",
       "  </tbody>\n",
       "</table>\n",
       "</div>"
      ],
      "text/plain": [
       "                  count\n",
       "destination_city       \n",
       "Mumbai            59097\n",
       "Delhi             57360\n",
       "Bangalore         51068\n",
       "Kolkata           49534\n",
       "Hyderabad         42726\n",
       "Chennai           40368"
      ]
     },
     "execution_count": 172,
     "metadata": {},
     "output_type": "execute_result"
    }
   ],
   "source": [
    "# Schedule of individual destination city\n",
    "df_clean['destination_city'].value_counts().to_frame()"
   ]
  },
  {
   "cell_type": "code",
   "execution_count": 173,
   "metadata": {},
   "outputs": [
    {
     "data": {
      "image/png": "[encoded data removed]",
      "text/plain": [
       "<Figure size 640x480 with 1 Axes>"
      ]
     },
     "metadata": {},
     "output_type": "display_data"
    }
   ],
   "source": [
    "# Schedule of individual destination_city in the form of a histogram\n",
    "plt.hist(df_clean['destination_city'],\n",
    "         density=False,\n",
    "         histtype='bar',\n",
    "         color='b',\n",
    "         edgecolor='k',\n",
    "         alpha=0.5,\n",
    "         bins=len(df_clean['destination_city'].unique()))\n",
    "plt.show()"
   ]
  },
  {
   "cell_type": "code",
   "execution_count": 174,
   "metadata": {},
   "outputs": [
    {
     "data": {
      "text/html": [
       "<div>\n",
       "<style scoped>\n",
       "    .dataframe tbody tr th:only-of-type {\n",
       "        vertical-align: middle;\n",
       "    }\n",
       "\n",
       "    .dataframe tbody tr th {\n",
       "        vertical-align: top;\n",
       "    }\n",
       "\n",
       "    .dataframe thead th {\n",
       "        text-align: right;\n",
       "    }\n",
       "</style>\n",
       "<table border=\"1\" class=\"dataframe\">\n",
       "  <thead>\n",
       "    <tr style=\"text-align: right;\">\n",
       "      <th></th>\n",
       "      <th>count</th>\n",
       "    </tr>\n",
       "    <tr>\n",
       "      <th>class</th>\n",
       "      <th></th>\n",
       "    </tr>\n",
       "  </thead>\n",
       "  <tbody>\n",
       "    <tr>\n",
       "      <th>Economy</th>\n",
       "      <td>206666</td>\n",
       "    </tr>\n",
       "    <tr>\n",
       "      <th>Business</th>\n",
       "      <td>93487</td>\n",
       "    </tr>\n",
       "  </tbody>\n",
       "</table>\n",
       "</div>"
      ],
      "text/plain": [
       "           count\n",
       "class           \n",
       "Economy   206666\n",
       "Business   93487"
      ]
     },
     "execution_count": 174,
     "metadata": {},
     "output_type": "execute_result"
    }
   ],
   "source": [
    "# Schedule of individual class\n",
    "df_clean['class'].value_counts().to_frame()"
   ]
  },
  {
   "cell_type": "code",
   "execution_count": 175,
   "metadata": {},
   "outputs": [
    {
     "data": {
      "image/png": "[encoded data removed]",
      "text/plain": [
       "<Figure size 640x480 with 1 Axes>"
      ]
     },
     "metadata": {},
     "output_type": "display_data"
    }
   ],
   "source": [
    "# Schedule of individual class in the form of a histogram\n",
    "plt.hist(df_clean['class'],\n",
    "         density=False,\n",
    "         histtype='bar',\n",
    "         color='b',\n",
    "         edgecolor='k',\n",
    "         alpha=0.5,\n",
    "         bins=len(df_clean['class'].unique()))\n",
    "plt.show()"
   ]
  },
  {
   "cell_type": "code",
   "execution_count": 176,
   "metadata": {},
   "outputs": [
    {
     "data": {
      "text/html": [
       "<div>\n",
       "<style scoped>\n",
       "    .dataframe tbody tr th:only-of-type {\n",
       "        vertical-align: middle;\n",
       "    }\n",
       "\n",
       "    .dataframe tbody tr th {\n",
       "        vertical-align: top;\n",
       "    }\n",
       "\n",
       "    .dataframe thead th {\n",
       "        text-align: right;\n",
       "    }\n",
       "</style>\n",
       "<table border=\"1\" class=\"dataframe\">\n",
       "  <thead>\n",
       "    <tr style=\"text-align: right;\">\n",
       "      <th></th>\n",
       "      <th>count</th>\n",
       "    </tr>\n",
       "    <tr>\n",
       "      <th>days_left</th>\n",
       "      <th></th>\n",
       "    </tr>\n",
       "  </thead>\n",
       "  <tbody>\n",
       "    <tr>\n",
       "      <th>25</th>\n",
       "      <td>6633</td>\n",
       "    </tr>\n",
       "    <tr>\n",
       "      <th>18</th>\n",
       "      <td>6602</td>\n",
       "    </tr>\n",
       "    <tr>\n",
       "      <th>39</th>\n",
       "      <td>6593</td>\n",
       "    </tr>\n",
       "    <tr>\n",
       "      <th>32</th>\n",
       "      <td>6585</td>\n",
       "    </tr>\n",
       "    <tr>\n",
       "      <th>26</th>\n",
       "      <td>6573</td>\n",
       "    </tr>\n",
       "    <tr>\n",
       "      <th>24</th>\n",
       "      <td>6542</td>\n",
       "    </tr>\n",
       "    <tr>\n",
       "      <th>19</th>\n",
       "      <td>6537</td>\n",
       "    </tr>\n",
       "    <tr>\n",
       "      <th>31</th>\n",
       "      <td>6534</td>\n",
       "    </tr>\n",
       "    <tr>\n",
       "      <th>33</th>\n",
       "      <td>6532</td>\n",
       "    </tr>\n",
       "    <tr>\n",
       "      <th>40</th>\n",
       "      <td>6531</td>\n",
       "    </tr>\n",
       "    <tr>\n",
       "      <th>41</th>\n",
       "      <td>6525</td>\n",
       "    </tr>\n",
       "    <tr>\n",
       "      <th>28</th>\n",
       "      <td>6522</td>\n",
       "    </tr>\n",
       "    <tr>\n",
       "      <th>38</th>\n",
       "      <td>6512</td>\n",
       "    </tr>\n",
       "    <tr>\n",
       "      <th>20</th>\n",
       "      <td>6502</td>\n",
       "    </tr>\n",
       "    <tr>\n",
       "      <th>30</th>\n",
       "      <td>6501</td>\n",
       "    </tr>\n",
       "    <tr>\n",
       "      <th>42</th>\n",
       "      <td>6497</td>\n",
       "    </tr>\n",
       "    <tr>\n",
       "      <th>22</th>\n",
       "      <td>6494</td>\n",
       "    </tr>\n",
       "    <tr>\n",
       "      <th>36</th>\n",
       "      <td>6490</td>\n",
       "    </tr>\n",
       "    <tr>\n",
       "      <th>21</th>\n",
       "      <td>6479</td>\n",
       "    </tr>\n",
       "    <tr>\n",
       "      <th>37</th>\n",
       "      <td>6476</td>\n",
       "    </tr>\n",
       "    <tr>\n",
       "      <th>43</th>\n",
       "      <td>6472</td>\n",
       "    </tr>\n",
       "    <tr>\n",
       "      <th>44</th>\n",
       "      <td>6436</td>\n",
       "    </tr>\n",
       "    <tr>\n",
       "      <th>17</th>\n",
       "      <td>6419</td>\n",
       "    </tr>\n",
       "    <tr>\n",
       "      <th>11</th>\n",
       "      <td>6417</td>\n",
       "    </tr>\n",
       "    <tr>\n",
       "      <th>34</th>\n",
       "      <td>6412</td>\n",
       "    </tr>\n",
       "    <tr>\n",
       "      <th>13</th>\n",
       "      <td>6404</td>\n",
       "    </tr>\n",
       "    <tr>\n",
       "      <th>23</th>\n",
       "      <td>6401</td>\n",
       "    </tr>\n",
       "    <tr>\n",
       "      <th>29</th>\n",
       "      <td>6397</td>\n",
       "    </tr>\n",
       "    <tr>\n",
       "      <th>12</th>\n",
       "      <td>6381</td>\n",
       "    </tr>\n",
       "    <tr>\n",
       "      <th>27</th>\n",
       "      <td>6360</td>\n",
       "    </tr>\n",
       "    <tr>\n",
       "      <th>14</th>\n",
       "      <td>6349</td>\n",
       "    </tr>\n",
       "    <tr>\n",
       "      <th>15</th>\n",
       "      <td>6340</td>\n",
       "    </tr>\n",
       "    <tr>\n",
       "      <th>45</th>\n",
       "      <td>6314</td>\n",
       "    </tr>\n",
       "    <tr>\n",
       "      <th>35</th>\n",
       "      <td>6291</td>\n",
       "    </tr>\n",
       "    <tr>\n",
       "      <th>16</th>\n",
       "      <td>6272</td>\n",
       "    </tr>\n",
       "    <tr>\n",
       "      <th>46</th>\n",
       "      <td>6160</td>\n",
       "    </tr>\n",
       "    <tr>\n",
       "      <th>49</th>\n",
       "      <td>6154</td>\n",
       "    </tr>\n",
       "    <tr>\n",
       "      <th>48</th>\n",
       "      <td>6078</td>\n",
       "    </tr>\n",
       "    <tr>\n",
       "      <th>47</th>\n",
       "      <td>6069</td>\n",
       "    </tr>\n",
       "    <tr>\n",
       "      <th>10</th>\n",
       "      <td>5822</td>\n",
       "    </tr>\n",
       "    <tr>\n",
       "      <th>8</th>\n",
       "      <td>5767</td>\n",
       "    </tr>\n",
       "    <tr>\n",
       "      <th>6</th>\n",
       "      <td>5740</td>\n",
       "    </tr>\n",
       "    <tr>\n",
       "      <th>7</th>\n",
       "      <td>5703</td>\n",
       "    </tr>\n",
       "    <tr>\n",
       "      <th>9</th>\n",
       "      <td>5665</td>\n",
       "    </tr>\n",
       "    <tr>\n",
       "      <th>5</th>\n",
       "      <td>5392</td>\n",
       "    </tr>\n",
       "    <tr>\n",
       "      <th>4</th>\n",
       "      <td>5077</td>\n",
       "    </tr>\n",
       "    <tr>\n",
       "      <th>3</th>\n",
       "      <td>4248</td>\n",
       "    </tr>\n",
       "    <tr>\n",
       "      <th>2</th>\n",
       "      <td>4026</td>\n",
       "    </tr>\n",
       "    <tr>\n",
       "      <th>1</th>\n",
       "      <td>1927</td>\n",
       "    </tr>\n",
       "  </tbody>\n",
       "</table>\n",
       "</div>"
      ],
      "text/plain": [
       "           count\n",
       "days_left       \n",
       "25          6633\n",
       "18          6602\n",
       "39          6593\n",
       "32          6585\n",
       "26          6573\n",
       "24          6542\n",
       "19          6537\n",
       "31          6534\n",
       "33          6532\n",
       "40          6531\n",
       "41          6525\n",
       "28          6522\n",
       "38          6512\n",
       "20          6502\n",
       "30          6501\n",
       "42          6497\n",
       "22          6494\n",
       "36          6490\n",
       "21          6479\n",
       "37          6476\n",
       "43          6472\n",
       "44          6436\n",
       "17          6419\n",
       "11          6417\n",
       "34          6412\n",
       "13          6404\n",
       "23          6401\n",
       "29          6397\n",
       "12          6381\n",
       "27          6360\n",
       "14          6349\n",
       "15          6340\n",
       "45          6314\n",
       "35          6291\n",
       "16          6272\n",
       "46          6160\n",
       "49          6154\n",
       "48          6078\n",
       "47          6069\n",
       "10          5822\n",
       "8           5767\n",
       "6           5740\n",
       "7           5703\n",
       "9           5665\n",
       "5           5392\n",
       "4           5077\n",
       "3           4248\n",
       "2           4026\n",
       "1           1927"
      ]
     },
     "execution_count": 176,
     "metadata": {},
     "output_type": "execute_result"
    }
   ],
   "source": [
    "# Schedule of individual class\n",
    "df_clean['days_left'].value_counts().to_frame()"
   ]
  },
  {
   "cell_type": "code",
   "execution_count": 177,
   "metadata": {},
   "outputs": [
    {
     "data": {
      "image/png": "[encoded data removed]",
      "text/plain": [
       "<Figure size 640x480 with 1 Axes>"
      ]
     },
     "metadata": {},
     "output_type": "display_data"
    }
   ],
   "source": [
    "# Schedule of individual days_left in the form of a histogram\n",
    "plt.hist(df_clean['days_left'],\n",
    "         density=False,\n",
    "         histtype='bar',\n",
    "         color='b',\n",
    "         edgecolor='k',\n",
    "         alpha=0.5,\n",
    "         bins=len(df_clean['days_left'].unique()))\n",
    "plt.show()"
   ]
  },
  {
   "cell_type": "code",
   "execution_count": 178,
   "metadata": {},
   "outputs": [
    {
     "data": {
      "image/png": "[encoded data removed]",
      "text/plain": [
       "<Figure size 640x480 with 1 Axes>"
      ]
     },
     "metadata": {},
     "output_type": "display_data"
    }
   ],
   "source": [
    "# Schedule of individual duration in the form of a histogram\n",
    "plt.hist(df_clean['duration'],\n",
    "         density=False,\n",
    "         histtype='bar',\n",
    "         color='b',\n",
    "         edgecolor='k',\n",
    "         alpha=0.5,\n",
    "         bins=len(df_clean['duration'].unique()))\n",
    "plt.show()"
   ]
  },
  {
   "cell_type": "markdown",
   "metadata": {},
   "source": [
    "### Business dataset"
   ]
  },
  {
   "cell_type": "code",
   "execution_count": 179,
   "metadata": {},
   "outputs": [
    {
     "name": "stdout",
     "output_type": "stream",
     "text": [
      "date: ['11-02-2022' '12-02-2022' '13-02-2022' '14-02-2022' '15-02-2022'\n",
      " '16-02-2022' '17-02-2022' '18-02-2022' '19-02-2022' '20-02-2022'\n",
      " '21-02-2022' '22-02-2022' '23-02-2022' '24-02-2022' '25-02-2022'\n",
      " '26-02-2022' '27-02-2022' '28-02-2022' '01-03-2022' '02-03-2022'\n",
      " '03-03-2022' '04-03-2022' '05-03-2022' '06-03-2022' '07-03-2022'\n",
      " '08-03-2022' '09-03-2022' '10-03-2022' '11-03-2022' '12-03-2022'\n",
      " '13-03-2022' '14-03-2022' '15-03-2022' '16-03-2022' '17-03-2022'\n",
      " '18-03-2022' '19-03-2022' '20-03-2022' '21-03-2022' '22-03-2022'\n",
      " '23-03-2022' '24-03-2022' '25-03-2022' '26-03-2022' '27-03-2022'\n",
      " '28-03-2022' '29-03-2022' '30-03-2022' '31-03-2022']\n",
      "\n",
      "airline: ['Air India' 'Vistara']\n",
      "\n",
      "ch_code: ['AI' 'UK']\n",
      "\n",
      "dep_time: 166 unique values\n",
      "\n",
      "from: ['Delhi' 'Mumbai' 'Bangalore' 'Kolkata' 'Hyderabad' 'Chennai']\n",
      "\n",
      "time_taken: 373 unique values\n",
      "\n",
      "stop: ['non-stop ' '1-stop\\n\\t\\t\\t\\t\\t\\t\\t\\t\\t\\t\\t\\t\\n\\t\\t\\t\\t\\t\\t\\t\\t\\t\\t\\t\\t'\n",
      " '1-stop\\n\\t\\t\\t\\t\\t\\t\\t\\t\\t\\t\\t\\tVia IDR\\n\\t\\t\\t\\t\\t\\t\\t\\t\\t\\t\\t\\t'\n",
      " '1-stop\\n\\t\\t\\t\\t\\t\\t\\t\\t\\t\\t\\t\\tVia IXU\\n\\t\\t\\t\\t\\t\\t\\t\\t\\t\\t\\t\\t'\n",
      " '1-stop\\n\\t\\t\\t\\t\\t\\t\\t\\t\\t\\t\\t\\tVia Chennai\\n\\t\\t\\t\\t\\t\\t\\t\\t\\t\\t\\t\\t'\n",
      " '1-stop\\n\\t\\t\\t\\t\\t\\t\\t\\t\\t\\t\\t\\tVia Lucknow\\n\\t\\t\\t\\t\\t\\t\\t\\t\\t\\t\\t\\t'\n",
      " '1-stop\\n\\t\\t\\t\\t\\t\\t\\t\\t\\t\\t\\t\\tVia STV\\n\\t\\t\\t\\t\\t\\t\\t\\t\\t\\t\\t\\t'\n",
      " '1-stop\\n\\t\\t\\t\\t\\t\\t\\t\\t\\t\\t\\t\\tVia Hyderabad\\n\\t\\t\\t\\t\\t\\t\\t\\t\\t\\t\\t\\t'\n",
      " '1-stop\\n\\t\\t\\t\\t\\t\\t\\t\\t\\t\\t\\t\\tVia GAY\\n\\t\\t\\t\\t\\t\\t\\t\\t\\t\\t\\t\\t'\n",
      " '2+-stop'\n",
      " '1-stop\\n\\t\\t\\t\\t\\t\\t\\t\\t\\t\\t\\t\\tVia Guwahati\\n\\t\\t\\t\\t\\t\\t\\t\\t\\t\\t\\t\\t'\n",
      " '1-stop\\n\\t\\t\\t\\t\\t\\t\\t\\t\\t\\t\\t\\tVia GAU\\n\\t\\t\\t\\t\\t\\t\\t\\t\\t\\t\\t\\t'\n",
      " '1-stop\\n\\t\\t\\t\\t\\t\\t\\t\\t\\t\\t\\t\\tVia VTZ\\n\\t\\t\\t\\t\\t\\t\\t\\t\\t\\t\\t\\t'\n",
      " '1-stop\\n\\t\\t\\t\\t\\t\\t\\t\\t\\t\\t\\t\\tVia NDC\\n\\t\\t\\t\\t\\t\\t\\t\\t\\t\\t\\t\\t'\n",
      " '1-stop\\n\\t\\t\\t\\t\\t\\t\\t\\t\\t\\t\\t\\tVia IXE\\n\\t\\t\\t\\t\\t\\t\\t\\t\\t\\t\\t\\t'\n",
      " '1-stop\\n\\t\\t\\t\\t\\t\\t\\t\\t\\t\\t\\t\\tVia Raipur\\n\\t\\t\\t\\t\\t\\t\\t\\t\\t\\t\\t\\t'\n",
      " '1-stop\\n\\t\\t\\t\\t\\t\\t\\t\\t\\t\\t\\t\\tVia PAT\\n\\t\\t\\t\\t\\t\\t\\t\\t\\t\\t\\t\\t'\n",
      " '1-stop\\n\\t\\t\\t\\t\\t\\t\\t\\t\\t\\t\\t\\tVia RPR\\n\\t\\t\\t\\t\\t\\t\\t\\t\\t\\t\\t\\t'\n",
      " '1-stop\\n\\t\\t\\t\\t\\t\\t\\t\\t\\t\\t\\t\\tVia Patna\\n\\t\\t\\t\\t\\t\\t\\t\\t\\t\\t\\t\\t'\n",
      " '1-stop\\n\\t\\t\\t\\t\\t\\t\\t\\t\\t\\t\\t\\tVia Kolkata\\n\\t\\t\\t\\t\\t\\t\\t\\t\\t\\t\\t\\t'\n",
      " '1-stop\\n\\t\\t\\t\\t\\t\\t\\t\\t\\t\\t\\t\\tVia HYD\\n\\t\\t\\t\\t\\t\\t\\t\\t\\t\\t\\t\\t'\n",
      " '1-stop\\n\\t\\t\\t\\t\\t\\t\\t\\t\\t\\t\\t\\tVia Delhi\\n\\t\\t\\t\\t\\t\\t\\t\\t\\t\\t\\t\\t'\n",
      " '1-stop\\n\\t\\t\\t\\t\\t\\t\\t\\t\\t\\t\\t\\tVia Bhubaneswar\\n\\t\\t\\t\\t\\t\\t\\t\\t\\t\\t\\t\\t'\n",
      " '1-stop\\n\\t\\t\\t\\t\\t\\t\\t\\t\\t\\t\\t\\tVia BBI\\n\\t\\t\\t\\t\\t\\t\\t\\t\\t\\t\\t\\t'\n",
      " '1-stop\\n\\t\\t\\t\\t\\t\\t\\t\\t\\t\\t\\t\\tVia Surat\\n\\t\\t\\t\\t\\t\\t\\t\\t\\t\\t\\t\\t']\n",
      "\n",
      "arr_time: 176 unique values\n",
      "\n",
      "to: ['Mumbai' 'Bangalore' 'Kolkata' 'Hyderabad' 'Chennai' 'Delhi']\n",
      "\n",
      "price: 2358 unique values\n",
      "\n"
     ]
    }
   ],
   "source": [
    "# Printing the unique values ​​of individual columns in df_business\n",
    "for col in df_business.columns:\n",
    "    if len(df_business[col].unique()) > 50:\n",
    "        print(f'{col}: {len(df_business[col].unique())} unique values')\n",
    "    else:\n",
    "        print(f'{col}: {df_business[col].unique()}')\n",
    "    print()"
   ]
  },
  {
   "cell_type": "code",
   "execution_count": 180,
   "metadata": {},
   "outputs": [
    {
     "data": {
      "text/html": [
       "<div>\n",
       "<style scoped>\n",
       "    .dataframe tbody tr th:only-of-type {\n",
       "        vertical-align: middle;\n",
       "    }\n",
       "\n",
       "    .dataframe tbody tr th {\n",
       "        vertical-align: top;\n",
       "    }\n",
       "\n",
       "    .dataframe thead th {\n",
       "        text-align: right;\n",
       "    }\n",
       "</style>\n",
       "<table border=\"1\" class=\"dataframe\">\n",
       "  <thead>\n",
       "    <tr style=\"text-align: right;\">\n",
       "      <th></th>\n",
       "      <th>count</th>\n",
       "    </tr>\n",
       "    <tr>\n",
       "      <th>airline</th>\n",
       "      <th></th>\n",
       "    </tr>\n",
       "  </thead>\n",
       "  <tbody>\n",
       "    <tr>\n",
       "      <th>Vistara</th>\n",
       "      <td>60589</td>\n",
       "    </tr>\n",
       "    <tr>\n",
       "      <th>Air India</th>\n",
       "      <td>32898</td>\n",
       "    </tr>\n",
       "  </tbody>\n",
       "</table>\n",
       "</div>"
      ],
      "text/plain": [
       "           count\n",
       "airline         \n",
       "Vistara    60589\n",
       "Air India  32898"
      ]
     },
     "execution_count": 180,
     "metadata": {},
     "output_type": "execute_result"
    }
   ],
   "source": [
    "# Schedule of individual airlines\n",
    "df_business['airline'].value_counts().to_frame()"
   ]
  },
  {
   "cell_type": "code",
   "execution_count": 181,
   "metadata": {},
   "outputs": [
    {
     "data": {
      "image/png": "[encoded data removed]",
      "text/plain": [
       "<Figure size 640x480 with 1 Axes>"
      ]
     },
     "metadata": {},
     "output_type": "display_data"
    }
   ],
   "source": [
    "# Schedule of individual airline in the form of a histogram\n",
    "plt.hist(df_business['airline'],\n",
    "         density=False,\n",
    "         histtype='bar',\n",
    "         color='b',\n",
    "         edgecolor='k',\n",
    "         alpha=0.2,\n",
    "         bins=len(df_business['airline'].unique()))\n",
    "plt.show()"
   ]
  },
  {
   "cell_type": "code",
   "execution_count": 182,
   "metadata": {},
   "outputs": [
    {
     "data": {
      "text/html": [
       "<div>\n",
       "<style scoped>\n",
       "    .dataframe tbody tr th:only-of-type {\n",
       "        vertical-align: middle;\n",
       "    }\n",
       "\n",
       "    .dataframe tbody tr th {\n",
       "        vertical-align: top;\n",
       "    }\n",
       "\n",
       "    .dataframe thead th {\n",
       "        text-align: right;\n",
       "    }\n",
       "</style>\n",
       "<table border=\"1\" class=\"dataframe\">\n",
       "  <thead>\n",
       "    <tr style=\"text-align: right;\">\n",
       "      <th></th>\n",
       "      <th>count</th>\n",
       "    </tr>\n",
       "    <tr>\n",
       "      <th>ch_code</th>\n",
       "      <th></th>\n",
       "    </tr>\n",
       "  </thead>\n",
       "  <tbody>\n",
       "    <tr>\n",
       "      <th>UK</th>\n",
       "      <td>60589</td>\n",
       "    </tr>\n",
       "    <tr>\n",
       "      <th>AI</th>\n",
       "      <td>32898</td>\n",
       "    </tr>\n",
       "  </tbody>\n",
       "</table>\n",
       "</div>"
      ],
      "text/plain": [
       "         count\n",
       "ch_code       \n",
       "UK       60589\n",
       "AI       32898"
      ]
     },
     "execution_count": 182,
     "metadata": {},
     "output_type": "execute_result"
    }
   ],
   "source": [
    "# Schedule of individual airlines\n",
    "df_business['ch_code'].value_counts().to_frame()"
   ]
  },
  {
   "cell_type": "code",
   "execution_count": 183,
   "metadata": {},
   "outputs": [
    {
     "data": {
      "image/png": "[encoded data removed]",
      "text/plain": [
       "<Figure size 640x480 with 1 Axes>"
      ]
     },
     "metadata": {},
     "output_type": "display_data"
    }
   ],
   "source": [
    "# Schedule of individual from in the form of a histogram\n",
    "plt.hist(df_business['ch_code'],\n",
    "         density=False,\n",
    "         histtype='bar',\n",
    "         color='b',\n",
    "         edgecolor='k',\n",
    "         alpha=0.2,\n",
    "         bins=len(df_business['ch_code'].unique()))\n",
    "plt.show()"
   ]
  },
  {
   "cell_type": "code",
   "execution_count": 184,
   "metadata": {},
   "outputs": [
    {
     "data": {
      "text/html": [
       "<div>\n",
       "<style scoped>\n",
       "    .dataframe tbody tr th:only-of-type {\n",
       "        vertical-align: middle;\n",
       "    }\n",
       "\n",
       "    .dataframe tbody tr th {\n",
       "        vertical-align: top;\n",
       "    }\n",
       "\n",
       "    .dataframe thead th {\n",
       "        text-align: right;\n",
       "    }\n",
       "</style>\n",
       "<table border=\"1\" class=\"dataframe\">\n",
       "  <thead>\n",
       "    <tr style=\"text-align: right;\">\n",
       "      <th></th>\n",
       "      <th>count</th>\n",
       "    </tr>\n",
       "    <tr>\n",
       "      <th>from</th>\n",
       "      <th></th>\n",
       "    </tr>\n",
       "  </thead>\n",
       "  <tbody>\n",
       "    <tr>\n",
       "      <th>Mumbai</th>\n",
       "      <td>19858</td>\n",
       "    </tr>\n",
       "    <tr>\n",
       "      <th>Delhi</th>\n",
       "      <td>18316</td>\n",
       "    </tr>\n",
       "    <tr>\n",
       "      <th>Bangalore</th>\n",
       "      <td>16441</td>\n",
       "    </tr>\n",
       "    <tr>\n",
       "      <th>Kolkata</th>\n",
       "      <td>13473</td>\n",
       "    </tr>\n",
       "    <tr>\n",
       "      <th>Hyderabad</th>\n",
       "      <td>12870</td>\n",
       "    </tr>\n",
       "    <tr>\n",
       "      <th>Chennai</th>\n",
       "      <td>12529</td>\n",
       "    </tr>\n",
       "  </tbody>\n",
       "</table>\n",
       "</div>"
      ],
      "text/plain": [
       "           count\n",
       "from            \n",
       "Mumbai     19858\n",
       "Delhi      18316\n",
       "Bangalore  16441\n",
       "Kolkata    13473\n",
       "Hyderabad  12870\n",
       "Chennai    12529"
      ]
     },
     "execution_count": 184,
     "metadata": {},
     "output_type": "execute_result"
    }
   ],
   "source": [
    "# Schedule of individual from\n",
    "df_business['from'].value_counts().to_frame()"
   ]
  },
  {
   "cell_type": "code",
   "execution_count": 185,
   "metadata": {},
   "outputs": [
    {
     "data": {
      "image/png": "[encoded data removed]",
      "text/plain": [
       "<Figure size 640x480 with 1 Axes>"
      ]
     },
     "metadata": {},
     "output_type": "display_data"
    }
   ],
   "source": [
    "# Schedule of individual from in the form of a histogram\n",
    "plt.hist(df_business['from'],\n",
    "         density=False,\n",
    "         histtype='bar',\n",
    "         color='b',\n",
    "         edgecolor='k',\n",
    "         alpha=0.2,\n",
    "         bins=len(df_business['from'].unique()))\n",
    "plt.show()"
   ]
  },
  {
   "cell_type": "code",
   "execution_count": 186,
   "metadata": {},
   "outputs": [
    {
     "data": {
      "text/html": [
       "<div>\n",
       "<style scoped>\n",
       "    .dataframe tbody tr th:only-of-type {\n",
       "        vertical-align: middle;\n",
       "    }\n",
       "\n",
       "    .dataframe tbody tr th {\n",
       "        vertical-align: top;\n",
       "    }\n",
       "\n",
       "    .dataframe thead th {\n",
       "        text-align: right;\n",
       "    }\n",
       "</style>\n",
       "<table border=\"1\" class=\"dataframe\">\n",
       "  <thead>\n",
       "    <tr style=\"text-align: right;\">\n",
       "      <th></th>\n",
       "      <th>count</th>\n",
       "    </tr>\n",
       "    <tr>\n",
       "      <th>to</th>\n",
       "      <th></th>\n",
       "    </tr>\n",
       "  </thead>\n",
       "  <tbody>\n",
       "    <tr>\n",
       "      <th>Mumbai</th>\n",
       "      <td>18991</td>\n",
       "    </tr>\n",
       "    <tr>\n",
       "      <th>Delhi</th>\n",
       "      <td>16707</td>\n",
       "    </tr>\n",
       "    <tr>\n",
       "      <th>Bangalore</th>\n",
       "      <td>16198</td>\n",
       "    </tr>\n",
       "    <tr>\n",
       "      <th>Kolkata</th>\n",
       "      <td>14758</td>\n",
       "    </tr>\n",
       "    <tr>\n",
       "      <th>Hyderabad</th>\n",
       "      <td>13675</td>\n",
       "    </tr>\n",
       "    <tr>\n",
       "      <th>Chennai</th>\n",
       "      <td>13158</td>\n",
       "    </tr>\n",
       "  </tbody>\n",
       "</table>\n",
       "</div>"
      ],
      "text/plain": [
       "           count\n",
       "to              \n",
       "Mumbai     18991\n",
       "Delhi      16707\n",
       "Bangalore  16198\n",
       "Kolkata    14758\n",
       "Hyderabad  13675\n",
       "Chennai    13158"
      ]
     },
     "execution_count": 186,
     "metadata": {},
     "output_type": "execute_result"
    }
   ],
   "source": [
    "# Schedule of individual to\n",
    "df_business['to'].value_counts().to_frame()"
   ]
  },
  {
   "cell_type": "code",
   "execution_count": 187,
   "metadata": {},
   "outputs": [
    {
     "data": {
      "image/png": "[encoded data removed]",
      "text/plain": [
       "<Figure size 640x480 with 1 Axes>"
      ]
     },
     "metadata": {},
     "output_type": "display_data"
    }
   ],
   "source": [
    "# Schedule of individual to in the form of a histogram\n",
    "plt.hist(df_business['to'],\n",
    "         density=False,\n",
    "         histtype='bar',\n",
    "         color='b',\n",
    "         edgecolor='k',\n",
    "         alpha=0.2,\n",
    "         bins=len(df_business['to'].unique()))\n",
    "plt.show()"
   ]
  },
  {
   "cell_type": "markdown",
   "metadata": {},
   "source": [
    "### Economy dataset"
   ]
  },
  {
   "cell_type": "code",
   "execution_count": 188,
   "metadata": {},
   "outputs": [
    {
     "name": "stdout",
     "output_type": "stream",
     "text": [
      "date: ['11-02-2022' '12-02-2022' '13-02-2022' '14-02-2022' '15-02-2022'\n",
      " '16-02-2022' '17-02-2022' '18-02-2022' '19-02-2022' '20-02-2022'\n",
      " '21-02-2022' '22-02-2022' '23-02-2022' '24-02-2022' '25-02-2022'\n",
      " '26-02-2022' '27-02-2022' '28-02-2022' '01-03-2022' '02-03-2022'\n",
      " '03-03-2022' '04-03-2022' '05-03-2022' '06-03-2022' '07-03-2022'\n",
      " '08-03-2022' '09-03-2022' '10-03-2022' '11-03-2022' '12-03-2022'\n",
      " '13-03-2022' '14-03-2022' '15-03-2022' '16-03-2022' '17-03-2022'\n",
      " '18-03-2022' '19-03-2022' '20-03-2022' '21-03-2022' '22-03-2022'\n",
      " '23-03-2022' '24-03-2022' '25-03-2022' '26-03-2022' '27-03-2022'\n",
      " '28-03-2022' '29-03-2022' '30-03-2022' '31-03-2022']\n",
      "\n",
      "airline: ['SpiceJet' 'AirAsia' 'Vistara' 'GO FIRST' 'Indigo' 'Air India' 'Trujet'\n",
      " 'StarAir']\n",
      "\n",
      "ch_code: ['SG' 'I5' 'UK' 'G8' '6E' 'AI' '2T' 'S5']\n",
      "\n",
      "dep_time: 251 unique values\n",
      "\n",
      "from: ['Delhi' 'Mumbai' 'Bangalore' 'Kolkata' 'Hyderabad' 'Chennai']\n",
      "\n",
      "time_taken: 483 unique values\n",
      "\n",
      "stop: ['non-stop ' '1-stop\\n\\t\\t\\t\\t\\t\\t\\t\\t\\t\\t\\t\\t\\n\\t\\t\\t\\t\\t\\t\\t\\t\\t\\t\\t\\t'\n",
      " '1-stop\\n\\t\\t\\t\\t\\t\\t\\t\\t\\t\\t\\t\\tVia IXU\\n\\t\\t\\t\\t\\t\\t\\t\\t\\t\\t\\t\\t'\n",
      " '1-stop\\n\\t\\t\\t\\t\\t\\t\\t\\t\\t\\t\\t\\tVia Chennai\\n\\t\\t\\t\\t\\t\\t\\t\\t\\t\\t\\t\\t'\n",
      " '1-stop\\n\\t\\t\\t\\t\\t\\t\\t\\t\\t\\t\\t\\tVia Indore\\n\\t\\t\\t\\t\\t\\t\\t\\t\\t\\t\\t\\t'\n",
      " '1-stop\\n\\t\\t\\t\\t\\t\\t\\t\\t\\t\\t\\t\\tVia RPR\\n\\t\\t\\t\\t\\t\\t\\t\\t\\t\\t\\t\\t'\n",
      " '2+-stop'\n",
      " '1-stop\\n\\t\\t\\t\\t\\t\\t\\t\\t\\t\\t\\t\\tVia Lucknow\\n\\t\\t\\t\\t\\t\\t\\t\\t\\t\\t\\t\\t'\n",
      " '1-stop\\n\\t\\t\\t\\t\\t\\t\\t\\t\\t\\t\\t\\tVia GOP\\n\\t\\t\\t\\t\\t\\t\\t\\t\\t\\t\\t\\t'\n",
      " '1-stop\\n\\t\\t\\t\\t\\t\\t\\t\\t\\t\\t\\t\\tVia Raipur\\n\\t\\t\\t\\t\\t\\t\\t\\t\\t\\t\\t\\t'\n",
      " '1-stop\\n\\t\\t\\t\\t\\t\\t\\t\\t\\t\\t\\t\\tVia Nagpur\\n\\t\\t\\t\\t\\t\\t\\t\\t\\t\\t\\t\\t'\n",
      " '1-stop\\n\\t\\t\\t\\t\\t\\t\\t\\t\\t\\t\\t\\tVia Surat\\n\\t\\t\\t\\t\\t\\t\\t\\t\\t\\t\\t\\t'\n",
      " '1-stop\\n\\t\\t\\t\\t\\t\\t\\t\\t\\t\\t\\t\\tVia Hyderabad\\n\\t\\t\\t\\t\\t\\t\\t\\t\\t\\t\\t\\t'\n",
      " '1-stop\\n\\t\\t\\t\\t\\t\\t\\t\\t\\t\\t\\t\\tVia STV\\n\\t\\t\\t\\t\\t\\t\\t\\t\\t\\t\\t\\t'\n",
      " '1-stop\\n\\t\\t\\t\\t\\t\\t\\t\\t\\t\\t\\t\\tVia IDR\\n\\t\\t\\t\\t\\t\\t\\t\\t\\t\\t\\t\\t'\n",
      " '1-stop\\n\\t\\t\\t\\t\\t\\t\\t\\t\\t\\t\\t\\tVia VTZ\\n\\t\\t\\t\\t\\t\\t\\t\\t\\t\\t\\t\\t'\n",
      " '1-stop\\n\\t\\t\\t\\t\\t\\t\\t\\t\\t\\t\\t\\tVia Guwahati\\n\\t\\t\\t\\t\\t\\t\\t\\t\\t\\t\\t\\t'\n",
      " '1-stop\\n\\t\\t\\t\\t\\t\\t\\t\\t\\t\\t\\t\\tVia NAG\\n\\t\\t\\t\\t\\t\\t\\t\\t\\t\\t\\t\\t'\n",
      " '1-stop\\n\\t\\t\\t\\t\\t\\t\\t\\t\\t\\t\\t\\tVia Vishakhapatnam\\n\\t\\t\\t\\t\\t\\t\\t\\t\\t\\t\\t\\t'\n",
      " '1-stop\\n\\t\\t\\t\\t\\t\\t\\t\\t\\t\\t\\t\\tVia NDC\\n\\t\\t\\t\\t\\t\\t\\t\\t\\t\\t\\t\\t'\n",
      " '1-stop\\n\\t\\t\\t\\t\\t\\t\\t\\t\\t\\t\\t\\tVia IXE\\n\\t\\t\\t\\t\\t\\t\\t\\t\\t\\t\\t\\t'\n",
      " '1-stop\\n\\t\\t\\t\\t\\t\\t\\t\\t\\t\\t\\t\\tVia Patna\\n\\t\\t\\t\\t\\t\\t\\t\\t\\t\\t\\t\\t'\n",
      " '1-stop\\n\\t\\t\\t\\t\\t\\t\\t\\t\\t\\t\\t\\tVia PAT\\n\\t\\t\\t\\t\\t\\t\\t\\t\\t\\t\\t\\t'\n",
      " '1-stop\\n\\t\\t\\t\\t\\t\\t\\t\\t\\t\\t\\t\\tVia Mangalore\\n\\t\\t\\t\\t\\t\\t\\t\\t\\t\\t\\t\\t'\n",
      " '1-stop\\n\\t\\t\\t\\t\\t\\t\\t\\t\\t\\t\\t\\tVia Mumbai\\n\\t\\t\\t\\t\\t\\t\\t\\t\\t\\t\\t\\t'\n",
      " '1-stop\\n\\t\\t\\t\\t\\t\\t\\t\\t\\t\\t\\t\\tVia KLH\\n\\t\\t\\t\\t\\t\\t\\t\\t\\t\\t\\t\\t'\n",
      " '1-stop\\n\\t\\t\\t\\t\\t\\t\\t\\t\\t\\t\\t\\tVia MYQ\\n\\t\\t\\t\\t\\t\\t\\t\\t\\t\\t\\t\\t'\n",
      " '1-stop\\n\\t\\t\\t\\t\\t\\t\\t\\t\\t\\t\\t\\tVia Kolkata\\n\\t\\t\\t\\t\\t\\t\\t\\t\\t\\t\\t\\t'\n",
      " '1-stop\\n\\t\\t\\t\\t\\t\\t\\t\\t\\t\\t\\t\\tVia Delhi\\n\\t\\t\\t\\t\\t\\t\\t\\t\\t\\t\\t\\t'\n",
      " '1-stop\\n\\t\\t\\t\\t\\t\\t\\t\\t\\t\\t\\t\\tVia Kolhapur\\n\\t\\t\\t\\t\\t\\t\\t\\t\\t\\t\\t\\t'\n",
      " '1-stop\\n\\t\\t\\t\\t\\t\\t\\t\\t\\t\\t\\t\\tVia JRG\\n\\t\\t\\t\\t\\t\\t\\t\\t\\t\\t\\t\\t'\n",
      " '1-stop\\n\\t\\t\\t\\t\\t\\t\\t\\t\\t\\t\\t\\tVia Bhubaneswar\\n\\t\\t\\t\\t\\t\\t\\t\\t\\t\\t\\t\\t'\n",
      " '1-stop\\n\\t\\t\\t\\t\\t\\t\\t\\t\\t\\t\\t\\tVia Ranchi\\n\\t\\t\\t\\t\\t\\t\\t\\t\\t\\t\\t\\t'\n",
      " '1-stop\\n\\t\\t\\t\\t\\t\\t\\t\\t\\t\\t\\t\\tVia IXR\\n\\t\\t\\t\\t\\t\\t\\t\\t\\t\\t\\t\\t'\n",
      " '1-stop\\n\\t\\t\\t\\t\\t\\t\\t\\t\\t\\t\\t\\tVia JGB\\n\\t\\t\\t\\t\\t\\t\\t\\t\\t\\t\\t\\t'\n",
      " '1-stop\\n\\t\\t\\t\\t\\t\\t\\t\\t\\t\\t\\t\\tVia BBI\\n\\t\\t\\t\\t\\t\\t\\t\\t\\t\\t\\t\\t'\n",
      " '1-stop\\n\\t\\t\\t\\t\\t\\t\\t\\t\\t\\t\\t\\tVia Mysore\\n\\t\\t\\t\\t\\t\\t\\t\\t\\t\\t\\t\\t']\n",
      "\n",
      "arr_time: 266 unique values\n",
      "\n",
      "to: ['Mumbai' 'Bangalore' 'Kolkata' 'Hyderabad' 'Chennai' 'Delhi']\n",
      "\n",
      "price: 9819 unique values\n",
      "\n"
     ]
    }
   ],
   "source": [
    "# Printing the unique values ​​of individual columns in df_economy\n",
    "for col in df_economy.columns:\n",
    "    if len(df_economy[col].unique()) > 50:\n",
    "        print(f'{col}: {len(df_economy[col].unique())} unique values')\n",
    "    else:\n",
    "        print(f'{col}: {df_economy[col].unique()}')\n",
    "    print()"
   ]
  },
  {
   "cell_type": "code",
   "execution_count": 189,
   "metadata": {},
   "outputs": [
    {
     "data": {
      "text/html": [
       "<div>\n",
       "<style scoped>\n",
       "    .dataframe tbody tr th:only-of-type {\n",
       "        vertical-align: middle;\n",
       "    }\n",
       "\n",
       "    .dataframe tbody tr th {\n",
       "        vertical-align: top;\n",
       "    }\n",
       "\n",
       "    .dataframe thead th {\n",
       "        text-align: right;\n",
       "    }\n",
       "</style>\n",
       "<table border=\"1\" class=\"dataframe\">\n",
       "  <thead>\n",
       "    <tr style=\"text-align: right;\">\n",
       "      <th></th>\n",
       "      <th>count</th>\n",
       "    </tr>\n",
       "    <tr>\n",
       "      <th>airline</th>\n",
       "      <th></th>\n",
       "    </tr>\n",
       "  </thead>\n",
       "  <tbody>\n",
       "    <tr>\n",
       "      <th>Vistara</th>\n",
       "      <td>67270</td>\n",
       "    </tr>\n",
       "    <tr>\n",
       "      <th>Air India</th>\n",
       "      <td>47996</td>\n",
       "    </tr>\n",
       "    <tr>\n",
       "      <th>Indigo</th>\n",
       "      <td>43120</td>\n",
       "    </tr>\n",
       "    <tr>\n",
       "      <th>GO FIRST</th>\n",
       "      <td>23177</td>\n",
       "    </tr>\n",
       "    <tr>\n",
       "      <th>AirAsia</th>\n",
       "      <td>16098</td>\n",
       "    </tr>\n",
       "    <tr>\n",
       "      <th>SpiceJet</th>\n",
       "      <td>9011</td>\n",
       "    </tr>\n",
       "    <tr>\n",
       "      <th>StarAir</th>\n",
       "      <td>61</td>\n",
       "    </tr>\n",
       "    <tr>\n",
       "      <th>Trujet</th>\n",
       "      <td>41</td>\n",
       "    </tr>\n",
       "  </tbody>\n",
       "</table>\n",
       "</div>"
      ],
      "text/plain": [
       "           count\n",
       "airline         \n",
       "Vistara    67270\n",
       "Air India  47996\n",
       "Indigo     43120\n",
       "GO FIRST   23177\n",
       "AirAsia    16098\n",
       "SpiceJet    9011\n",
       "StarAir       61\n",
       "Trujet        41"
      ]
     },
     "execution_count": 189,
     "metadata": {},
     "output_type": "execute_result"
    }
   ],
   "source": [
    "# Schedule of individual airlines\n",
    "df_economy['airline'].value_counts().to_frame()"
   ]
  },
  {
   "cell_type": "code",
   "execution_count": 190,
   "metadata": {},
   "outputs": [
    {
     "data": {
      "image/png": "[encoded data removed]",
      "text/plain": [
       "<Figure size 640x480 with 1 Axes>"
      ]
     },
     "metadata": {},
     "output_type": "display_data"
    }
   ],
   "source": [
    "# Schedule of individual airline in the form of a histogram\n",
    "plt.hist(df_economy['airline'],\n",
    "         density=False,\n",
    "         histtype='bar',\n",
    "         color='b',\n",
    "         edgecolor='k',\n",
    "         alpha=0.7,\n",
    "         bins=len(df_economy['airline'].unique()))\n",
    "plt.show()"
   ]
  },
  {
   "cell_type": "code",
   "execution_count": 191,
   "metadata": {},
   "outputs": [
    {
     "data": {
      "text/html": [
       "<div>\n",
       "<style scoped>\n",
       "    .dataframe tbody tr th:only-of-type {\n",
       "        vertical-align: middle;\n",
       "    }\n",
       "\n",
       "    .dataframe tbody tr th {\n",
       "        vertical-align: top;\n",
       "    }\n",
       "\n",
       "    .dataframe thead th {\n",
       "        text-align: right;\n",
       "    }\n",
       "</style>\n",
       "<table border=\"1\" class=\"dataframe\">\n",
       "  <thead>\n",
       "    <tr style=\"text-align: right;\">\n",
       "      <th></th>\n",
       "      <th>count</th>\n",
       "    </tr>\n",
       "    <tr>\n",
       "      <th>ch_code</th>\n",
       "      <th></th>\n",
       "    </tr>\n",
       "  </thead>\n",
       "  <tbody>\n",
       "    <tr>\n",
       "      <th>UK</th>\n",
       "      <td>67270</td>\n",
       "    </tr>\n",
       "    <tr>\n",
       "      <th>AI</th>\n",
       "      <td>47996</td>\n",
       "    </tr>\n",
       "    <tr>\n",
       "      <th>6E</th>\n",
       "      <td>43120</td>\n",
       "    </tr>\n",
       "    <tr>\n",
       "      <th>G8</th>\n",
       "      <td>23177</td>\n",
       "    </tr>\n",
       "    <tr>\n",
       "      <th>I5</th>\n",
       "      <td>16098</td>\n",
       "    </tr>\n",
       "    <tr>\n",
       "      <th>SG</th>\n",
       "      <td>9011</td>\n",
       "    </tr>\n",
       "    <tr>\n",
       "      <th>S5</th>\n",
       "      <td>61</td>\n",
       "    </tr>\n",
       "    <tr>\n",
       "      <th>2T</th>\n",
       "      <td>41</td>\n",
       "    </tr>\n",
       "  </tbody>\n",
       "</table>\n",
       "</div>"
      ],
      "text/plain": [
       "         count\n",
       "ch_code       \n",
       "UK       67270\n",
       "AI       47996\n",
       "6E       43120\n",
       "G8       23177\n",
       "I5       16098\n",
       "SG        9011\n",
       "S5          61\n",
       "2T          41"
      ]
     },
     "execution_count": 191,
     "metadata": {},
     "output_type": "execute_result"
    }
   ],
   "source": [
    "# Schedule of individual ch_code\n",
    "df_economy['ch_code'].value_counts().to_frame()"
   ]
  },
  {
   "cell_type": "code",
   "execution_count": 192,
   "metadata": {},
   "outputs": [
    {
     "data": {
      "image/png": "[encoded data removed]",
      "text/plain": [
       "<Figure size 640x480 with 1 Axes>"
      ]
     },
     "metadata": {},
     "output_type": "display_data"
    }
   ],
   "source": [
    "# Schedule of individual ch_code in the form of a histogram\n",
    "plt.hist(df_economy['ch_code'],\n",
    "         density=False,\n",
    "         histtype='bar',\n",
    "         color='b',\n",
    "         edgecolor='k',\n",
    "         alpha=0.7,\n",
    "         bins=len(df_economy['ch_code'].unique()))\n",
    "plt.show()"
   ]
  },
  {
   "cell_type": "code",
   "execution_count": 193,
   "metadata": {},
   "outputs": [
    {
     "data": {
      "text/html": [
       "<div>\n",
       "<style scoped>\n",
       "    .dataframe tbody tr th:only-of-type {\n",
       "        vertical-align: middle;\n",
       "    }\n",
       "\n",
       "    .dataframe tbody tr th {\n",
       "        vertical-align: top;\n",
       "    }\n",
       "\n",
       "    .dataframe thead th {\n",
       "        text-align: right;\n",
       "    }\n",
       "</style>\n",
       "<table border=\"1\" class=\"dataframe\">\n",
       "  <thead>\n",
       "    <tr style=\"text-align: right;\">\n",
       "      <th></th>\n",
       "      <th>count</th>\n",
       "    </tr>\n",
       "    <tr>\n",
       "      <th>from</th>\n",
       "      <th></th>\n",
       "    </tr>\n",
       "  </thead>\n",
       "  <tbody>\n",
       "    <tr>\n",
       "      <th>Delhi</th>\n",
       "      <td>43029</td>\n",
       "    </tr>\n",
       "    <tr>\n",
       "      <th>Mumbai</th>\n",
       "      <td>41045</td>\n",
       "    </tr>\n",
       "    <tr>\n",
       "      <th>Bangalore</th>\n",
       "      <td>35665</td>\n",
       "    </tr>\n",
       "    <tr>\n",
       "      <th>Kolkata</th>\n",
       "      <td>32874</td>\n",
       "    </tr>\n",
       "    <tr>\n",
       "      <th>Hyderabad</th>\n",
       "      <td>27990</td>\n",
       "    </tr>\n",
       "    <tr>\n",
       "      <th>Chennai</th>\n",
       "      <td>26171</td>\n",
       "    </tr>\n",
       "  </tbody>\n",
       "</table>\n",
       "</div>"
      ],
      "text/plain": [
       "           count\n",
       "from            \n",
       "Delhi      43029\n",
       "Mumbai     41045\n",
       "Bangalore  35665\n",
       "Kolkata    32874\n",
       "Hyderabad  27990\n",
       "Chennai    26171"
      ]
     },
     "execution_count": 193,
     "metadata": {},
     "output_type": "execute_result"
    }
   ],
   "source": [
    "# Schedule of individual from\n",
    "df_economy['from'].value_counts().to_frame()"
   ]
  },
  {
   "cell_type": "code",
   "execution_count": 194,
   "metadata": {},
   "outputs": [
    {
     "data": {
      "image/png": "[encoded data removed]",
      "text/plain": [
       "<Figure size 640x480 with 1 Axes>"
      ]
     },
     "metadata": {},
     "output_type": "display_data"
    }
   ],
   "source": [
    "# Schedule of individual from in the form of a histogram\n",
    "plt.hist(df_economy['from'],\n",
    "         density=False,\n",
    "         histtype='bar',\n",
    "         color='b',\n",
    "         edgecolor='k',\n",
    "         alpha=0.7,\n",
    "         bins=len(df_economy['from'].unique()))\n",
    "plt.show()"
   ]
  },
  {
   "cell_type": "code",
   "execution_count": 195,
   "metadata": {},
   "outputs": [
    {
     "data": {
      "text/html": [
       "<div>\n",
       "<style scoped>\n",
       "    .dataframe tbody tr th:only-of-type {\n",
       "        vertical-align: middle;\n",
       "    }\n",
       "\n",
       "    .dataframe tbody tr th {\n",
       "        vertical-align: top;\n",
       "    }\n",
       "\n",
       "    .dataframe thead th {\n",
       "        text-align: right;\n",
       "    }\n",
       "</style>\n",
       "<table border=\"1\" class=\"dataframe\">\n",
       "  <thead>\n",
       "    <tr style=\"text-align: right;\">\n",
       "      <th></th>\n",
       "      <th>count</th>\n",
       "    </tr>\n",
       "    <tr>\n",
       "      <th>to</th>\n",
       "      <th></th>\n",
       "    </tr>\n",
       "  </thead>\n",
       "  <tbody>\n",
       "    <tr>\n",
       "      <th>Delhi</th>\n",
       "      <td>40654</td>\n",
       "    </tr>\n",
       "    <tr>\n",
       "      <th>Mumbai</th>\n",
       "      <td>40118</td>\n",
       "    </tr>\n",
       "    <tr>\n",
       "      <th>Bangalore</th>\n",
       "      <td>34914</td>\n",
       "    </tr>\n",
       "    <tr>\n",
       "      <th>Kolkata</th>\n",
       "      <td>34777</td>\n",
       "    </tr>\n",
       "    <tr>\n",
       "      <th>Hyderabad</th>\n",
       "      <td>29101</td>\n",
       "    </tr>\n",
       "    <tr>\n",
       "      <th>Chennai</th>\n",
       "      <td>27210</td>\n",
       "    </tr>\n",
       "  </tbody>\n",
       "</table>\n",
       "</div>"
      ],
      "text/plain": [
       "           count\n",
       "to              \n",
       "Delhi      40654\n",
       "Mumbai     40118\n",
       "Bangalore  34914\n",
       "Kolkata    34777\n",
       "Hyderabad  29101\n",
       "Chennai    27210"
      ]
     },
     "execution_count": 195,
     "metadata": {},
     "output_type": "execute_result"
    }
   ],
   "source": [
    "# Schedule of individual to\n",
    "df_economy['to'].value_counts().to_frame()"
   ]
  },
  {
   "cell_type": "code",
   "execution_count": 196,
   "metadata": {},
   "outputs": [
    {
     "data": {
      "image/png": "[encoded data removed]",
      "text/plain": [
       "<Figure size 640x480 with 1 Axes>"
      ]
     },
     "metadata": {},
     "output_type": "display_data"
    }
   ],
   "source": [
    "# Schedule of individual to in the form of a histogram\n",
    "plt.hist(df_economy['to'],\n",
    "         density=False,\n",
    "         histtype='bar',\n",
    "         color='b',\n",
    "         edgecolor='k',\n",
    "         alpha=0.7,\n",
    "         bins=len(df_economy['to'].unique()))\n",
    "plt.show()"
   ]
  },
  {
   "cell_type": "markdown",
   "metadata": {},
   "source": [
    "## Missing and duplicates values"
   ]
  },
  {
   "cell_type": "code",
   "execution_count": 46,
   "metadata": {
    "ExecuteTime": {
     "end_time": "2023-10-29T16:11:30.463339910Z",
     "start_time": "2023-10-29T16:11:30.381415643Z"
    }
   },
   "outputs": [
    {
     "data": {
      "text/plain": "False"
     },
     "execution_count": 46,
     "metadata": {},
     "output_type": "execute_result"
    }
   ],
   "source": [
    "# Checking if there are duplicates in table df_clean\n",
    "df_clean.duplicated().any()"
   ]
  },
  {
   "cell_type": "code",
   "execution_count": 198,
   "metadata": {},
   "outputs": [
    {
     "data": {
      "text/html": [
       "<div>\n",
       "<style scoped>\n",
       "    .dataframe tbody tr th:only-of-type {\n",
       "        vertical-align: middle;\n",
       "    }\n",
       "\n",
       "    .dataframe tbody tr th {\n",
       "        vertical-align: top;\n",
       "    }\n",
       "\n",
       "    .dataframe thead th {\n",
       "        text-align: right;\n",
       "    }\n",
       "</style>\n",
       "<table border=\"1\" class=\"dataframe\">\n",
       "  <thead>\n",
       "    <tr style=\"text-align: right;\">\n",
       "      <th></th>\n",
       "      <th>airline</th>\n",
       "      <th>source_city</th>\n",
       "      <th>departure_time</th>\n",
       "      <th>stops</th>\n",
       "      <th>arrival_time</th>\n",
       "      <th>destination_city</th>\n",
       "      <th>class</th>\n",
       "      <th>duration</th>\n",
       "      <th>days_left</th>\n",
       "      <th>price</th>\n",
       "    </tr>\n",
       "  </thead>\n",
       "  <tbody>\n",
       "    <tr>\n",
       "      <th>0</th>\n",
       "      <td>SpiceJet</td>\n",
       "      <td>Delhi</td>\n",
       "      <td>Evening</td>\n",
       "      <td>zero</td>\n",
       "      <td>Night</td>\n",
       "      <td>Mumbai</td>\n",
       "      <td>Economy</td>\n",
       "      <td>2.17</td>\n",
       "      <td>1</td>\n",
       "      <td>5953</td>\n",
       "    </tr>\n",
       "    <tr>\n",
       "      <th>1</th>\n",
       "      <td>SpiceJet</td>\n",
       "      <td>Delhi</td>\n",
       "      <td>Early_Morning</td>\n",
       "      <td>zero</td>\n",
       "      <td>Morning</td>\n",
       "      <td>Mumbai</td>\n",
       "      <td>Economy</td>\n",
       "      <td>2.33</td>\n",
       "      <td>1</td>\n",
       "      <td>5953</td>\n",
       "    </tr>\n",
       "    <tr>\n",
       "      <th>2</th>\n",
       "      <td>AirAsia</td>\n",
       "      <td>Delhi</td>\n",
       "      <td>Early_Morning</td>\n",
       "      <td>zero</td>\n",
       "      <td>Early_Morning</td>\n",
       "      <td>Mumbai</td>\n",
       "      <td>Economy</td>\n",
       "      <td>2.17</td>\n",
       "      <td>1</td>\n",
       "      <td>5956</td>\n",
       "    </tr>\n",
       "    <tr>\n",
       "      <th>3</th>\n",
       "      <td>Vistara</td>\n",
       "      <td>Delhi</td>\n",
       "      <td>Morning</td>\n",
       "      <td>zero</td>\n",
       "      <td>Afternoon</td>\n",
       "      <td>Mumbai</td>\n",
       "      <td>Economy</td>\n",
       "      <td>2.25</td>\n",
       "      <td>1</td>\n",
       "      <td>5955</td>\n",
       "    </tr>\n",
       "    <tr>\n",
       "      <th>4</th>\n",
       "      <td>Vistara</td>\n",
       "      <td>Delhi</td>\n",
       "      <td>Morning</td>\n",
       "      <td>zero</td>\n",
       "      <td>Morning</td>\n",
       "      <td>Mumbai</td>\n",
       "      <td>Economy</td>\n",
       "      <td>2.33</td>\n",
       "      <td>1</td>\n",
       "      <td>5955</td>\n",
       "    </tr>\n",
       "    <tr>\n",
       "      <th>...</th>\n",
       "      <td>...</td>\n",
       "      <td>...</td>\n",
       "      <td>...</td>\n",
       "      <td>...</td>\n",
       "      <td>...</td>\n",
       "      <td>...</td>\n",
       "      <td>...</td>\n",
       "      <td>...</td>\n",
       "      <td>...</td>\n",
       "      <td>...</td>\n",
       "    </tr>\n",
       "    <tr>\n",
       "      <th>300148</th>\n",
       "      <td>Vistara</td>\n",
       "      <td>Chennai</td>\n",
       "      <td>Morning</td>\n",
       "      <td>one</td>\n",
       "      <td>Evening</td>\n",
       "      <td>Hyderabad</td>\n",
       "      <td>Business</td>\n",
       "      <td>10.08</td>\n",
       "      <td>49</td>\n",
       "      <td>69265</td>\n",
       "    </tr>\n",
       "    <tr>\n",
       "      <th>300149</th>\n",
       "      <td>Vistara</td>\n",
       "      <td>Chennai</td>\n",
       "      <td>Afternoon</td>\n",
       "      <td>one</td>\n",
       "      <td>Night</td>\n",
       "      <td>Hyderabad</td>\n",
       "      <td>Business</td>\n",
       "      <td>10.42</td>\n",
       "      <td>49</td>\n",
       "      <td>77105</td>\n",
       "    </tr>\n",
       "    <tr>\n",
       "      <th>300150</th>\n",
       "      <td>Vistara</td>\n",
       "      <td>Chennai</td>\n",
       "      <td>Early_Morning</td>\n",
       "      <td>one</td>\n",
       "      <td>Night</td>\n",
       "      <td>Hyderabad</td>\n",
       "      <td>Business</td>\n",
       "      <td>13.83</td>\n",
       "      <td>49</td>\n",
       "      <td>79099</td>\n",
       "    </tr>\n",
       "    <tr>\n",
       "      <th>300151</th>\n",
       "      <td>Vistara</td>\n",
       "      <td>Chennai</td>\n",
       "      <td>Early_Morning</td>\n",
       "      <td>one</td>\n",
       "      <td>Evening</td>\n",
       "      <td>Hyderabad</td>\n",
       "      <td>Business</td>\n",
       "      <td>10.00</td>\n",
       "      <td>49</td>\n",
       "      <td>81585</td>\n",
       "    </tr>\n",
       "    <tr>\n",
       "      <th>300152</th>\n",
       "      <td>Vistara</td>\n",
       "      <td>Chennai</td>\n",
       "      <td>Morning</td>\n",
       "      <td>one</td>\n",
       "      <td>Evening</td>\n",
       "      <td>Hyderabad</td>\n",
       "      <td>Business</td>\n",
       "      <td>10.08</td>\n",
       "      <td>49</td>\n",
       "      <td>81585</td>\n",
       "    </tr>\n",
       "  </tbody>\n",
       "</table>\n",
       "<p>297940 rows × 10 columns</p>\n",
       "</div>"
      ],
      "text/plain": [
       "         airline source_city departure_time stops   arrival_time  \\\n",
       "0       SpiceJet       Delhi        Evening  zero          Night   \n",
       "1       SpiceJet       Delhi  Early_Morning  zero        Morning   \n",
       "2        AirAsia       Delhi  Early_Morning  zero  Early_Morning   \n",
       "3        Vistara       Delhi        Morning  zero      Afternoon   \n",
       "4        Vistara       Delhi        Morning  zero        Morning   \n",
       "...          ...         ...            ...   ...            ...   \n",
       "300148   Vistara     Chennai        Morning   one        Evening   \n",
       "300149   Vistara     Chennai      Afternoon   one          Night   \n",
       "300150   Vistara     Chennai  Early_Morning   one          Night   \n",
       "300151   Vistara     Chennai  Early_Morning   one        Evening   \n",
       "300152   Vistara     Chennai        Morning   one        Evening   \n",
       "\n",
       "       destination_city     class  duration  days_left  price  \n",
       "0                Mumbai   Economy      2.17          1   5953  \n",
       "1                Mumbai   Economy      2.33          1   5953  \n",
       "2                Mumbai   Economy      2.17          1   5956  \n",
       "3                Mumbai   Economy      2.25          1   5955  \n",
       "4                Mumbai   Economy      2.33          1   5955  \n",
       "...                 ...       ...       ...        ...    ...  \n",
       "300148        Hyderabad  Business     10.08         49  69265  \n",
       "300149        Hyderabad  Business     10.42         49  77105  \n",
       "300150        Hyderabad  Business     13.83         49  79099  \n",
       "300151        Hyderabad  Business     10.00         49  81585  \n",
       "300152        Hyderabad  Business     10.08         49  81585  \n",
       "\n",
       "[297940 rows x 10 columns]"
      ]
     },
     "execution_count": 198,
     "metadata": {},
     "output_type": "execute_result"
    }
   ],
   "source": [
    "df_clean.drop_duplicates()"
   ]
  },
  {
   "cell_type": "code",
   "execution_count": 199,
   "metadata": {},
   "outputs": [
    {
     "data": {
      "text/plain": "False"
     },
     "execution_count": 199,
     "metadata": {},
     "output_type": "execute_result"
    }
   ],
   "source": [
    "# Checking if there are duplicates in table df_business\n",
    "df_business.duplicated().any()"
   ]
  },
  {
   "cell_type": "code",
   "execution_count": 200,
   "metadata": {},
   "outputs": [
    {
     "data": {
      "text/plain": "True"
     },
     "execution_count": 200,
     "metadata": {},
     "output_type": "execute_result"
    }
   ],
   "source": [
    "# Checking if there are duplicates in table df_economy\n",
    "df_economy.duplicated().any()"
   ]
  },
  {
   "cell_type": "code",
   "execution_count": 201,
   "metadata": {},
   "outputs": [
    {
     "data": {
      "text/html": [
       "<div>\n",
       "<style scoped>\n",
       "    .dataframe tbody tr th:only-of-type {\n",
       "        vertical-align: middle;\n",
       "    }\n",
       "\n",
       "    .dataframe tbody tr th {\n",
       "        vertical-align: top;\n",
       "    }\n",
       "\n",
       "    .dataframe thead th {\n",
       "        text-align: right;\n",
       "    }\n",
       "</style>\n",
       "<table border=\"1\" class=\"dataframe\">\n",
       "  <thead>\n",
       "    <tr style=\"text-align: right;\">\n",
       "      <th></th>\n",
       "      <th>date</th>\n",
       "      <th>airline</th>\n",
       "      <th>ch_code</th>\n",
       "      <th>dep_time</th>\n",
       "      <th>from</th>\n",
       "      <th>time_taken</th>\n",
       "      <th>stop</th>\n",
       "      <th>arr_time</th>\n",
       "      <th>to</th>\n",
       "      <th>price</th>\n",
       "    </tr>\n",
       "  </thead>\n",
       "  <tbody>\n",
       "    <tr>\n",
       "      <th>0</th>\n",
       "      <td>11-02-2022</td>\n",
       "      <td>SpiceJet</td>\n",
       "      <td>SG</td>\n",
       "      <td>18:55</td>\n",
       "      <td>Delhi</td>\n",
       "      <td>02h 10m</td>\n",
       "      <td>non-stop</td>\n",
       "      <td>21:05</td>\n",
       "      <td>Mumbai</td>\n",
       "      <td>5,953</td>\n",
       "    </tr>\n",
       "    <tr>\n",
       "      <th>1</th>\n",
       "      <td>11-02-2022</td>\n",
       "      <td>SpiceJet</td>\n",
       "      <td>SG</td>\n",
       "      <td>06:20</td>\n",
       "      <td>Delhi</td>\n",
       "      <td>02h 20m</td>\n",
       "      <td>non-stop</td>\n",
       "      <td>08:40</td>\n",
       "      <td>Mumbai</td>\n",
       "      <td>5,953</td>\n",
       "    </tr>\n",
       "    <tr>\n",
       "      <th>2</th>\n",
       "      <td>11-02-2022</td>\n",
       "      <td>AirAsia</td>\n",
       "      <td>I5</td>\n",
       "      <td>04:25</td>\n",
       "      <td>Delhi</td>\n",
       "      <td>02h 10m</td>\n",
       "      <td>non-stop</td>\n",
       "      <td>06:35</td>\n",
       "      <td>Mumbai</td>\n",
       "      <td>5,956</td>\n",
       "    </tr>\n",
       "    <tr>\n",
       "      <th>3</th>\n",
       "      <td>11-02-2022</td>\n",
       "      <td>Vistara</td>\n",
       "      <td>UK</td>\n",
       "      <td>10:20</td>\n",
       "      <td>Delhi</td>\n",
       "      <td>02h 15m</td>\n",
       "      <td>non-stop</td>\n",
       "      <td>12:35</td>\n",
       "      <td>Mumbai</td>\n",
       "      <td>5,955</td>\n",
       "    </tr>\n",
       "    <tr>\n",
       "      <th>4</th>\n",
       "      <td>11-02-2022</td>\n",
       "      <td>Vistara</td>\n",
       "      <td>UK</td>\n",
       "      <td>08:50</td>\n",
       "      <td>Delhi</td>\n",
       "      <td>02h 20m</td>\n",
       "      <td>non-stop</td>\n",
       "      <td>11:10</td>\n",
       "      <td>Mumbai</td>\n",
       "      <td>5,955</td>\n",
       "    </tr>\n",
       "    <tr>\n",
       "      <th>...</th>\n",
       "      <td>...</td>\n",
       "      <td>...</td>\n",
       "      <td>...</td>\n",
       "      <td>...</td>\n",
       "      <td>...</td>\n",
       "      <td>...</td>\n",
       "      <td>...</td>\n",
       "      <td>...</td>\n",
       "      <td>...</td>\n",
       "      <td>...</td>\n",
       "    </tr>\n",
       "    <tr>\n",
       "      <th>206769</th>\n",
       "      <td>31-03-2022</td>\n",
       "      <td>Vistara</td>\n",
       "      <td>UK</td>\n",
       "      <td>07:05</td>\n",
       "      <td>Chennai</td>\n",
       "      <td>13h 50m</td>\n",
       "      <td>1-stop\\n\\t\\t\\t\\t\\t\\t\\t\\t\\t\\t\\t\\t\\n\\t\\t\\t\\t\\t\\t...</td>\n",
       "      <td>20:55</td>\n",
       "      <td>Hyderabad</td>\n",
       "      <td>7,697</td>\n",
       "    </tr>\n",
       "    <tr>\n",
       "      <th>206770</th>\n",
       "      <td>31-03-2022</td>\n",
       "      <td>Vistara</td>\n",
       "      <td>UK</td>\n",
       "      <td>07:05</td>\n",
       "      <td>Chennai</td>\n",
       "      <td>13h 50m</td>\n",
       "      <td>1-stop\\n\\t\\t\\t\\t\\t\\t\\t\\t\\t\\t\\t\\t\\n\\t\\t\\t\\t\\t\\t...</td>\n",
       "      <td>20:55</td>\n",
       "      <td>Hyderabad</td>\n",
       "      <td>7,709</td>\n",
       "    </tr>\n",
       "    <tr>\n",
       "      <th>206771</th>\n",
       "      <td>31-03-2022</td>\n",
       "      <td>Vistara</td>\n",
       "      <td>UK</td>\n",
       "      <td>12:30</td>\n",
       "      <td>Chennai</td>\n",
       "      <td>20h 35m</td>\n",
       "      <td>1-stop\\n\\t\\t\\t\\t\\t\\t\\t\\t\\t\\t\\t\\t\\n\\t\\t\\t\\t\\t\\t...</td>\n",
       "      <td>09:05</td>\n",
       "      <td>Hyderabad</td>\n",
       "      <td>8,640</td>\n",
       "    </tr>\n",
       "    <tr>\n",
       "      <th>206772</th>\n",
       "      <td>31-03-2022</td>\n",
       "      <td>Vistara</td>\n",
       "      <td>UK</td>\n",
       "      <td>09:45</td>\n",
       "      <td>Chennai</td>\n",
       "      <td>23h 20m</td>\n",
       "      <td>1-stop\\n\\t\\t\\t\\t\\t\\t\\t\\t\\t\\t\\t\\t\\n\\t\\t\\t\\t\\t\\t...</td>\n",
       "      <td>09:05</td>\n",
       "      <td>Hyderabad</td>\n",
       "      <td>8,640</td>\n",
       "    </tr>\n",
       "    <tr>\n",
       "      <th>206773</th>\n",
       "      <td>31-03-2022</td>\n",
       "      <td>Vistara</td>\n",
       "      <td>UK</td>\n",
       "      <td>20:30</td>\n",
       "      <td>Chennai</td>\n",
       "      <td>24h 25m</td>\n",
       "      <td>1-stop\\n\\t\\t\\t\\t\\t\\t\\t\\t\\t\\t\\t\\t\\n\\t\\t\\t\\t\\t\\t...</td>\n",
       "      <td>20:55</td>\n",
       "      <td>Hyderabad</td>\n",
       "      <td>8,640</td>\n",
       "    </tr>\n",
       "  </tbody>\n",
       "</table>\n",
       "<p>206699 rows × 10 columns</p>\n",
       "</div>"
      ],
      "text/plain": [
       "              date   airline ch_code dep_time     from time_taken  \\\n",
       "0       11-02-2022  SpiceJet      SG    18:55    Delhi    02h 10m   \n",
       "1       11-02-2022  SpiceJet      SG    06:20    Delhi    02h 20m   \n",
       "2       11-02-2022   AirAsia      I5    04:25    Delhi    02h 10m   \n",
       "3       11-02-2022   Vistara      UK    10:20    Delhi    02h 15m   \n",
       "4       11-02-2022   Vistara      UK    08:50    Delhi    02h 20m   \n",
       "...            ...       ...     ...      ...      ...        ...   \n",
       "206769  31-03-2022   Vistara      UK    07:05  Chennai    13h 50m   \n",
       "206770  31-03-2022   Vistara      UK    07:05  Chennai    13h 50m   \n",
       "206771  31-03-2022   Vistara      UK    12:30  Chennai    20h 35m   \n",
       "206772  31-03-2022   Vistara      UK    09:45  Chennai    23h 20m   \n",
       "206773  31-03-2022   Vistara      UK    20:30  Chennai    24h 25m   \n",
       "\n",
       "                                                     stop arr_time         to  \\\n",
       "0                                               non-stop     21:05     Mumbai   \n",
       "1                                               non-stop     08:40     Mumbai   \n",
       "2                                               non-stop     06:35     Mumbai   \n",
       "3                                               non-stop     12:35     Mumbai   \n",
       "4                                               non-stop     11:10     Mumbai   \n",
       "...                                                   ...      ...        ...   \n",
       "206769  1-stop\\n\\t\\t\\t\\t\\t\\t\\t\\t\\t\\t\\t\\t\\n\\t\\t\\t\\t\\t\\t...    20:55  Hyderabad   \n",
       "206770  1-stop\\n\\t\\t\\t\\t\\t\\t\\t\\t\\t\\t\\t\\t\\n\\t\\t\\t\\t\\t\\t...    20:55  Hyderabad   \n",
       "206771  1-stop\\n\\t\\t\\t\\t\\t\\t\\t\\t\\t\\t\\t\\t\\n\\t\\t\\t\\t\\t\\t...    09:05  Hyderabad   \n",
       "206772  1-stop\\n\\t\\t\\t\\t\\t\\t\\t\\t\\t\\t\\t\\t\\n\\t\\t\\t\\t\\t\\t...    09:05  Hyderabad   \n",
       "206773  1-stop\\n\\t\\t\\t\\t\\t\\t\\t\\t\\t\\t\\t\\t\\n\\t\\t\\t\\t\\t\\t...    20:55  Hyderabad   \n",
       "\n",
       "        price  \n",
       "0       5,953  \n",
       "1       5,953  \n",
       "2       5,956  \n",
       "3       5,955  \n",
       "4       5,955  \n",
       "...       ...  \n",
       "206769  7,697  \n",
       "206770  7,709  \n",
       "206771  8,640  \n",
       "206772  8,640  \n",
       "206773  8,640  \n",
       "\n",
       "[206699 rows x 10 columns]"
      ]
     },
     "execution_count": 201,
     "metadata": {},
     "output_type": "execute_result"
    }
   ],
   "source": [
    "# Removing duplicates in df_economy (2)\n",
    "df_economy.drop_duplicates()"
   ]
  },
  {
   "cell_type": "markdown",
   "metadata": {},
   "source": [
    "## Standardise and normalize data"
   ]
  },
  {
   "cell_type": "markdown",
   "metadata": {},
   "source": [
    "## Encoding categorical variables"
   ]
  },
  {
   "cell_type": "code",
   "execution_count": 50,
   "outputs": [
    {
     "data": {
      "text/plain": "        Unnamed: 0   flight  duration  days_left  price  airline_AirAsia  \\\n0                0  SG-8709      2.17          1   5953                0   \n1                1  SG-8157      2.33          1   5953                0   \n2                2   I5-764      2.17          1   5956                1   \n3                3   UK-995      2.25          1   5955                0   \n4                4   UK-963      2.33          1   5955                0   \n...            ...      ...       ...        ...    ...              ...   \n300148      300148   UK-822     10.08         49  69265                0   \n300149      300149   UK-826     10.42         49  77105                0   \n300150      300150   UK-832     13.83         49  79099                0   \n300151      300151   UK-828     10.00         49  81585                0   \n300152      300152   UK-822     10.08         49  81585                0   \n\n        airline_Air_India  airline_GO_FIRST  airline_Indigo  airline_SpiceJet  \\\n0                       0                 0               0                 1   \n1                       0                 0               0                 1   \n2                       0                 0               0                 0   \n3                       0                 0               0                 0   \n4                       0                 0               0                 0   \n...                   ...               ...             ...               ...   \n300148                  0                 0               0                 0   \n300149                  0                 0               0                 0   \n300150                  0                 0               0                 0   \n300151                  0                 0               0                 0   \n300152                  0                 0               0                 0   \n\n        ...  arrival_time_Morning  arrival_time_Night  \\\n0       ...                     0                   1   \n1       ...                     1                   0   \n2       ...                     0                   0   \n3       ...                     0                   0   \n4       ...                     1                   0   \n...     ...                   ...                 ...   \n300148  ...                     0                   0   \n300149  ...                     0                   1   \n300150  ...                     0                   1   \n300151  ...                     0                   0   \n300152  ...                     0                   0   \n\n        destination_city_Bangalore  destination_city_Chennai  \\\n0                                0                         0   \n1                                0                         0   \n2                                0                         0   \n3                                0                         0   \n4                                0                         0   \n...                            ...                       ...   \n300148                           0                         0   \n300149                           0                         0   \n300150                           0                         0   \n300151                           0                         0   \n300152                           0                         0   \n\n        destination_city_Delhi  destination_city_Hyderabad  \\\n0                            0                           0   \n1                            0                           0   \n2                            0                           0   \n3                            0                           0   \n4                            0                           0   \n...                        ...                         ...   \n300148                       0                           1   \n300149                       0                           1   \n300150                       0                           1   \n300151                       0                           1   \n300152                       0                           1   \n\n        destination_city_Kolkata  destination_city_Mumbai  class_Business  \\\n0                              0                        1               0   \n1                              0                        1               0   \n2                              0                        1               0   \n3                              0                        1               0   \n4                              0                        1               0   \n...                          ...                      ...             ...   \n300148                         0                        0               1   \n300149                         0                        0               1   \n300150                         0                        0               1   \n300151                         0                        0               1   \n300152                         0                        0               1   \n\n        class_Economy  \n0                   1  \n1                   1  \n2                   1  \n3                   1  \n4                   1  \n...               ...  \n300148              0  \n300149              0  \n300150              0  \n300151              0  \n300152              0  \n\n[300153 rows x 40 columns]",
      "text/html": "<div>\n<style scoped>\n    .dataframe tbody tr th:only-of-type {\n        vertical-align: middle;\n    }\n\n    .dataframe tbody tr th {\n        vertical-align: top;\n    }\n\n    .dataframe thead th {\n        text-align: right;\n    }\n</style>\n<table border=\"1\" class=\"dataframe\">\n  <thead>\n    <tr style=\"text-align: right;\">\n      <th></th>\n      <th>Unnamed: 0</th>\n      <th>flight</th>\n      <th>duration</th>\n      <th>days_left</th>\n      <th>price</th>\n      <th>airline_AirAsia</th>\n      <th>airline_Air_India</th>\n      <th>airline_GO_FIRST</th>\n      <th>airline_Indigo</th>\n      <th>airline_SpiceJet</th>\n      <th>...</th>\n      <th>arrival_time_Morning</th>\n      <th>arrival_time_Night</th>\n      <th>destination_city_Bangalore</th>\n      <th>destination_city_Chennai</th>\n      <th>destination_city_Delhi</th>\n      <th>destination_city_Hyderabad</th>\n      <th>destination_city_Kolkata</th>\n      <th>destination_city_Mumbai</th>\n      <th>class_Business</th>\n      <th>class_Economy</th>\n    </tr>\n  </thead>\n  <tbody>\n    <tr>\n      <th>0</th>\n      <td>0</td>\n      <td>SG-8709</td>\n      <td>2.17</td>\n      <td>1</td>\n      <td>5953</td>\n      <td>0</td>\n      <td>0</td>\n      <td>0</td>\n      <td>0</td>\n      <td>1</td>\n      <td>...</td>\n      <td>0</td>\n      <td>1</td>\n      <td>0</td>\n      <td>0</td>\n      <td>0</td>\n      <td>0</td>\n      <td>0</td>\n      <td>1</td>\n      <td>0</td>\n      <td>1</td>\n    </tr>\n    <tr>\n      <th>1</th>\n      <td>1</td>\n      <td>SG-8157</td>\n      <td>2.33</td>\n      <td>1</td>\n      <td>5953</td>\n      <td>0</td>\n      <td>0</td>\n      <td>0</td>\n      <td>0</td>\n      <td>1</td>\n      <td>...</td>\n      <td>1</td>\n      <td>0</td>\n      <td>0</td>\n      <td>0</td>\n      <td>0</td>\n      <td>0</td>\n      <td>0</td>\n      <td>1</td>\n      <td>0</td>\n      <td>1</td>\n    </tr>\n    <tr>\n      <th>2</th>\n      <td>2</td>\n      <td>I5-764</td>\n      <td>2.17</td>\n      <td>1</td>\n      <td>5956</td>\n      <td>1</td>\n      <td>0</td>\n      <td>0</td>\n      <td>0</td>\n      <td>0</td>\n      <td>...</td>\n      <td>0</td>\n      <td>0</td>\n      <td>0</td>\n      <td>0</td>\n      <td>0</td>\n      <td>0</td>\n      <td>0</td>\n      <td>1</td>\n      <td>0</td>\n      <td>1</td>\n    </tr>\n    <tr>\n      <th>3</th>\n      <td>3</td>\n      <td>UK-995</td>\n      <td>2.25</td>\n      <td>1</td>\n      <td>5955</td>\n      <td>0</td>\n      <td>0</td>\n      <td>0</td>\n      <td>0</td>\n      <td>0</td>\n      <td>...</td>\n      <td>0</td>\n      <td>0</td>\n      <td>0</td>\n      <td>0</td>\n      <td>0</td>\n      <td>0</td>\n      <td>0</td>\n      <td>1</td>\n      <td>0</td>\n      <td>1</td>\n    </tr>\n    <tr>\n      <th>4</th>\n      <td>4</td>\n      <td>UK-963</td>\n      <td>2.33</td>\n      <td>1</td>\n      <td>5955</td>\n      <td>0</td>\n      <td>0</td>\n      <td>0</td>\n      <td>0</td>\n      <td>0</td>\n      <td>...</td>\n      <td>1</td>\n      <td>0</td>\n      <td>0</td>\n      <td>0</td>\n      <td>0</td>\n      <td>0</td>\n      <td>0</td>\n      <td>1</td>\n      <td>0</td>\n      <td>1</td>\n    </tr>\n    <tr>\n      <th>...</th>\n      <td>...</td>\n      <td>...</td>\n      <td>...</td>\n      <td>...</td>\n      <td>...</td>\n      <td>...</td>\n      <td>...</td>\n      <td>...</td>\n      <td>...</td>\n      <td>...</td>\n      <td>...</td>\n      <td>...</td>\n      <td>...</td>\n      <td>...</td>\n      <td>...</td>\n      <td>...</td>\n      <td>...</td>\n      <td>...</td>\n      <td>...</td>\n      <td>...</td>\n      <td>...</td>\n    </tr>\n    <tr>\n      <th>300148</th>\n      <td>300148</td>\n      <td>UK-822</td>\n      <td>10.08</td>\n      <td>49</td>\n      <td>69265</td>\n      <td>0</td>\n      <td>0</td>\n      <td>0</td>\n      <td>0</td>\n      <td>0</td>\n      <td>...</td>\n      <td>0</td>\n      <td>0</td>\n      <td>0</td>\n      <td>0</td>\n      <td>0</td>\n      <td>1</td>\n      <td>0</td>\n      <td>0</td>\n      <td>1</td>\n      <td>0</td>\n    </tr>\n    <tr>\n      <th>300149</th>\n      <td>300149</td>\n      <td>UK-826</td>\n      <td>10.42</td>\n      <td>49</td>\n      <td>77105</td>\n      <td>0</td>\n      <td>0</td>\n      <td>0</td>\n      <td>0</td>\n      <td>0</td>\n      <td>...</td>\n      <td>0</td>\n      <td>1</td>\n      <td>0</td>\n      <td>0</td>\n      <td>0</td>\n      <td>1</td>\n      <td>0</td>\n      <td>0</td>\n      <td>1</td>\n      <td>0</td>\n    </tr>\n    <tr>\n      <th>300150</th>\n      <td>300150</td>\n      <td>UK-832</td>\n      <td>13.83</td>\n      <td>49</td>\n      <td>79099</td>\n      <td>0</td>\n      <td>0</td>\n      <td>0</td>\n      <td>0</td>\n      <td>0</td>\n      <td>...</td>\n      <td>0</td>\n      <td>1</td>\n      <td>0</td>\n      <td>0</td>\n      <td>0</td>\n      <td>1</td>\n      <td>0</td>\n      <td>0</td>\n      <td>1</td>\n      <td>0</td>\n    </tr>\n    <tr>\n      <th>300151</th>\n      <td>300151</td>\n      <td>UK-828</td>\n      <td>10.00</td>\n      <td>49</td>\n      <td>81585</td>\n      <td>0</td>\n      <td>0</td>\n      <td>0</td>\n      <td>0</td>\n      <td>0</td>\n      <td>...</td>\n      <td>0</td>\n      <td>0</td>\n      <td>0</td>\n      <td>0</td>\n      <td>0</td>\n      <td>1</td>\n      <td>0</td>\n      <td>0</td>\n      <td>1</td>\n      <td>0</td>\n    </tr>\n    <tr>\n      <th>300152</th>\n      <td>300152</td>\n      <td>UK-822</td>\n      <td>10.08</td>\n      <td>49</td>\n      <td>81585</td>\n      <td>0</td>\n      <td>0</td>\n      <td>0</td>\n      <td>0</td>\n      <td>0</td>\n      <td>...</td>\n      <td>0</td>\n      <td>0</td>\n      <td>0</td>\n      <td>0</td>\n      <td>0</td>\n      <td>1</td>\n      <td>0</td>\n      <td>0</td>\n      <td>1</td>\n      <td>0</td>\n    </tr>\n  </tbody>\n</table>\n<p>300153 rows × 40 columns</p>\n</div>"
     },
     "execution_count": 50,
     "metadata": {},
     "output_type": "execute_result"
    }
   ],
   "source": [
    "df_clean_encoded = pd.get_dummies(df_clean, columns=['airline', 'source_city', 'departure_time', 'stops', 'arrival_time', 'destination_city', 'class'], dtype=int)\n",
    "df_clean_encoded"
   ],
   "metadata": {
    "collapsed": false,
    "ExecuteTime": {
     "end_time": "2023-10-29T16:11:33.105378235Z",
     "start_time": "2023-10-29T16:11:32.770232712Z"
    }
   }
  },
  {
   "cell_type": "code",
   "execution_count": 51,
   "outputs": [
    {
     "data": {
      "text/plain": "             date  num_code dep_time time_taken arr_time   price  \\\n0      11-02-2022       868    18:00    02h 00m    20:00  25,612   \n1      11-02-2022       624    19:00    02h 15m    21:15  25,612   \n2      11-02-2022       531    20:00    24h 45m    20:45  42,220   \n3      11-02-2022       839    21:25    26h 30m    23:55  44,450   \n4      11-02-2022       544    17:15    06h 40m    23:55  46,690   \n...           ...       ...      ...        ...      ...     ...   \n93482  31-03-2022       822    09:45    10h 05m    19:50  69,265   \n93483  31-03-2022       826    12:30    10h 25m    22:55  77,105   \n93484  31-03-2022       832    07:05    13h 50m    20:55  79,099   \n93485  31-03-2022       828    07:00    10h 00m    17:00  81,585   \n93486  31-03-2022       822    09:45    10h 05m    19:50  81,585   \n\n       airline_Air India  airline_Vistara  ch_code_AI  ch_code_UK  ...  \\\n0                      1                0           1           0  ...   \n1                      1                0           1           0  ...   \n2                      1                0           1           0  ...   \n3                      1                0           1           0  ...   \n4                      1                0           1           0  ...   \n...                  ...              ...         ...         ...  ...   \n93482                  0                1           0           1  ...   \n93483                  0                1           0           1  ...   \n93484                  0                1           0           1  ...   \n93485                  0                1           0           1  ...   \n93486                  0                1           0           1  ...   \n\n       stop_1-stop Via Surat   stop_1-stop Via VTZ   stop_2+-stop  \\\n0                           0                     0             0   \n1                           0                     0             0   \n2                           0                     0             0   \n3                           0                     0             0   \n4                           0                     0             0   \n...                       ...                   ...           ...   \n93482                       0                     0             0   \n93483                       0                     0             0   \n93484                       0                     0             0   \n93485                       0                     0             0   \n93486                       0                     0             0   \n\n       stop_non-stop   to_Bangalore  to_Chennai  to_Delhi  to_Hyderabad  \\\n0                   1             0           0         0             0   \n1                   1             0           0         0             0   \n2                   0             0           0         0             0   \n3                   0             0           0         0             0   \n4                   0             0           0         0             0   \n...               ...           ...         ...       ...           ...   \n93482               0             0           0         0             1   \n93483               0             0           0         0             1   \n93484               0             0           0         0             1   \n93485               0             0           0         0             1   \n93486               0             0           0         0             1   \n\n       to_Kolkata  to_Mumbai  \n0               0          1  \n1               0          1  \n2               0          1  \n3               0          1  \n4               0          1  \n...           ...        ...  \n93482           0          0  \n93483           0          0  \n93484           0          0  \n93485           0          0  \n93486           0          0  \n\n[93487 rows x 47 columns]",
      "text/html": "<div>\n<style scoped>\n    .dataframe tbody tr th:only-of-type {\n        vertical-align: middle;\n    }\n\n    .dataframe tbody tr th {\n        vertical-align: top;\n    }\n\n    .dataframe thead th {\n        text-align: right;\n    }\n</style>\n<table border=\"1\" class=\"dataframe\">\n  <thead>\n    <tr style=\"text-align: right;\">\n      <th></th>\n      <th>date</th>\n      <th>num_code</th>\n      <th>dep_time</th>\n      <th>time_taken</th>\n      <th>arr_time</th>\n      <th>price</th>\n      <th>airline_Air India</th>\n      <th>airline_Vistara</th>\n      <th>ch_code_AI</th>\n      <th>ch_code_UK</th>\n      <th>...</th>\n      <th>stop_1-stop Via Surat</th>\n      <th>stop_1-stop Via VTZ</th>\n      <th>stop_2+-stop</th>\n      <th>stop_non-stop</th>\n      <th>to_Bangalore</th>\n      <th>to_Chennai</th>\n      <th>to_Delhi</th>\n      <th>to_Hyderabad</th>\n      <th>to_Kolkata</th>\n      <th>to_Mumbai</th>\n    </tr>\n  </thead>\n  <tbody>\n    <tr>\n      <th>0</th>\n      <td>11-02-2022</td>\n      <td>868</td>\n      <td>18:00</td>\n      <td>02h 00m</td>\n      <td>20:00</td>\n      <td>25,612</td>\n      <td>1</td>\n      <td>0</td>\n      <td>1</td>\n      <td>0</td>\n      <td>...</td>\n      <td>0</td>\n      <td>0</td>\n      <td>0</td>\n      <td>1</td>\n      <td>0</td>\n      <td>0</td>\n      <td>0</td>\n      <td>0</td>\n      <td>0</td>\n      <td>1</td>\n    </tr>\n    <tr>\n      <th>1</th>\n      <td>11-02-2022</td>\n      <td>624</td>\n      <td>19:00</td>\n      <td>02h 15m</td>\n      <td>21:15</td>\n      <td>25,612</td>\n      <td>1</td>\n      <td>0</td>\n      <td>1</td>\n      <td>0</td>\n      <td>...</td>\n      <td>0</td>\n      <td>0</td>\n      <td>0</td>\n      <td>1</td>\n      <td>0</td>\n      <td>0</td>\n      <td>0</td>\n      <td>0</td>\n      <td>0</td>\n      <td>1</td>\n    </tr>\n    <tr>\n      <th>2</th>\n      <td>11-02-2022</td>\n      <td>531</td>\n      <td>20:00</td>\n      <td>24h 45m</td>\n      <td>20:45</td>\n      <td>42,220</td>\n      <td>1</td>\n      <td>0</td>\n      <td>1</td>\n      <td>0</td>\n      <td>...</td>\n      <td>0</td>\n      <td>0</td>\n      <td>0</td>\n      <td>0</td>\n      <td>0</td>\n      <td>0</td>\n      <td>0</td>\n      <td>0</td>\n      <td>0</td>\n      <td>1</td>\n    </tr>\n    <tr>\n      <th>3</th>\n      <td>11-02-2022</td>\n      <td>839</td>\n      <td>21:25</td>\n      <td>26h 30m</td>\n      <td>23:55</td>\n      <td>44,450</td>\n      <td>1</td>\n      <td>0</td>\n      <td>1</td>\n      <td>0</td>\n      <td>...</td>\n      <td>0</td>\n      <td>0</td>\n      <td>0</td>\n      <td>0</td>\n      <td>0</td>\n      <td>0</td>\n      <td>0</td>\n      <td>0</td>\n      <td>0</td>\n      <td>1</td>\n    </tr>\n    <tr>\n      <th>4</th>\n      <td>11-02-2022</td>\n      <td>544</td>\n      <td>17:15</td>\n      <td>06h 40m</td>\n      <td>23:55</td>\n      <td>46,690</td>\n      <td>1</td>\n      <td>0</td>\n      <td>1</td>\n      <td>0</td>\n      <td>...</td>\n      <td>0</td>\n      <td>0</td>\n      <td>0</td>\n      <td>0</td>\n      <td>0</td>\n      <td>0</td>\n      <td>0</td>\n      <td>0</td>\n      <td>0</td>\n      <td>1</td>\n    </tr>\n    <tr>\n      <th>...</th>\n      <td>...</td>\n      <td>...</td>\n      <td>...</td>\n      <td>...</td>\n      <td>...</td>\n      <td>...</td>\n      <td>...</td>\n      <td>...</td>\n      <td>...</td>\n      <td>...</td>\n      <td>...</td>\n      <td>...</td>\n      <td>...</td>\n      <td>...</td>\n      <td>...</td>\n      <td>...</td>\n      <td>...</td>\n      <td>...</td>\n      <td>...</td>\n      <td>...</td>\n      <td>...</td>\n    </tr>\n    <tr>\n      <th>93482</th>\n      <td>31-03-2022</td>\n      <td>822</td>\n      <td>09:45</td>\n      <td>10h 05m</td>\n      <td>19:50</td>\n      <td>69,265</td>\n      <td>0</td>\n      <td>1</td>\n      <td>0</td>\n      <td>1</td>\n      <td>...</td>\n      <td>0</td>\n      <td>0</td>\n      <td>0</td>\n      <td>0</td>\n      <td>0</td>\n      <td>0</td>\n      <td>0</td>\n      <td>1</td>\n      <td>0</td>\n      <td>0</td>\n    </tr>\n    <tr>\n      <th>93483</th>\n      <td>31-03-2022</td>\n      <td>826</td>\n      <td>12:30</td>\n      <td>10h 25m</td>\n      <td>22:55</td>\n      <td>77,105</td>\n      <td>0</td>\n      <td>1</td>\n      <td>0</td>\n      <td>1</td>\n      <td>...</td>\n      <td>0</td>\n      <td>0</td>\n      <td>0</td>\n      <td>0</td>\n      <td>0</td>\n      <td>0</td>\n      <td>0</td>\n      <td>1</td>\n      <td>0</td>\n      <td>0</td>\n    </tr>\n    <tr>\n      <th>93484</th>\n      <td>31-03-2022</td>\n      <td>832</td>\n      <td>07:05</td>\n      <td>13h 50m</td>\n      <td>20:55</td>\n      <td>79,099</td>\n      <td>0</td>\n      <td>1</td>\n      <td>0</td>\n      <td>1</td>\n      <td>...</td>\n      <td>0</td>\n      <td>0</td>\n      <td>0</td>\n      <td>0</td>\n      <td>0</td>\n      <td>0</td>\n      <td>0</td>\n      <td>1</td>\n      <td>0</td>\n      <td>0</td>\n    </tr>\n    <tr>\n      <th>93485</th>\n      <td>31-03-2022</td>\n      <td>828</td>\n      <td>07:00</td>\n      <td>10h 00m</td>\n      <td>17:00</td>\n      <td>81,585</td>\n      <td>0</td>\n      <td>1</td>\n      <td>0</td>\n      <td>1</td>\n      <td>...</td>\n      <td>0</td>\n      <td>0</td>\n      <td>0</td>\n      <td>0</td>\n      <td>0</td>\n      <td>0</td>\n      <td>0</td>\n      <td>1</td>\n      <td>0</td>\n      <td>0</td>\n    </tr>\n    <tr>\n      <th>93486</th>\n      <td>31-03-2022</td>\n      <td>822</td>\n      <td>09:45</td>\n      <td>10h 05m</td>\n      <td>19:50</td>\n      <td>81,585</td>\n      <td>0</td>\n      <td>1</td>\n      <td>0</td>\n      <td>1</td>\n      <td>...</td>\n      <td>0</td>\n      <td>0</td>\n      <td>0</td>\n      <td>0</td>\n      <td>0</td>\n      <td>0</td>\n      <td>0</td>\n      <td>1</td>\n      <td>0</td>\n      <td>0</td>\n    </tr>\n  </tbody>\n</table>\n<p>93487 rows × 47 columns</p>\n</div>"
     },
     "execution_count": 51,
     "metadata": {},
     "output_type": "execute_result"
    }
   ],
   "source": [
    "df_business_encoded = pd.get_dummies(df_business, columns=['airline', 'ch_code', 'from', 'stop', 'to'], dtype=int)\n",
    "df_business_encoded"
   ],
   "metadata": {
    "collapsed": false,
    "ExecuteTime": {
     "end_time": "2023-10-29T16:11:34.249758783Z",
     "start_time": "2023-10-29T16:11:34.192328172Z"
    }
   }
  },
  {
   "cell_type": "code",
   "execution_count": 52,
   "outputs": [
    {
     "data": {
      "text/plain": "              date  num_code dep_time time_taken arr_time  price  \\\n0       11-02-2022      8709    18:55    02h 10m    21:05  5,953   \n1       11-02-2022      8157    06:20    02h 20m    08:40  5,953   \n2       11-02-2022       764    04:25    02h 10m    06:35  5,956   \n3       11-02-2022       995    10:20    02h 15m    12:35  5,955   \n4       11-02-2022       963    08:50    02h 20m    11:10  5,955   \n...            ...       ...      ...        ...      ...    ...   \n206769  31-03-2022       832    07:05    13h 50m    20:55  7,697   \n206770  31-03-2022       832    07:05    13h 50m    20:55  7,709   \n206771  31-03-2022       826    12:30    20h 35m    09:05  8,640   \n206772  31-03-2022       822    09:45    23h 20m    09:05  8,640   \n206773  31-03-2022       824    20:30    24h 25m    20:55  8,640   \n\n        airline_Air India  airline_AirAsia  airline_GO FIRST  airline_Indigo  \\\n0                       0                0                 0               0   \n1                       0                0                 0               0   \n2                       0                1                 0               0   \n3                       0                0                 0               0   \n4                       0                0                 0               0   \n...                   ...              ...               ...             ...   \n206769                  0                0                 0               0   \n206770                  0                0                 0               0   \n206771                  0                0                 0               0   \n206772                  0                0                 0               0   \n206773                  0                0                 0               0   \n\n        ...  \\\n0       ...   \n1       ...   \n2       ...   \n3       ...   \n4       ...   \n...     ...   \n206769  ...   \n206770  ...   \n206771  ...   \n206772  ...   \n206773  ...   \n\n        stop_1-stop\\n\\t\\t\\t\\t\\t\\t\\t\\t\\t\\t\\t\\tVia VTZ\\n\\t\\t\\t\\t\\t\\t\\t\\t\\t\\t\\t\\t  \\\n0                                                       0                        \n1                                                       0                        \n2                                                       0                        \n3                                                       0                        \n4                                                       0                        \n...                                                   ...                        \n206769                                                  0                        \n206770                                                  0                        \n206771                                                  0                        \n206772                                                  0                        \n206773                                                  0                        \n\n        stop_1-stop\\n\\t\\t\\t\\t\\t\\t\\t\\t\\t\\t\\t\\tVia Vishakhapatnam\\n\\t\\t\\t\\t\\t\\t\\t\\t\\t\\t\\t\\t  \\\n0                                                       0                                   \n1                                                       0                                   \n2                                                       0                                   \n3                                                       0                                   \n4                                                       0                                   \n...                                                   ...                                   \n206769                                                  0                                   \n206770                                                  0                                   \n206771                                                  0                                   \n206772                                                  0                                   \n206773                                                  0                                   \n\n        stop_2+-stop  stop_non-stop   to_Bangalore  to_Chennai  to_Delhi  \\\n0                  0               1             0           0         0   \n1                  0               1             0           0         0   \n2                  0               1             0           0         0   \n3                  0               1             0           0         0   \n4                  0               1             0           0         0   \n...              ...             ...           ...         ...       ...   \n206769             0               0             0           0         0   \n206770             0               0             0           0         0   \n206771             0               0             0           0         0   \n206772             0               0             0           0         0   \n206773             0               0             0           0         0   \n\n        to_Hyderabad  to_Kolkata  to_Mumbai  \n0                  0           0          1  \n1                  0           0          1  \n2                  0           0          1  \n3                  0           0          1  \n4                  0           0          1  \n...              ...         ...        ...  \n206769             1           0          0  \n206770             1           0          0  \n206771             1           0          0  \n206772             1           0          0  \n206773             1           0          0  \n\n[206774 rows x 71 columns]",
      "text/html": "<div>\n<style scoped>\n    .dataframe tbody tr th:only-of-type {\n        vertical-align: middle;\n    }\n\n    .dataframe tbody tr th {\n        vertical-align: top;\n    }\n\n    .dataframe thead th {\n        text-align: right;\n    }\n</style>\n<table border=\"1\" class=\"dataframe\">\n  <thead>\n    <tr style=\"text-align: right;\">\n      <th></th>\n      <th>date</th>\n      <th>num_code</th>\n      <th>dep_time</th>\n      <th>time_taken</th>\n      <th>arr_time</th>\n      <th>price</th>\n      <th>airline_Air India</th>\n      <th>airline_AirAsia</th>\n      <th>airline_GO FIRST</th>\n      <th>airline_Indigo</th>\n      <th>...</th>\n      <th>stop_1-stop\\n\\t\\t\\t\\t\\t\\t\\t\\t\\t\\t\\t\\tVia VTZ\\n\\t\\t\\t\\t\\t\\t\\t\\t\\t\\t\\t\\t</th>\n      <th>stop_1-stop\\n\\t\\t\\t\\t\\t\\t\\t\\t\\t\\t\\t\\tVia Vishakhapatnam\\n\\t\\t\\t\\t\\t\\t\\t\\t\\t\\t\\t\\t</th>\n      <th>stop_2+-stop</th>\n      <th>stop_non-stop</th>\n      <th>to_Bangalore</th>\n      <th>to_Chennai</th>\n      <th>to_Delhi</th>\n      <th>to_Hyderabad</th>\n      <th>to_Kolkata</th>\n      <th>to_Mumbai</th>\n    </tr>\n  </thead>\n  <tbody>\n    <tr>\n      <th>0</th>\n      <td>11-02-2022</td>\n      <td>8709</td>\n      <td>18:55</td>\n      <td>02h 10m</td>\n      <td>21:05</td>\n      <td>5,953</td>\n      <td>0</td>\n      <td>0</td>\n      <td>0</td>\n      <td>0</td>\n      <td>...</td>\n      <td>0</td>\n      <td>0</td>\n      <td>0</td>\n      <td>1</td>\n      <td>0</td>\n      <td>0</td>\n      <td>0</td>\n      <td>0</td>\n      <td>0</td>\n      <td>1</td>\n    </tr>\n    <tr>\n      <th>1</th>\n      <td>11-02-2022</td>\n      <td>8157</td>\n      <td>06:20</td>\n      <td>02h 20m</td>\n      <td>08:40</td>\n      <td>5,953</td>\n      <td>0</td>\n      <td>0</td>\n      <td>0</td>\n      <td>0</td>\n      <td>...</td>\n      <td>0</td>\n      <td>0</td>\n      <td>0</td>\n      <td>1</td>\n      <td>0</td>\n      <td>0</td>\n      <td>0</td>\n      <td>0</td>\n      <td>0</td>\n      <td>1</td>\n    </tr>\n    <tr>\n      <th>2</th>\n      <td>11-02-2022</td>\n      <td>764</td>\n      <td>04:25</td>\n      <td>02h 10m</td>\n      <td>06:35</td>\n      <td>5,956</td>\n      <td>0</td>\n      <td>1</td>\n      <td>0</td>\n      <td>0</td>\n      <td>...</td>\n      <td>0</td>\n      <td>0</td>\n      <td>0</td>\n      <td>1</td>\n      <td>0</td>\n      <td>0</td>\n      <td>0</td>\n      <td>0</td>\n      <td>0</td>\n      <td>1</td>\n    </tr>\n    <tr>\n      <th>3</th>\n      <td>11-02-2022</td>\n      <td>995</td>\n      <td>10:20</td>\n      <td>02h 15m</td>\n      <td>12:35</td>\n      <td>5,955</td>\n      <td>0</td>\n      <td>0</td>\n      <td>0</td>\n      <td>0</td>\n      <td>...</td>\n      <td>0</td>\n      <td>0</td>\n      <td>0</td>\n      <td>1</td>\n      <td>0</td>\n      <td>0</td>\n      <td>0</td>\n      <td>0</td>\n      <td>0</td>\n      <td>1</td>\n    </tr>\n    <tr>\n      <th>4</th>\n      <td>11-02-2022</td>\n      <td>963</td>\n      <td>08:50</td>\n      <td>02h 20m</td>\n      <td>11:10</td>\n      <td>5,955</td>\n      <td>0</td>\n      <td>0</td>\n      <td>0</td>\n      <td>0</td>\n      <td>...</td>\n      <td>0</td>\n      <td>0</td>\n      <td>0</td>\n      <td>1</td>\n      <td>0</td>\n      <td>0</td>\n      <td>0</td>\n      <td>0</td>\n      <td>0</td>\n      <td>1</td>\n    </tr>\n    <tr>\n      <th>...</th>\n      <td>...</td>\n      <td>...</td>\n      <td>...</td>\n      <td>...</td>\n      <td>...</td>\n      <td>...</td>\n      <td>...</td>\n      <td>...</td>\n      <td>...</td>\n      <td>...</td>\n      <td>...</td>\n      <td>...</td>\n      <td>...</td>\n      <td>...</td>\n      <td>...</td>\n      <td>...</td>\n      <td>...</td>\n      <td>...</td>\n      <td>...</td>\n      <td>...</td>\n      <td>...</td>\n    </tr>\n    <tr>\n      <th>206769</th>\n      <td>31-03-2022</td>\n      <td>832</td>\n      <td>07:05</td>\n      <td>13h 50m</td>\n      <td>20:55</td>\n      <td>7,697</td>\n      <td>0</td>\n      <td>0</td>\n      <td>0</td>\n      <td>0</td>\n      <td>...</td>\n      <td>0</td>\n      <td>0</td>\n      <td>0</td>\n      <td>0</td>\n      <td>0</td>\n      <td>0</td>\n      <td>0</td>\n      <td>1</td>\n      <td>0</td>\n      <td>0</td>\n    </tr>\n    <tr>\n      <th>206770</th>\n      <td>31-03-2022</td>\n      <td>832</td>\n      <td>07:05</td>\n      <td>13h 50m</td>\n      <td>20:55</td>\n      <td>7,709</td>\n      <td>0</td>\n      <td>0</td>\n      <td>0</td>\n      <td>0</td>\n      <td>...</td>\n      <td>0</td>\n      <td>0</td>\n      <td>0</td>\n      <td>0</td>\n      <td>0</td>\n      <td>0</td>\n      <td>0</td>\n      <td>1</td>\n      <td>0</td>\n      <td>0</td>\n    </tr>\n    <tr>\n      <th>206771</th>\n      <td>31-03-2022</td>\n      <td>826</td>\n      <td>12:30</td>\n      <td>20h 35m</td>\n      <td>09:05</td>\n      <td>8,640</td>\n      <td>0</td>\n      <td>0</td>\n      <td>0</td>\n      <td>0</td>\n      <td>...</td>\n      <td>0</td>\n      <td>0</td>\n      <td>0</td>\n      <td>0</td>\n      <td>0</td>\n      <td>0</td>\n      <td>0</td>\n      <td>1</td>\n      <td>0</td>\n      <td>0</td>\n    </tr>\n    <tr>\n      <th>206772</th>\n      <td>31-03-2022</td>\n      <td>822</td>\n      <td>09:45</td>\n      <td>23h 20m</td>\n      <td>09:05</td>\n      <td>8,640</td>\n      <td>0</td>\n      <td>0</td>\n      <td>0</td>\n      <td>0</td>\n      <td>...</td>\n      <td>0</td>\n      <td>0</td>\n      <td>0</td>\n      <td>0</td>\n      <td>0</td>\n      <td>0</td>\n      <td>0</td>\n      <td>1</td>\n      <td>0</td>\n      <td>0</td>\n    </tr>\n    <tr>\n      <th>206773</th>\n      <td>31-03-2022</td>\n      <td>824</td>\n      <td>20:30</td>\n      <td>24h 25m</td>\n      <td>20:55</td>\n      <td>8,640</td>\n      <td>0</td>\n      <td>0</td>\n      <td>0</td>\n      <td>0</td>\n      <td>...</td>\n      <td>0</td>\n      <td>0</td>\n      <td>0</td>\n      <td>0</td>\n      <td>0</td>\n      <td>0</td>\n      <td>0</td>\n      <td>1</td>\n      <td>0</td>\n      <td>0</td>\n    </tr>\n  </tbody>\n</table>\n<p>206774 rows × 71 columns</p>\n</div>"
     },
     "execution_count": 52,
     "metadata": {},
     "output_type": "execute_result"
    }
   ],
   "source": [
    "df_economy_encoded = pd.get_dummies(df_economy, columns=['airline', 'ch_code', 'from', 'stop', 'to'], dtype=int)\n",
    "df_economy_encoded"
   ],
   "metadata": {
    "collapsed": false,
    "ExecuteTime": {
     "end_time": "2023-10-29T16:11:35.425877659Z",
     "start_time": "2023-10-29T16:11:34.954730492Z"
    }
   }
  },
  {
   "cell_type": "markdown",
   "metadata": {},
   "source": [
    "## Outlier data"
   ]
  },
  {
   "cell_type": "markdown",
   "metadata": {},
   "source": [
    "### Removing"
   ]
  },
  {
   "cell_type": "markdown",
   "metadata": {},
   "source": [
    "### Transforming"
   ]
  },
  {
   "cell_type": "markdown",
   "metadata": {},
   "source": [
    "## Data visualization"
   ]
  },
  {
   "cell_type": "markdown",
   "metadata": {},
   "source": [
    "### Name of feature1 [chart/hist/dot etc...]"
   ]
  },
  {
   "cell_type": "markdown",
   "metadata": {},
   "source": [
    "### Name of feature2 [chart/hist/dot etc...]"
   ]
  },
  {
   "cell_type": "markdown",
   "metadata": {},
   "source": [
    "."
   ]
  },
  {
   "cell_type": "markdown",
   "metadata": {},
   "source": [
    "."
   ]
  },
  {
   "cell_type": "markdown",
   "metadata": {},
   "source": [
    "."
   ]
  },
  {
   "cell_type": "markdown",
   "metadata": {},
   "source": [
    "### Name of featureN [chart/hist/dot etc...]"
   ]
  },
  {
   "cell_type": "markdown",
   "metadata": {},
   "source": [
    "## Varble effect on the outcome"
   ]
  },
  {
   "cell_type": "markdown",
   "metadata": {},
   "source": [
    "### Categorical"
   ]
  },
  {
   "cell_type": "markdown",
   "metadata": {},
   "source": [
    "### Numerical"
   ]
  },
  {
   "cell_type": "markdown",
   "metadata": {},
   "source": [
    "## Developing new features"
   ]
  },
  {
   "cell_type": "markdown",
   "metadata": {},
   "source": [
    "## Selecting most important features [not necessary]"
   ]
  }
 ],
 "metadata": {
  "kernelspec": {
   "display_name": "Python 3",
   "language": "python",
   "name": "python3"
  },
  "language_info": {
   "codemirror_mode": {
    "name": "ipython",
    "version": 3
   },
   "file_extension": ".py",
   "mimetype": "text/x-python",
   "name": "python",
   "nbconvert_exporter": "python",
   "pygments_lexer": "ipython3",
   "version": "3.10.8"
  }
 },
 "nbformat": 4,
 "nbformat_minor": 2
}
